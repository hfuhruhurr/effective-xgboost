{
 "cells": [
  {
   "attachments": {},
   "cell_type": "markdown",
   "metadata": {},
   "source": [
    "## Load Data\n",
    "\n",
    "Loading and preparing data is a critical step in the XGBoost modeling process, as it helps to ensure that your model is based on high-quality, relevant data. In this section, we will load the data.\n",
    "\n",
    "The Bank Marketing dataset from UCI is a popular dataset hsfrequently used in machine learning and data science projects. \n",
    "\n",
    "https://archive.ics.uci.edu/ml/datasets/Bank+Marketing"
   ]
  },
  {
   "cell_type": "code",
   "execution_count": 1,
   "metadata": {},
   "outputs": [],
   "source": [
    "import pandas as pd"
   ]
  },
  {
   "cell_type": "code",
   "execution_count": 2,
   "metadata": {},
   "outputs": [],
   "source": [
    "bank = pd.read_csv('bank-additional-full.csv', sep=';')"
   ]
  },
  {
   "cell_type": "code",
   "execution_count": 3,
   "metadata": {},
   "outputs": [
    {
     "data": {
      "text/html": [
       "<div>\n",
       "<style scoped>\n",
       "    .dataframe tbody tr th:only-of-type {\n",
       "        vertical-align: middle;\n",
       "    }\n",
       "\n",
       "    .dataframe tbody tr th {\n",
       "        vertical-align: top;\n",
       "    }\n",
       "\n",
       "    .dataframe thead th {\n",
       "        text-align: right;\n",
       "    }\n",
       "</style>\n",
       "<table border=\"1\" class=\"dataframe\">\n",
       "  <thead>\n",
       "    <tr style=\"text-align: right;\">\n",
       "      <th></th>\n",
       "      <th>age</th>\n",
       "      <th>job</th>\n",
       "      <th>marital</th>\n",
       "      <th>education</th>\n",
       "      <th>default</th>\n",
       "      <th>housing</th>\n",
       "      <th>loan</th>\n",
       "      <th>contact</th>\n",
       "      <th>month</th>\n",
       "      <th>day_of_week</th>\n",
       "      <th>...</th>\n",
       "      <th>campaign</th>\n",
       "      <th>pdays</th>\n",
       "      <th>previous</th>\n",
       "      <th>poutcome</th>\n",
       "      <th>emp.var.rate</th>\n",
       "      <th>cons.price.idx</th>\n",
       "      <th>cons.conf.idx</th>\n",
       "      <th>euribor3m</th>\n",
       "      <th>nr.employed</th>\n",
       "      <th>y</th>\n",
       "    </tr>\n",
       "  </thead>\n",
       "  <tbody>\n",
       "    <tr>\n",
       "      <th>0</th>\n",
       "      <td>56</td>\n",
       "      <td>housemaid</td>\n",
       "      <td>married</td>\n",
       "      <td>basic.4y</td>\n",
       "      <td>no</td>\n",
       "      <td>no</td>\n",
       "      <td>no</td>\n",
       "      <td>telephone</td>\n",
       "      <td>may</td>\n",
       "      <td>mon</td>\n",
       "      <td>...</td>\n",
       "      <td>1</td>\n",
       "      <td>999</td>\n",
       "      <td>0</td>\n",
       "      <td>nonexistent</td>\n",
       "      <td>1.1</td>\n",
       "      <td>93.994</td>\n",
       "      <td>-36.4</td>\n",
       "      <td>4.857</td>\n",
       "      <td>5191.0</td>\n",
       "      <td>no</td>\n",
       "    </tr>\n",
       "    <tr>\n",
       "      <th>1</th>\n",
       "      <td>57</td>\n",
       "      <td>services</td>\n",
       "      <td>married</td>\n",
       "      <td>high.school</td>\n",
       "      <td>unknown</td>\n",
       "      <td>no</td>\n",
       "      <td>no</td>\n",
       "      <td>telephone</td>\n",
       "      <td>may</td>\n",
       "      <td>mon</td>\n",
       "      <td>...</td>\n",
       "      <td>1</td>\n",
       "      <td>999</td>\n",
       "      <td>0</td>\n",
       "      <td>nonexistent</td>\n",
       "      <td>1.1</td>\n",
       "      <td>93.994</td>\n",
       "      <td>-36.4</td>\n",
       "      <td>4.857</td>\n",
       "      <td>5191.0</td>\n",
       "      <td>no</td>\n",
       "    </tr>\n",
       "    <tr>\n",
       "      <th>2</th>\n",
       "      <td>37</td>\n",
       "      <td>services</td>\n",
       "      <td>married</td>\n",
       "      <td>high.school</td>\n",
       "      <td>no</td>\n",
       "      <td>yes</td>\n",
       "      <td>no</td>\n",
       "      <td>telephone</td>\n",
       "      <td>may</td>\n",
       "      <td>mon</td>\n",
       "      <td>...</td>\n",
       "      <td>1</td>\n",
       "      <td>999</td>\n",
       "      <td>0</td>\n",
       "      <td>nonexistent</td>\n",
       "      <td>1.1</td>\n",
       "      <td>93.994</td>\n",
       "      <td>-36.4</td>\n",
       "      <td>4.857</td>\n",
       "      <td>5191.0</td>\n",
       "      <td>no</td>\n",
       "    </tr>\n",
       "    <tr>\n",
       "      <th>3</th>\n",
       "      <td>40</td>\n",
       "      <td>admin.</td>\n",
       "      <td>married</td>\n",
       "      <td>basic.6y</td>\n",
       "      <td>no</td>\n",
       "      <td>no</td>\n",
       "      <td>no</td>\n",
       "      <td>telephone</td>\n",
       "      <td>may</td>\n",
       "      <td>mon</td>\n",
       "      <td>...</td>\n",
       "      <td>1</td>\n",
       "      <td>999</td>\n",
       "      <td>0</td>\n",
       "      <td>nonexistent</td>\n",
       "      <td>1.1</td>\n",
       "      <td>93.994</td>\n",
       "      <td>-36.4</td>\n",
       "      <td>4.857</td>\n",
       "      <td>5191.0</td>\n",
       "      <td>no</td>\n",
       "    </tr>\n",
       "    <tr>\n",
       "      <th>4</th>\n",
       "      <td>56</td>\n",
       "      <td>services</td>\n",
       "      <td>married</td>\n",
       "      <td>high.school</td>\n",
       "      <td>no</td>\n",
       "      <td>no</td>\n",
       "      <td>yes</td>\n",
       "      <td>telephone</td>\n",
       "      <td>may</td>\n",
       "      <td>mon</td>\n",
       "      <td>...</td>\n",
       "      <td>1</td>\n",
       "      <td>999</td>\n",
       "      <td>0</td>\n",
       "      <td>nonexistent</td>\n",
       "      <td>1.1</td>\n",
       "      <td>93.994</td>\n",
       "      <td>-36.4</td>\n",
       "      <td>4.857</td>\n",
       "      <td>5191.0</td>\n",
       "      <td>no</td>\n",
       "    </tr>\n",
       "  </tbody>\n",
       "</table>\n",
       "<p>5 rows × 21 columns</p>\n",
       "</div>"
      ],
      "text/plain": [
       "   age        job  marital    education  default housing loan    contact  \\\n",
       "0   56  housemaid  married     basic.4y       no      no   no  telephone   \n",
       "1   57   services  married  high.school  unknown      no   no  telephone   \n",
       "2   37   services  married  high.school       no     yes   no  telephone   \n",
       "3   40     admin.  married     basic.6y       no      no   no  telephone   \n",
       "4   56   services  married  high.school       no      no  yes  telephone   \n",
       "\n",
       "  month day_of_week  ...  campaign  pdays  previous     poutcome emp.var.rate  \\\n",
       "0   may         mon  ...         1    999         0  nonexistent          1.1   \n",
       "1   may         mon  ...         1    999         0  nonexistent          1.1   \n",
       "2   may         mon  ...         1    999         0  nonexistent          1.1   \n",
       "3   may         mon  ...         1    999         0  nonexistent          1.1   \n",
       "4   may         mon  ...         1    999         0  nonexistent          1.1   \n",
       "\n",
       "   cons.price.idx  cons.conf.idx  euribor3m  nr.employed   y  \n",
       "0          93.994          -36.4      4.857       5191.0  no  \n",
       "1          93.994          -36.4      4.857       5191.0  no  \n",
       "2          93.994          -36.4      4.857       5191.0  no  \n",
       "3          93.994          -36.4      4.857       5191.0  no  \n",
       "4          93.994          -36.4      4.857       5191.0  no  \n",
       "\n",
       "[5 rows x 21 columns]"
      ]
     },
     "execution_count": 3,
     "metadata": {},
     "output_type": "execute_result"
    }
   ],
   "source": [
    "bank.head()"
   ]
  },
  {
   "attachments": {},
   "cell_type": "markdown",
   "metadata": {},
   "source": [
    "Note: The right-most column, `y`, is the target column: whether someone subscribed or not.  That's what we want to predict."
   ]
  },
  {
   "attachments": {},
   "cell_type": "markdown",
   "metadata": {},
   "source": [
    "### Exploring Data"
   ]
  },
  {
   "cell_type": "code",
   "execution_count": 4,
   "metadata": {},
   "outputs": [
    {
     "data": {
      "text/plain": [
       "age                 int64\n",
       "job                object\n",
       "marital            object\n",
       "education          object\n",
       "default            object\n",
       "housing            object\n",
       "loan               object\n",
       "contact            object\n",
       "month              object\n",
       "day_of_week        object\n",
       "duration            int64\n",
       "campaign            int64\n",
       "pdays               int64\n",
       "previous            int64\n",
       "poutcome           object\n",
       "emp.var.rate      float64\n",
       "cons.price.idx    float64\n",
       "cons.conf.idx     float64\n",
       "euribor3m         float64\n",
       "nr.employed       float64\n",
       "y                  object\n",
       "dtype: object"
      ]
     },
     "execution_count": 4,
     "metadata": {},
     "output_type": "execute_result"
    }
   ],
   "source": [
    "bank.dtypes"
   ]
  },
  {
   "cell_type": "code",
   "execution_count": 5,
   "metadata": {},
   "outputs": [
    {
     "name": "stdout",
     "output_type": "stream",
     "text": [
      "41188 21\n"
     ]
    }
   ],
   "source": [
    "n_rows, n_cols = bank.shape\n",
    "print(n_rows, n_cols)"
   ]
  },
  {
   "cell_type": "code",
   "execution_count": 6,
   "metadata": {},
   "outputs": [
    {
     "data": {
      "text/html": [
       "<div>\n",
       "<style scoped>\n",
       "    .dataframe tbody tr th:only-of-type {\n",
       "        vertical-align: middle;\n",
       "    }\n",
       "\n",
       "    .dataframe tbody tr th {\n",
       "        vertical-align: top;\n",
       "    }\n",
       "\n",
       "    .dataframe thead th {\n",
       "        text-align: right;\n",
       "    }\n",
       "</style>\n",
       "<table border=\"1\" class=\"dataframe\">\n",
       "  <thead>\n",
       "    <tr style=\"text-align: right;\">\n",
       "      <th></th>\n",
       "      <th>age</th>\n",
       "      <th>duration</th>\n",
       "      <th>campaign</th>\n",
       "      <th>pdays</th>\n",
       "      <th>previous</th>\n",
       "      <th>emp.var.rate</th>\n",
       "      <th>cons.price.idx</th>\n",
       "      <th>cons.conf.idx</th>\n",
       "      <th>euribor3m</th>\n",
       "      <th>nr.employed</th>\n",
       "    </tr>\n",
       "  </thead>\n",
       "  <tbody>\n",
       "    <tr>\n",
       "      <th>count</th>\n",
       "      <td>41188.00000</td>\n",
       "      <td>41188.000000</td>\n",
       "      <td>41188.000000</td>\n",
       "      <td>41188.000000</td>\n",
       "      <td>41188.000000</td>\n",
       "      <td>41188.000000</td>\n",
       "      <td>41188.000000</td>\n",
       "      <td>41188.000000</td>\n",
       "      <td>41188.000000</td>\n",
       "      <td>41188.000000</td>\n",
       "    </tr>\n",
       "    <tr>\n",
       "      <th>mean</th>\n",
       "      <td>40.02406</td>\n",
       "      <td>258.285010</td>\n",
       "      <td>2.567593</td>\n",
       "      <td>962.475454</td>\n",
       "      <td>0.172963</td>\n",
       "      <td>0.081886</td>\n",
       "      <td>93.575664</td>\n",
       "      <td>-40.502600</td>\n",
       "      <td>3.621291</td>\n",
       "      <td>5167.035911</td>\n",
       "    </tr>\n",
       "    <tr>\n",
       "      <th>std</th>\n",
       "      <td>10.42125</td>\n",
       "      <td>259.279249</td>\n",
       "      <td>2.770014</td>\n",
       "      <td>186.910907</td>\n",
       "      <td>0.494901</td>\n",
       "      <td>1.570960</td>\n",
       "      <td>0.578840</td>\n",
       "      <td>4.628198</td>\n",
       "      <td>1.734447</td>\n",
       "      <td>72.251528</td>\n",
       "    </tr>\n",
       "    <tr>\n",
       "      <th>min</th>\n",
       "      <td>17.00000</td>\n",
       "      <td>0.000000</td>\n",
       "      <td>1.000000</td>\n",
       "      <td>0.000000</td>\n",
       "      <td>0.000000</td>\n",
       "      <td>-3.400000</td>\n",
       "      <td>92.201000</td>\n",
       "      <td>-50.800000</td>\n",
       "      <td>0.634000</td>\n",
       "      <td>4963.600000</td>\n",
       "    </tr>\n",
       "    <tr>\n",
       "      <th>25%</th>\n",
       "      <td>32.00000</td>\n",
       "      <td>102.000000</td>\n",
       "      <td>1.000000</td>\n",
       "      <td>999.000000</td>\n",
       "      <td>0.000000</td>\n",
       "      <td>-1.800000</td>\n",
       "      <td>93.075000</td>\n",
       "      <td>-42.700000</td>\n",
       "      <td>1.344000</td>\n",
       "      <td>5099.100000</td>\n",
       "    </tr>\n",
       "    <tr>\n",
       "      <th>50%</th>\n",
       "      <td>38.00000</td>\n",
       "      <td>180.000000</td>\n",
       "      <td>2.000000</td>\n",
       "      <td>999.000000</td>\n",
       "      <td>0.000000</td>\n",
       "      <td>1.100000</td>\n",
       "      <td>93.749000</td>\n",
       "      <td>-41.800000</td>\n",
       "      <td>4.857000</td>\n",
       "      <td>5191.000000</td>\n",
       "    </tr>\n",
       "    <tr>\n",
       "      <th>75%</th>\n",
       "      <td>47.00000</td>\n",
       "      <td>319.000000</td>\n",
       "      <td>3.000000</td>\n",
       "      <td>999.000000</td>\n",
       "      <td>0.000000</td>\n",
       "      <td>1.400000</td>\n",
       "      <td>93.994000</td>\n",
       "      <td>-36.400000</td>\n",
       "      <td>4.961000</td>\n",
       "      <td>5228.100000</td>\n",
       "    </tr>\n",
       "    <tr>\n",
       "      <th>max</th>\n",
       "      <td>98.00000</td>\n",
       "      <td>4918.000000</td>\n",
       "      <td>56.000000</td>\n",
       "      <td>999.000000</td>\n",
       "      <td>7.000000</td>\n",
       "      <td>1.400000</td>\n",
       "      <td>94.767000</td>\n",
       "      <td>-26.900000</td>\n",
       "      <td>5.045000</td>\n",
       "      <td>5228.100000</td>\n",
       "    </tr>\n",
       "  </tbody>\n",
       "</table>\n",
       "</div>"
      ],
      "text/plain": [
       "               age      duration      campaign         pdays      previous  \\\n",
       "count  41188.00000  41188.000000  41188.000000  41188.000000  41188.000000   \n",
       "mean      40.02406    258.285010      2.567593    962.475454      0.172963   \n",
       "std       10.42125    259.279249      2.770014    186.910907      0.494901   \n",
       "min       17.00000      0.000000      1.000000      0.000000      0.000000   \n",
       "25%       32.00000    102.000000      1.000000    999.000000      0.000000   \n",
       "50%       38.00000    180.000000      2.000000    999.000000      0.000000   \n",
       "75%       47.00000    319.000000      3.000000    999.000000      0.000000   \n",
       "max       98.00000   4918.000000     56.000000    999.000000      7.000000   \n",
       "\n",
       "       emp.var.rate  cons.price.idx  cons.conf.idx     euribor3m   nr.employed  \n",
       "count  41188.000000    41188.000000   41188.000000  41188.000000  41188.000000  \n",
       "mean       0.081886       93.575664     -40.502600      3.621291   5167.035911  \n",
       "std        1.570960        0.578840       4.628198      1.734447     72.251528  \n",
       "min       -3.400000       92.201000     -50.800000      0.634000   4963.600000  \n",
       "25%       -1.800000       93.075000     -42.700000      1.344000   5099.100000  \n",
       "50%        1.100000       93.749000     -41.800000      4.857000   5191.000000  \n",
       "75%        1.400000       93.994000     -36.400000      4.961000   5228.100000  \n",
       "max        1.400000       94.767000     -26.900000      5.045000   5228.100000  "
      ]
     },
     "execution_count": 6,
     "metadata": {},
     "output_type": "execute_result"
    }
   ],
   "source": [
    "bank.describe()"
   ]
  },
  {
   "attachments": {},
   "cell_type": "markdown",
   "metadata": {},
   "source": [
    "Observations:\n",
    "* `pdays` is being used as an indicator (max=999)\n",
    "* `previous` is skewed...mean way different than median (50%)"
   ]
  },
  {
   "attachments": {},
   "cell_type": "markdown",
   "metadata": {},
   "source": [
    "#### Investigate the correlation coefficients\n",
    "To be specific, the _Spearman_ correlation coefficients.  It's a _rank_ coefficient...does not assume linearity.  Due to this assumption, any monotonically increasing function--whether it's exponential or logarithmic--would result in a Spearman correlation coefficient of 1.\n",
    "\n",
    "You are most likely familiar with the _Pearson_ correlation coefficient...assumes linearity."
   ]
  },
  {
   "cell_type": "code",
   "execution_count": 7,
   "metadata": {},
   "outputs": [
    {
     "data": {
      "text/html": [
       "<style type=\"text/css\">\n",
       "#T_ddfc7_row0_col0, #T_ddfc7_row1_col1, #T_ddfc7_row2_col2, #T_ddfc7_row3_col3, #T_ddfc7_row4_col4, #T_ddfc7_row5_col5, #T_ddfc7_row6_col6, #T_ddfc7_row7_col7, #T_ddfc7_row8_col8, #T_ddfc7_row9_col9, #T_ddfc7_row10_col10 {\n",
       "  background-color: #053061;\n",
       "  color: #f1f1f1;\n",
       "}\n",
       "#T_ddfc7_row0_col1, #T_ddfc7_row0_col3, #T_ddfc7_row1_col0, #T_ddfc7_row2_col7, #T_ddfc7_row3_col0, #T_ddfc7_row7_col2 {\n",
       "  background-color: #f7f6f6;\n",
       "  color: #000000;\n",
       "}\n",
       "#T_ddfc7_row0_col2, #T_ddfc7_row1_col6, #T_ddfc7_row2_col0, #T_ddfc7_row6_col1 {\n",
       "  background-color: #f6f7f7;\n",
       "  color: #000000;\n",
       "}\n",
       "#T_ddfc7_row0_col4, #T_ddfc7_row0_col10, #T_ddfc7_row1_col7, #T_ddfc7_row4_col0, #T_ddfc7_row7_col1, #T_ddfc7_row10_col0 {\n",
       "  background-color: #f7f5f4;\n",
       "  color: #000000;\n",
       "}\n",
       "#T_ddfc7_row0_col5, #T_ddfc7_row0_col6, #T_ddfc7_row0_col9, #T_ddfc7_row1_col4, #T_ddfc7_row4_col1, #T_ddfc7_row5_col0, #T_ddfc7_row6_col0, #T_ddfc7_row7_col10, #T_ddfc7_row9_col0, #T_ddfc7_row10_col7 {\n",
       "  background-color: #eff3f5;\n",
       "  color: #000000;\n",
       "}\n",
       "#T_ddfc7_row0_col7, #T_ddfc7_row7_col0 {\n",
       "  background-color: #e1edf3;\n",
       "  color: #000000;\n",
       "}\n",
       "#T_ddfc7_row0_col8, #T_ddfc7_row8_col0 {\n",
       "  background-color: #edf2f5;\n",
       "  color: #000000;\n",
       "}\n",
       "#T_ddfc7_row1_col2, #T_ddfc7_row1_col3, #T_ddfc7_row1_col8, #T_ddfc7_row2_col1, #T_ddfc7_row3_col1, #T_ddfc7_row8_col1 {\n",
       "  background-color: #f9ebe3;\n",
       "  color: #000000;\n",
       "}\n",
       "#T_ddfc7_row1_col5, #T_ddfc7_row2_col10, #T_ddfc7_row5_col1, #T_ddfc7_row10_col2 {\n",
       "  background-color: #f9eee7;\n",
       "  color: #000000;\n",
       "}\n",
       "#T_ddfc7_row1_col9, #T_ddfc7_row9_col1 {\n",
       "  background-color: #fae9df;\n",
       "  color: #000000;\n",
       "}\n",
       "#T_ddfc7_row1_col10, #T_ddfc7_row10_col1 {\n",
       "  background-color: #a2cde3;\n",
       "  color: #000000;\n",
       "}\n",
       "#T_ddfc7_row2_col3, #T_ddfc7_row3_col2, #T_ddfc7_row3_col6, #T_ddfc7_row6_col3 {\n",
       "  background-color: #ecf2f5;\n",
       "  color: #000000;\n",
       "}\n",
       "#T_ddfc7_row2_col4, #T_ddfc7_row4_col2 {\n",
       "  background-color: #faeae1;\n",
       "  color: #000000;\n",
       "}\n",
       "#T_ddfc7_row2_col5, #T_ddfc7_row5_col2 {\n",
       "  background-color: #d8e9f1;\n",
       "  color: #000000;\n",
       "}\n",
       "#T_ddfc7_row2_col6, #T_ddfc7_row6_col2 {\n",
       "  background-color: #e4eef4;\n",
       "  color: #000000;\n",
       "}\n",
       "#T_ddfc7_row2_col8, #T_ddfc7_row8_col2 {\n",
       "  background-color: #ddebf2;\n",
       "  color: #000000;\n",
       "}\n",
       "#T_ddfc7_row2_col9, #T_ddfc7_row9_col2 {\n",
       "  background-color: #dbeaf2;\n",
       "  color: #000000;\n",
       "}\n",
       "#T_ddfc7_row3_col4, #T_ddfc7_row4_col3 {\n",
       "  background-color: #e37e64;\n",
       "  color: #f1f1f1;\n",
       "}\n",
       "#T_ddfc7_row3_col5, #T_ddfc7_row5_col3 {\n",
       "  background-color: #c7e0ed;\n",
       "  color: #000000;\n",
       "}\n",
       "#T_ddfc7_row3_col7, #T_ddfc7_row7_col3 {\n",
       "  background-color: #f9ede5;\n",
       "  color: #000000;\n",
       "}\n",
       "#T_ddfc7_row3_col8, #T_ddfc7_row8_col3 {\n",
       "  background-color: #b8d8e9;\n",
       "  color: #000000;\n",
       "}\n",
       "#T_ddfc7_row3_col9, #T_ddfc7_row9_col3 {\n",
       "  background-color: #b3d6e8;\n",
       "  color: #000000;\n",
       "}\n",
       "#T_ddfc7_row3_col10, #T_ddfc7_row10_col3 {\n",
       "  background-color: #f7b99c;\n",
       "  color: #000000;\n",
       "}\n",
       "#T_ddfc7_row4_col5, #T_ddfc7_row5_col4 {\n",
       "  background-color: #ef9979;\n",
       "  color: #000000;\n",
       "}\n",
       "#T_ddfc7_row4_col6, #T_ddfc7_row6_col4, #T_ddfc7_row9_col10, #T_ddfc7_row10_col9 {\n",
       "  background-color: #f9c4a9;\n",
       "  color: #000000;\n",
       "}\n",
       "#T_ddfc7_row4_col7, #T_ddfc7_row7_col4 {\n",
       "  background-color: #fae7dc;\n",
       "  color: #000000;\n",
       "}\n",
       "#T_ddfc7_row4_col8, #T_ddfc7_row8_col4 {\n",
       "  background-color: #eb9172;\n",
       "  color: #f1f1f1;\n",
       "}\n",
       "#T_ddfc7_row4_col9, #T_ddfc7_row9_col4 {\n",
       "  background-color: #ee9677;\n",
       "  color: #000000;\n",
       "}\n",
       "#T_ddfc7_row4_col10, #T_ddfc7_row10_col4 {\n",
       "  background-color: #d1e5f0;\n",
       "  color: #000000;\n",
       "}\n",
       "#T_ddfc7_row5_col6, #T_ddfc7_row6_col5 {\n",
       "  background-color: #3783bb;\n",
       "  color: #f1f1f1;\n",
       "}\n",
       "#T_ddfc7_row5_col7, #T_ddfc7_row7_col5 {\n",
       "  background-color: #cae1ee;\n",
       "  color: #000000;\n",
       "}\n",
       "#T_ddfc7_row5_col8, #T_ddfc7_row5_col9, #T_ddfc7_row8_col5, #T_ddfc7_row9_col5 {\n",
       "  background-color: #0d3f76;\n",
       "  color: #f1f1f1;\n",
       "}\n",
       "#T_ddfc7_row5_col10, #T_ddfc7_row10_col5 {\n",
       "  background-color: #fbceb7;\n",
       "  color: #000000;\n",
       "}\n",
       "#T_ddfc7_row6_col7, #T_ddfc7_row7_col6 {\n",
       "  background-color: #c2ddec;\n",
       "  color: #000000;\n",
       "}\n",
       "#T_ddfc7_row6_col8, #T_ddfc7_row8_col6 {\n",
       "  background-color: #6eaed2;\n",
       "  color: #f1f1f1;\n",
       "}\n",
       "#T_ddfc7_row6_col9, #T_ddfc7_row9_col6 {\n",
       "  background-color: #78b4d5;\n",
       "  color: #000000;\n",
       "}\n",
       "#T_ddfc7_row6_col10, #T_ddfc7_row10_col6 {\n",
       "  background-color: #fbe6da;\n",
       "  color: #000000;\n",
       "}\n",
       "#T_ddfc7_row7_col8, #T_ddfc7_row8_col7 {\n",
       "  background-color: #c5dfec;\n",
       "  color: #000000;\n",
       "}\n",
       "#T_ddfc7_row7_col9, #T_ddfc7_row9_col7 {\n",
       "  background-color: #deebf2;\n",
       "  color: #000000;\n",
       "}\n",
       "#T_ddfc7_row8_col9, #T_ddfc7_row9_col8 {\n",
       "  background-color: #0f437b;\n",
       "  color: #f1f1f1;\n",
       "}\n",
       "#T_ddfc7_row8_col10, #T_ddfc7_row10_col8 {\n",
       "  background-color: #fac8af;\n",
       "  color: #000000;\n",
       "}\n",
       "</style>\n",
       "<table id=\"T_ddfc7\">\n",
       "  <thead>\n",
       "    <tr>\n",
       "      <th class=\"blank level0\" >&nbsp;</th>\n",
       "      <th id=\"T_ddfc7_level0_col0\" class=\"col_heading level0 col0\" >age</th>\n",
       "      <th id=\"T_ddfc7_level0_col1\" class=\"col_heading level0 col1\" >duration</th>\n",
       "      <th id=\"T_ddfc7_level0_col2\" class=\"col_heading level0 col2\" >campaign</th>\n",
       "      <th id=\"T_ddfc7_level0_col3\" class=\"col_heading level0 col3\" >pdays</th>\n",
       "      <th id=\"T_ddfc7_level0_col4\" class=\"col_heading level0 col4\" >previous</th>\n",
       "      <th id=\"T_ddfc7_level0_col5\" class=\"col_heading level0 col5\" >emp.var.rate</th>\n",
       "      <th id=\"T_ddfc7_level0_col6\" class=\"col_heading level0 col6\" >cons.price.idx</th>\n",
       "      <th id=\"T_ddfc7_level0_col7\" class=\"col_heading level0 col7\" >cons.conf.idx</th>\n",
       "      <th id=\"T_ddfc7_level0_col8\" class=\"col_heading level0 col8\" >euribor3m</th>\n",
       "      <th id=\"T_ddfc7_level0_col9\" class=\"col_heading level0 col9\" >nr.employed</th>\n",
       "      <th id=\"T_ddfc7_level0_col10\" class=\"col_heading level0 col10\" >success</th>\n",
       "    </tr>\n",
       "  </thead>\n",
       "  <tbody>\n",
       "    <tr>\n",
       "      <th id=\"T_ddfc7_level0_row0\" class=\"row_heading level0 row0\" >age</th>\n",
       "      <td id=\"T_ddfc7_row0_col0\" class=\"data row0 col0\" >1.000000</td>\n",
       "      <td id=\"T_ddfc7_row0_col1\" class=\"data row0 col1\" >-0.002123</td>\n",
       "      <td id=\"T_ddfc7_row0_col2\" class=\"data row0 col2\" >0.005715</td>\n",
       "      <td id=\"T_ddfc7_row0_col3\" class=\"data row0 col3\" >-0.001062</td>\n",
       "      <td id=\"T_ddfc7_row0_col4\" class=\"data row0 col4\" >-0.012643</td>\n",
       "      <td id=\"T_ddfc7_row0_col5\" class=\"data row0 col5\" >0.045003</td>\n",
       "      <td id=\"T_ddfc7_row0_col6\" class=\"data row0 col6\" >0.044790</td>\n",
       "      <td id=\"T_ddfc7_row0_col7\" class=\"data row0 col7\" >0.114536</td>\n",
       "      <td id=\"T_ddfc7_row0_col8\" class=\"data row0 col8\" >0.054391</td>\n",
       "      <td id=\"T_ddfc7_row0_col9\" class=\"data row0 col9\" >0.044789</td>\n",
       "      <td id=\"T_ddfc7_row0_col10\" class=\"data row0 col10\" >-0.011861</td>\n",
       "    </tr>\n",
       "    <tr>\n",
       "      <th id=\"T_ddfc7_level0_row1\" class=\"row_heading level0 row1\" >duration</th>\n",
       "      <td id=\"T_ddfc7_row1_col0\" class=\"data row1 col0\" >-0.002123</td>\n",
       "      <td id=\"T_ddfc7_row1_col1\" class=\"data row1 col1\" >1.000000</td>\n",
       "      <td id=\"T_ddfc7_row1_col2\" class=\"data row1 col2\" >-0.080953</td>\n",
       "      <td id=\"T_ddfc7_row1_col3\" class=\"data row1 col3\" >-0.083072</td>\n",
       "      <td id=\"T_ddfc7_row1_col4\" class=\"data row1 col4\" >0.042407</td>\n",
       "      <td id=\"T_ddfc7_row1_col5\" class=\"data row1 col5\" >-0.069201</td>\n",
       "      <td id=\"T_ddfc7_row1_col6\" class=\"data row1 col6\" >0.002854</td>\n",
       "      <td id=\"T_ddfc7_row1_col7\" class=\"data row1 col7\" >-0.008678</td>\n",
       "      <td id=\"T_ddfc7_row1_col8\" class=\"data row1 col8\" >-0.078346</td>\n",
       "      <td id=\"T_ddfc7_row1_col9\" class=\"data row1 col9\" >-0.095225</td>\n",
       "      <td id=\"T_ddfc7_row1_col10\" class=\"data row1 col10\" >0.348777</td>\n",
       "    </tr>\n",
       "    <tr>\n",
       "      <th id=\"T_ddfc7_level0_row2\" class=\"row_heading level0 row2\" >campaign</th>\n",
       "      <td id=\"T_ddfc7_row2_col0\" class=\"data row2 col0\" >0.005715</td>\n",
       "      <td id=\"T_ddfc7_row2_col1\" class=\"data row2 col1\" >-0.080953</td>\n",
       "      <td id=\"T_ddfc7_row2_col2\" class=\"data row2 col2\" >1.000000</td>\n",
       "      <td id=\"T_ddfc7_row2_col3\" class=\"data row2 col3\" >0.055514</td>\n",
       "      <td id=\"T_ddfc7_row2_col4\" class=\"data row2 col4\" >-0.087420</td>\n",
       "      <td id=\"T_ddfc7_row2_col5\" class=\"data row2 col5\" >0.156360</td>\n",
       "      <td id=\"T_ddfc7_row2_col6\" class=\"data row2 col6\" >0.096494</td>\n",
       "      <td id=\"T_ddfc7_row2_col7\" class=\"data row2 col7\" >-0.001554</td>\n",
       "      <td id=\"T_ddfc7_row2_col8\" class=\"data row2 col8\" >0.140512</td>\n",
       "      <td id=\"T_ddfc7_row2_col9\" class=\"data row2 col9\" >0.144264</td>\n",
       "      <td id=\"T_ddfc7_row2_col10\" class=\"data row2 col10\" >-0.063668</td>\n",
       "    </tr>\n",
       "    <tr>\n",
       "      <th id=\"T_ddfc7_level0_row3\" class=\"row_heading level0 row3\" >pdays</th>\n",
       "      <td id=\"T_ddfc7_row3_col0\" class=\"data row3 col0\" >-0.001062</td>\n",
       "      <td id=\"T_ddfc7_row3_col1\" class=\"data row3 col1\" >-0.083072</td>\n",
       "      <td id=\"T_ddfc7_row3_col2\" class=\"data row3 col2\" >0.055514</td>\n",
       "      <td id=\"T_ddfc7_row3_col3\" class=\"data row3 col3\" >1.000000</td>\n",
       "      <td id=\"T_ddfc7_row3_col4\" class=\"data row3 col4\" >-0.509583</td>\n",
       "      <td id=\"T_ddfc7_row3_col5\" class=\"data row3 col5\" >0.227698</td>\n",
       "      <td id=\"T_ddfc7_row3_col6\" class=\"data row3 col6\" >0.056763</td>\n",
       "      <td id=\"T_ddfc7_row3_col7\" class=\"data row3 col7\" >-0.077265</td>\n",
       "      <td id=\"T_ddfc7_row3_col8\" class=\"data row3 col8\" >0.278488</td>\n",
       "      <td id=\"T_ddfc7_row3_col9\" class=\"data row3 col9\" >0.290673</td>\n",
       "      <td id=\"T_ddfc7_row3_col10\" class=\"data row3 col10\" >-0.324942</td>\n",
       "    </tr>\n",
       "    <tr>\n",
       "      <th id=\"T_ddfc7_level0_row4\" class=\"row_heading level0 row4\" >previous</th>\n",
       "      <td id=\"T_ddfc7_row4_col0\" class=\"data row4 col0\" >-0.012643</td>\n",
       "      <td id=\"T_ddfc7_row4_col1\" class=\"data row4 col1\" >0.042407</td>\n",
       "      <td id=\"T_ddfc7_row4_col2\" class=\"data row4 col2\" >-0.087420</td>\n",
       "      <td id=\"T_ddfc7_row4_col3\" class=\"data row4 col3\" >-0.509583</td>\n",
       "      <td id=\"T_ddfc7_row4_col4\" class=\"data row4 col4\" >1.000000</td>\n",
       "      <td id=\"T_ddfc7_row4_col5\" class=\"data row4 col5\" >-0.435293</td>\n",
       "      <td id=\"T_ddfc7_row4_col6\" class=\"data row4 col6\" >-0.282720</td>\n",
       "      <td id=\"T_ddfc7_row4_col7\" class=\"data row4 col7\" >-0.115967</td>\n",
       "      <td id=\"T_ddfc7_row4_col8\" class=\"data row4 col8\" >-0.454724</td>\n",
       "      <td id=\"T_ddfc7_row4_col9\" class=\"data row4 col9\" >-0.438721</td>\n",
       "      <td id=\"T_ddfc7_row4_col10\" class=\"data row4 col10\" >0.200914</td>\n",
       "    </tr>\n",
       "    <tr>\n",
       "      <th id=\"T_ddfc7_level0_row5\" class=\"row_heading level0 row5\" >emp.var.rate</th>\n",
       "      <td id=\"T_ddfc7_row5_col0\" class=\"data row5 col0\" >0.045003</td>\n",
       "      <td id=\"T_ddfc7_row5_col1\" class=\"data row5 col1\" >-0.069201</td>\n",
       "      <td id=\"T_ddfc7_row5_col2\" class=\"data row5 col2\" >0.156360</td>\n",
       "      <td id=\"T_ddfc7_row5_col3\" class=\"data row5 col3\" >0.227698</td>\n",
       "      <td id=\"T_ddfc7_row5_col4\" class=\"data row5 col4\" >-0.435293</td>\n",
       "      <td id=\"T_ddfc7_row5_col5\" class=\"data row5 col5\" >1.000000</td>\n",
       "      <td id=\"T_ddfc7_row5_col6\" class=\"data row5 col6\" >0.664890</td>\n",
       "      <td id=\"T_ddfc7_row5_col7\" class=\"data row5 col7\" >0.224693</td>\n",
       "      <td id=\"T_ddfc7_row5_col8\" class=\"data row5 col8\" >0.939915</td>\n",
       "      <td id=\"T_ddfc7_row5_col9\" class=\"data row5 col9\" >0.944702</td>\n",
       "      <td id=\"T_ddfc7_row5_col10\" class=\"data row5 col10\" >-0.247480</td>\n",
       "    </tr>\n",
       "    <tr>\n",
       "      <th id=\"T_ddfc7_level0_row6\" class=\"row_heading level0 row6\" >cons.price.idx</th>\n",
       "      <td id=\"T_ddfc7_row6_col0\" class=\"data row6 col0\" >0.044790</td>\n",
       "      <td id=\"T_ddfc7_row6_col1\" class=\"data row6 col1\" >0.002854</td>\n",
       "      <td id=\"T_ddfc7_row6_col2\" class=\"data row6 col2\" >0.096494</td>\n",
       "      <td id=\"T_ddfc7_row6_col3\" class=\"data row6 col3\" >0.056763</td>\n",
       "      <td id=\"T_ddfc7_row6_col4\" class=\"data row6 col4\" >-0.282720</td>\n",
       "      <td id=\"T_ddfc7_row6_col5\" class=\"data row6 col5\" >0.664890</td>\n",
       "      <td id=\"T_ddfc7_row6_col6\" class=\"data row6 col6\" >1.000000</td>\n",
       "      <td id=\"T_ddfc7_row6_col7\" class=\"data row6 col7\" >0.245633</td>\n",
       "      <td id=\"T_ddfc7_row6_col8\" class=\"data row6 col8\" >0.490970</td>\n",
       "      <td id=\"T_ddfc7_row6_col9\" class=\"data row6 col9\" >0.464738</td>\n",
       "      <td id=\"T_ddfc7_row6_col10\" class=\"data row6 col10\" >-0.122187</td>\n",
       "    </tr>\n",
       "    <tr>\n",
       "      <th id=\"T_ddfc7_level0_row7\" class=\"row_heading level0 row7\" >cons.conf.idx</th>\n",
       "      <td id=\"T_ddfc7_row7_col0\" class=\"data row7 col0\" >0.114536</td>\n",
       "      <td id=\"T_ddfc7_row7_col1\" class=\"data row7 col1\" >-0.008678</td>\n",
       "      <td id=\"T_ddfc7_row7_col2\" class=\"data row7 col2\" >-0.001554</td>\n",
       "      <td id=\"T_ddfc7_row7_col3\" class=\"data row7 col3\" >-0.077265</td>\n",
       "      <td id=\"T_ddfc7_row7_col4\" class=\"data row7 col4\" >-0.115967</td>\n",
       "      <td id=\"T_ddfc7_row7_col5\" class=\"data row7 col5\" >0.224693</td>\n",
       "      <td id=\"T_ddfc7_row7_col6\" class=\"data row7 col6\" >0.245633</td>\n",
       "      <td id=\"T_ddfc7_row7_col7\" class=\"data row7 col7\" >1.000000</td>\n",
       "      <td id=\"T_ddfc7_row7_col8\" class=\"data row7 col8\" >0.236646</td>\n",
       "      <td id=\"T_ddfc7_row7_col9\" class=\"data row7 col9\" >0.132707</td>\n",
       "      <td id=\"T_ddfc7_row7_col10\" class=\"data row7 col10\" >0.041229</td>\n",
       "    </tr>\n",
       "    <tr>\n",
       "      <th id=\"T_ddfc7_level0_row8\" class=\"row_heading level0 row8\" >euribor3m</th>\n",
       "      <td id=\"T_ddfc7_row8_col0\" class=\"data row8 col0\" >0.054391</td>\n",
       "      <td id=\"T_ddfc7_row8_col1\" class=\"data row8 col1\" >-0.078346</td>\n",
       "      <td id=\"T_ddfc7_row8_col2\" class=\"data row8 col2\" >0.140512</td>\n",
       "      <td id=\"T_ddfc7_row8_col3\" class=\"data row8 col3\" >0.278488</td>\n",
       "      <td id=\"T_ddfc7_row8_col4\" class=\"data row8 col4\" >-0.454724</td>\n",
       "      <td id=\"T_ddfc7_row8_col5\" class=\"data row8 col5\" >0.939915</td>\n",
       "      <td id=\"T_ddfc7_row8_col6\" class=\"data row8 col6\" >0.490970</td>\n",
       "      <td id=\"T_ddfc7_row8_col7\" class=\"data row8 col7\" >0.236646</td>\n",
       "      <td id=\"T_ddfc7_row8_col8\" class=\"data row8 col8\" >1.000000</td>\n",
       "      <td id=\"T_ddfc7_row8_col9\" class=\"data row8 col9\" >0.928857</td>\n",
       "      <td id=\"T_ddfc7_row8_col10\" class=\"data row8 col10\" >-0.266822</td>\n",
       "    </tr>\n",
       "    <tr>\n",
       "      <th id=\"T_ddfc7_level0_row9\" class=\"row_heading level0 row9\" >nr.employed</th>\n",
       "      <td id=\"T_ddfc7_row9_col0\" class=\"data row9 col0\" >0.044789</td>\n",
       "      <td id=\"T_ddfc7_row9_col1\" class=\"data row9 col1\" >-0.095225</td>\n",
       "      <td id=\"T_ddfc7_row9_col2\" class=\"data row9 col2\" >0.144264</td>\n",
       "      <td id=\"T_ddfc7_row9_col3\" class=\"data row9 col3\" >0.290673</td>\n",
       "      <td id=\"T_ddfc7_row9_col4\" class=\"data row9 col4\" >-0.438721</td>\n",
       "      <td id=\"T_ddfc7_row9_col5\" class=\"data row9 col5\" >0.944702</td>\n",
       "      <td id=\"T_ddfc7_row9_col6\" class=\"data row9 col6\" >0.464738</td>\n",
       "      <td id=\"T_ddfc7_row9_col7\" class=\"data row9 col7\" >0.132707</td>\n",
       "      <td id=\"T_ddfc7_row9_col8\" class=\"data row9 col8\" >0.928857</td>\n",
       "      <td id=\"T_ddfc7_row9_col9\" class=\"data row9 col9\" >1.000000</td>\n",
       "      <td id=\"T_ddfc7_row9_col10\" class=\"data row9 col10\" >-0.283957</td>\n",
       "    </tr>\n",
       "    <tr>\n",
       "      <th id=\"T_ddfc7_level0_row10\" class=\"row_heading level0 row10\" >success</th>\n",
       "      <td id=\"T_ddfc7_row10_col0\" class=\"data row10 col0\" >-0.011861</td>\n",
       "      <td id=\"T_ddfc7_row10_col1\" class=\"data row10 col1\" >0.348777</td>\n",
       "      <td id=\"T_ddfc7_row10_col2\" class=\"data row10 col2\" >-0.063668</td>\n",
       "      <td id=\"T_ddfc7_row10_col3\" class=\"data row10 col3\" >-0.324942</td>\n",
       "      <td id=\"T_ddfc7_row10_col4\" class=\"data row10 col4\" >0.200914</td>\n",
       "      <td id=\"T_ddfc7_row10_col5\" class=\"data row10 col5\" >-0.247480</td>\n",
       "      <td id=\"T_ddfc7_row10_col6\" class=\"data row10 col6\" >-0.122187</td>\n",
       "      <td id=\"T_ddfc7_row10_col7\" class=\"data row10 col7\" >0.041229</td>\n",
       "      <td id=\"T_ddfc7_row10_col8\" class=\"data row10 col8\" >-0.266822</td>\n",
       "      <td id=\"T_ddfc7_row10_col9\" class=\"data row10 col9\" >-0.283957</td>\n",
       "      <td id=\"T_ddfc7_row10_col10\" class=\"data row10 col10\" >1.000000</td>\n",
       "    </tr>\n",
       "  </tbody>\n",
       "</table>\n"
      ],
      "text/plain": [
       "<pandas.io.formats.style.Styler at 0x105f4c890>"
      ]
     },
     "execution_count": 7,
     "metadata": {},
     "output_type": "execute_result"
    }
   ],
   "source": [
    "(bank \n",
    "    .assign(success=bank.y == 'yes')\n",
    "    .corr(method='spearman', numeric_only=True)\n",
    "    .style\n",
    "    .background_gradient(cmap='RdBu', vmin=-1, vmax=1)\n",
    ")"
   ]
  },
  {
   "attachments": {},
   "cell_type": "markdown",
   "metadata": {},
   "source": [
    "NB:  both `Jinja2` and `matplotlib` need to be installed to apply the `background_gradient`"
   ]
  },
  {
   "cell_type": "code",
   "execution_count": 8,
   "metadata": {},
   "outputs": [
    {
     "data": {
      "text/plain": [
       "<Axes: >"
      ]
     },
     "execution_count": 8,
     "metadata": {},
     "output_type": "execute_result"
    },
    {
     "data": {
      "image/png": "[encoded data removed]",
      "text/plain": [
       "<Figure size 640x480 with 1 Axes>"
      ]
     },
     "metadata": {},
     "output_type": "display_data"
    }
   ],
   "source": [
    "(bank\n",
    "    .assign(success=bank.y == 'yes')             # make a new column of booleans\n",
    "    .corr(method='spearman', numeric_only=True)  # calculate the Spearman correlation coefficients for the number-y columns\n",
    "    .loc[:, 'success']                           # just want the coefficients from the 'success' column\n",
    "    .iloc[:-1]                                   # but not the trivial one for itself\n",
    "    .sort_values(key=lambda val: abs(val))       # slick way to order by magnitude\n",
    "    .plot.barh()                                 # visualize it\n",
    ")"
   ]
  },
  {
   "attachments": {},
   "cell_type": "markdown",
   "metadata": {},
   "source": [
    "got lazy...just ran the cells in the supplied course notebook.\n",
    "\n",
    "Cool thing to remember:  add `.plot.bar()` to `.value_counts()` to get a histogram...looks like `matplotlib` ain't too bad after all.\n",
    "\n",
    "Also, `.select_dtypes(<type>)` is a slick way to grab like-columns from a df."
   ]
  },
  {
   "attachments": {},
   "cell_type": "markdown",
   "metadata": {},
   "source": [
    "#### Crosstab"
   ]
  },
  {
   "cell_type": "code",
   "execution_count": 9,
   "metadata": {},
   "outputs": [
    {
     "data": {
      "text/html": [
       "<style type=\"text/css\">\n",
       "#T_9ff0a_row0_col0 {\n",
       "  background-color: #2b73b3;\n",
       "  color: #f1f1f1;\n",
       "}\n",
       "#T_9ff0a_row0_col1 {\n",
       "  background-color: #bd2d35;\n",
       "  color: #f1f1f1;\n",
       "}\n",
       "#T_9ff0a_row1_col0 {\n",
       "  background-color: #185493;\n",
       "  color: #f1f1f1;\n",
       "}\n",
       "#T_9ff0a_row1_col1 {\n",
       "  background-color: #991027;\n",
       "  color: #f1f1f1;\n",
       "}\n",
       "#T_9ff0a_row2_col0 {\n",
       "  background-color: #1c5c9f;\n",
       "  color: #f1f1f1;\n",
       "}\n",
       "#T_9ff0a_row2_col1 {\n",
       "  background-color: #a51429;\n",
       "  color: #f1f1f1;\n",
       "}\n",
       "#T_9ff0a_row3_col0 {\n",
       "  background-color: #2065ab;\n",
       "  color: #f1f1f1;\n",
       "}\n",
       "#T_9ff0a_row3_col1 {\n",
       "  background-color: #b1182b;\n",
       "  color: #f1f1f1;\n",
       "}\n",
       "#T_9ff0a_row4_col0, #T_9ff0a_row11_col0 {\n",
       "  background-color: #246aae;\n",
       "  color: #f1f1f1;\n",
       "}\n",
       "#T_9ff0a_row4_col1, #T_9ff0a_row11_col1 {\n",
       "  background-color: #b61f2e;\n",
       "  color: #f1f1f1;\n",
       "}\n",
       "#T_9ff0a_row5_col0 {\n",
       "  background-color: #6bacd1;\n",
       "  color: #f1f1f1;\n",
       "}\n",
       "#T_9ff0a_row5_col1 {\n",
       "  background-color: #e58368;\n",
       "  color: #f1f1f1;\n",
       "}\n",
       "#T_9ff0a_row6_col0 {\n",
       "  background-color: #2267ac;\n",
       "  color: #f1f1f1;\n",
       "}\n",
       "#T_9ff0a_row6_col1 {\n",
       "  background-color: #b3192c;\n",
       "  color: #f1f1f1;\n",
       "}\n",
       "#T_9ff0a_row7_col0 {\n",
       "  background-color: #1b5a9c;\n",
       "  color: #f1f1f1;\n",
       "}\n",
       "#T_9ff0a_row7_col1 {\n",
       "  background-color: #a21328;\n",
       "  color: #f1f1f1;\n",
       "}\n",
       "#T_9ff0a_row8_col0 {\n",
       "  background-color: #9bc9e0;\n",
       "  color: #000000;\n",
       "}\n",
       "#T_9ff0a_row8_col1 {\n",
       "  background-color: #f5ac8b;\n",
       "  color: #000000;\n",
       "}\n",
       "#T_9ff0a_row9_col0 {\n",
       "  background-color: #2369ad;\n",
       "  color: #f1f1f1;\n",
       "}\n",
       "#T_9ff0a_row9_col1 {\n",
       "  background-color: #b41c2d;\n",
       "  color: #f1f1f1;\n",
       "}\n",
       "#T_9ff0a_row10_col0 {\n",
       "  background-color: #2f79b5;\n",
       "  color: #f1f1f1;\n",
       "}\n",
       "#T_9ff0a_row10_col1 {\n",
       "  background-color: #c13639;\n",
       "  color: #f1f1f1;\n",
       "}\n",
       "</style>\n",
       "<table id=\"T_9ff0a\">\n",
       "  <thead>\n",
       "    <tr>\n",
       "      <th class=\"index_name level0\" >y</th>\n",
       "      <th id=\"T_9ff0a_level0_col0\" class=\"col_heading level0 col0\" >no</th>\n",
       "      <th id=\"T_9ff0a_level0_col1\" class=\"col_heading level0 col1\" >yes</th>\n",
       "    </tr>\n",
       "    <tr>\n",
       "      <th class=\"index_name level0\" >job</th>\n",
       "      <th class=\"blank col0\" >&nbsp;</th>\n",
       "      <th class=\"blank col1\" >&nbsp;</th>\n",
       "    </tr>\n",
       "  </thead>\n",
       "  <tbody>\n",
       "    <tr>\n",
       "      <th id=\"T_9ff0a_level0_row0\" class=\"row_heading level0 row0\" >admin.</th>\n",
       "      <td id=\"T_9ff0a_row0_col0\" class=\"data row0 col0\" >87.0%</td>\n",
       "      <td id=\"T_9ff0a_row0_col1\" class=\"data row0 col1\" >13.0%</td>\n",
       "    </tr>\n",
       "    <tr>\n",
       "      <th id=\"T_9ff0a_level0_row1\" class=\"row_heading level0 row1\" >blue-collar</th>\n",
       "      <td id=\"T_9ff0a_row1_col0\" class=\"data row1 col0\" >93.1%</td>\n",
       "      <td id=\"T_9ff0a_row1_col1\" class=\"data row1 col1\" >6.9%</td>\n",
       "    </tr>\n",
       "    <tr>\n",
       "      <th id=\"T_9ff0a_level0_row2\" class=\"row_heading level0 row2\" >entrepreneur</th>\n",
       "      <td id=\"T_9ff0a_row2_col0\" class=\"data row2 col0\" >91.5%</td>\n",
       "      <td id=\"T_9ff0a_row2_col1\" class=\"data row2 col1\" >8.5%</td>\n",
       "    </tr>\n",
       "    <tr>\n",
       "      <th id=\"T_9ff0a_level0_row3\" class=\"row_heading level0 row3\" >housemaid</th>\n",
       "      <td id=\"T_9ff0a_row3_col0\" class=\"data row3 col0\" >90.0%</td>\n",
       "      <td id=\"T_9ff0a_row3_col1\" class=\"data row3 col1\" >10.0%</td>\n",
       "    </tr>\n",
       "    <tr>\n",
       "      <th id=\"T_9ff0a_level0_row4\" class=\"row_heading level0 row4\" >management</th>\n",
       "      <td id=\"T_9ff0a_row4_col0\" class=\"data row4 col0\" >88.8%</td>\n",
       "      <td id=\"T_9ff0a_row4_col1\" class=\"data row4 col1\" >11.2%</td>\n",
       "    </tr>\n",
       "    <tr>\n",
       "      <th id=\"T_9ff0a_level0_row5\" class=\"row_heading level0 row5\" >retired</th>\n",
       "      <td id=\"T_9ff0a_row5_col0\" class=\"data row5 col0\" >74.8%</td>\n",
       "      <td id=\"T_9ff0a_row5_col1\" class=\"data row5 col1\" >25.2%</td>\n",
       "    </tr>\n",
       "    <tr>\n",
       "      <th id=\"T_9ff0a_level0_row6\" class=\"row_heading level0 row6\" >self-employed</th>\n",
       "      <td id=\"T_9ff0a_row6_col0\" class=\"data row6 col0\" >89.5%</td>\n",
       "      <td id=\"T_9ff0a_row6_col1\" class=\"data row6 col1\" >10.5%</td>\n",
       "    </tr>\n",
       "    <tr>\n",
       "      <th id=\"T_9ff0a_level0_row7\" class=\"row_heading level0 row7\" >services</th>\n",
       "      <td id=\"T_9ff0a_row7_col0\" class=\"data row7 col0\" >91.9%</td>\n",
       "      <td id=\"T_9ff0a_row7_col1\" class=\"data row7 col1\" >8.1%</td>\n",
       "    </tr>\n",
       "    <tr>\n",
       "      <th id=\"T_9ff0a_level0_row8\" class=\"row_heading level0 row8\" >student</th>\n",
       "      <td id=\"T_9ff0a_row8_col0\" class=\"data row8 col0\" >68.6%</td>\n",
       "      <td id=\"T_9ff0a_row8_col1\" class=\"data row8 col1\" >31.4%</td>\n",
       "    </tr>\n",
       "    <tr>\n",
       "      <th id=\"T_9ff0a_level0_row9\" class=\"row_heading level0 row9\" >technician</th>\n",
       "      <td id=\"T_9ff0a_row9_col0\" class=\"data row9 col0\" >89.2%</td>\n",
       "      <td id=\"T_9ff0a_row9_col1\" class=\"data row9 col1\" >10.8%</td>\n",
       "    </tr>\n",
       "    <tr>\n",
       "      <th id=\"T_9ff0a_level0_row10\" class=\"row_heading level0 row10\" >unemployed</th>\n",
       "      <td id=\"T_9ff0a_row10_col0\" class=\"data row10 col0\" >85.8%</td>\n",
       "      <td id=\"T_9ff0a_row10_col1\" class=\"data row10 col1\" >14.2%</td>\n",
       "    </tr>\n",
       "    <tr>\n",
       "      <th id=\"T_9ff0a_level0_row11\" class=\"row_heading level0 row11\" >unknown</th>\n",
       "      <td id=\"T_9ff0a_row11_col0\" class=\"data row11 col0\" >88.8%</td>\n",
       "      <td id=\"T_9ff0a_row11_col1\" class=\"data row11 col1\" >11.2%</td>\n",
       "    </tr>\n",
       "  </tbody>\n",
       "</table>\n"
      ],
      "text/plain": [
       "<pandas.io.formats.style.Styler at 0x12cc566d0>"
      ]
     },
     "execution_count": 9,
     "metadata": {},
     "output_type": "execute_result"
    }
   ],
   "source": [
    "(pd.crosstab(bank.job, bank.y, normalize='index')\n",
    " .style\n",
    " .background_gradient(cmap='RdBu', vmin=0, vmax=1, axis='index')\n",
    " .format({**{col: '{:.1%}' for col in ['no', 'yes']}})  # extra flair, mudafakah\n",
    ")"
   ]
  },
  {
   "cell_type": "code",
   "execution_count": 10,
   "metadata": {},
   "outputs": [
    {
     "data": {
      "text/plain": [
       "<Axes: >"
      ]
     },
     "execution_count": 10,
     "metadata": {},
     "output_type": "execute_result"
    },
    {
     "data": {
      "image/png": "[encoded data removed]",
      "text/plain": [
       "<Figure size 640x480 with 1 Axes>"
      ]
     },
     "metadata": {},
     "output_type": "display_data"
    }
   ],
   "source": [
    "bank.age.hist()"
   ]
  },
  {
   "attachments": {},
   "cell_type": "markdown",
   "metadata": {},
   "source": [
    "#### Pivot table"
   ]
  },
  {
   "cell_type": "code",
   "execution_count": 11,
   "metadata": {},
   "outputs": [
    {
     "data": {
      "text/plain": [
       "array([<Axes: ylabel='Frequency'>, <Axes: ylabel='Frequency'>],\n",
       "      dtype=object)"
      ]
     },
     "execution_count": 11,
     "metadata": {},
     "output_type": "execute_result"
    },
    {
     "data": {
      "image/png": "[encoded data removed]",
      "text/plain": [
       "<Figure size 640x480 with 2 Axes>"
      ]
     },
     "metadata": {},
     "output_type": "display_data"
    }
   ],
   "source": [
    "(bank\n",
    " .pivot(columns='y', values='euribor3m') \n",
    " .plot.hist(subplots=True, bins=40)\n",
    ")"
   ]
  },
  {
   "cell_type": "code",
   "execution_count": 12,
   "metadata": {},
   "outputs": [
    {
     "data": {
      "text/html": [
       "<div>\n",
       "<style scoped>\n",
       "    .dataframe tbody tr th:only-of-type {\n",
       "        vertical-align: middle;\n",
       "    }\n",
       "\n",
       "    .dataframe tbody tr th {\n",
       "        vertical-align: top;\n",
       "    }\n",
       "\n",
       "    .dataframe thead th {\n",
       "        text-align: right;\n",
       "    }\n",
       "</style>\n",
       "<table border=\"1\" class=\"dataframe\">\n",
       "  <thead>\n",
       "    <tr style=\"text-align: right;\">\n",
       "      <th></th>\n",
       "      <th></th>\n",
       "      <th>count</th>\n",
       "      <th>mean</th>\n",
       "      <th>std</th>\n",
       "      <th>min</th>\n",
       "      <th>25%</th>\n",
       "      <th>50%</th>\n",
       "      <th>75%</th>\n",
       "      <th>max</th>\n",
       "    </tr>\n",
       "    <tr>\n",
       "      <th></th>\n",
       "      <th>default</th>\n",
       "      <th></th>\n",
       "      <th></th>\n",
       "      <th></th>\n",
       "      <th></th>\n",
       "      <th></th>\n",
       "      <th></th>\n",
       "      <th></th>\n",
       "      <th></th>\n",
       "    </tr>\n",
       "  </thead>\n",
       "  <tbody>\n",
       "    <tr>\n",
       "      <th rowspan=\"3\" valign=\"top\">age</th>\n",
       "      <th>no</th>\n",
       "      <td>32588.0</td>\n",
       "      <td>39.140635</td>\n",
       "      <td>10.477032</td>\n",
       "      <td>17.000</td>\n",
       "      <td>31.000</td>\n",
       "      <td>37.000</td>\n",
       "      <td>46.000</td>\n",
       "      <td>95.000</td>\n",
       "    </tr>\n",
       "    <tr>\n",
       "      <th>unknown</th>\n",
       "      <td>8597.0</td>\n",
       "      <td>43.371990</td>\n",
       "      <td>9.488981</td>\n",
       "      <td>19.000</td>\n",
       "      <td>36.000</td>\n",
       "      <td>43.000</td>\n",
       "      <td>51.000</td>\n",
       "      <td>98.000</td>\n",
       "    </tr>\n",
       "    <tr>\n",
       "      <th>yes</th>\n",
       "      <td>3.0</td>\n",
       "      <td>42.333333</td>\n",
       "      <td>9.814955</td>\n",
       "      <td>31.000</td>\n",
       "      <td>39.500</td>\n",
       "      <td>48.000</td>\n",
       "      <td>48.000</td>\n",
       "      <td>48.000</td>\n",
       "    </tr>\n",
       "    <tr>\n",
       "      <th rowspan=\"3\" valign=\"top\">duration</th>\n",
       "      <th>no</th>\n",
       "      <td>32588.0</td>\n",
       "      <td>259.842549</td>\n",
       "      <td>261.069492</td>\n",
       "      <td>0.000</td>\n",
       "      <td>103.750</td>\n",
       "      <td>181.000</td>\n",
       "      <td>321.000</td>\n",
       "      <td>4918.000</td>\n",
       "    </tr>\n",
       "    <tr>\n",
       "      <th>unknown</th>\n",
       "      <td>8597.0</td>\n",
       "      <td>252.435035</td>\n",
       "      <td>252.336038</td>\n",
       "      <td>5.000</td>\n",
       "      <td>98.000</td>\n",
       "      <td>175.000</td>\n",
       "      <td>313.000</td>\n",
       "      <td>3366.000</td>\n",
       "    </tr>\n",
       "    <tr>\n",
       "      <th>yes</th>\n",
       "      <td>3.0</td>\n",
       "      <td>103.333333</td>\n",
       "      <td>34.151623</td>\n",
       "      <td>66.000</td>\n",
       "      <td>88.500</td>\n",
       "      <td>111.000</td>\n",
       "      <td>122.000</td>\n",
       "      <td>133.000</td>\n",
       "    </tr>\n",
       "    <tr>\n",
       "      <th rowspan=\"3\" valign=\"top\">campaign</th>\n",
       "      <th>no</th>\n",
       "      <td>32588.0</td>\n",
       "      <td>2.520744</td>\n",
       "      <td>2.707943</td>\n",
       "      <td>1.000</td>\n",
       "      <td>1.000</td>\n",
       "      <td>2.000</td>\n",
       "      <td>3.000</td>\n",
       "      <td>43.000</td>\n",
       "    </tr>\n",
       "    <tr>\n",
       "      <th>unknown</th>\n",
       "      <td>8597.0</td>\n",
       "      <td>2.745609</td>\n",
       "      <td>2.987461</td>\n",
       "      <td>1.000</td>\n",
       "      <td>1.000</td>\n",
       "      <td>2.000</td>\n",
       "      <td>3.000</td>\n",
       "      <td>56.000</td>\n",
       "    </tr>\n",
       "    <tr>\n",
       "      <th>yes</th>\n",
       "      <td>3.0</td>\n",
       "      <td>1.333333</td>\n",
       "      <td>0.577350</td>\n",
       "      <td>1.000</td>\n",
       "      <td>1.000</td>\n",
       "      <td>1.000</td>\n",
       "      <td>1.500</td>\n",
       "      <td>2.000</td>\n",
       "    </tr>\n",
       "    <tr>\n",
       "      <th rowspan=\"3\" valign=\"top\">pdays</th>\n",
       "      <th>no</th>\n",
       "      <td>32588.0</td>\n",
       "      <td>954.787130</td>\n",
       "      <td>204.815798</td>\n",
       "      <td>0.000</td>\n",
       "      <td>999.000</td>\n",
       "      <td>999.000</td>\n",
       "      <td>999.000</td>\n",
       "      <td>999.000</td>\n",
       "    </tr>\n",
       "    <tr>\n",
       "      <th>unknown</th>\n",
       "      <td>8597.0</td>\n",
       "      <td>991.606258</td>\n",
       "      <td>85.379354</td>\n",
       "      <td>0.000</td>\n",
       "      <td>999.000</td>\n",
       "      <td>999.000</td>\n",
       "      <td>999.000</td>\n",
       "      <td>999.000</td>\n",
       "    </tr>\n",
       "    <tr>\n",
       "      <th>yes</th>\n",
       "      <td>3.0</td>\n",
       "      <td>999.000000</td>\n",
       "      <td>0.000000</td>\n",
       "      <td>999.000</td>\n",
       "      <td>999.000</td>\n",
       "      <td>999.000</td>\n",
       "      <td>999.000</td>\n",
       "      <td>999.000</td>\n",
       "    </tr>\n",
       "    <tr>\n",
       "      <th rowspan=\"3\" valign=\"top\">previous</th>\n",
       "      <th>no</th>\n",
       "      <td>32588.0</td>\n",
       "      <td>0.199030</td>\n",
       "      <td>0.532582</td>\n",
       "      <td>0.000</td>\n",
       "      <td>0.000</td>\n",
       "      <td>0.000</td>\n",
       "      <td>0.000</td>\n",
       "      <td>7.000</td>\n",
       "    </tr>\n",
       "    <tr>\n",
       "      <th>unknown</th>\n",
       "      <td>8597.0</td>\n",
       "      <td>0.074096</td>\n",
       "      <td>0.292969</td>\n",
       "      <td>0.000</td>\n",
       "      <td>0.000</td>\n",
       "      <td>0.000</td>\n",
       "      <td>0.000</td>\n",
       "      <td>4.000</td>\n",
       "    </tr>\n",
       "    <tr>\n",
       "      <th>yes</th>\n",
       "      <td>3.0</td>\n",
       "      <td>0.333333</td>\n",
       "      <td>0.577350</td>\n",
       "      <td>0.000</td>\n",
       "      <td>0.000</td>\n",
       "      <td>0.000</td>\n",
       "      <td>0.500</td>\n",
       "      <td>1.000</td>\n",
       "    </tr>\n",
       "    <tr>\n",
       "      <th rowspan=\"3\" valign=\"top\">emp.var.rate</th>\n",
       "      <th>no</th>\n",
       "      <td>32588.0</td>\n",
       "      <td>-0.082168</td>\n",
       "      <td>1.617598</td>\n",
       "      <td>-3.400</td>\n",
       "      <td>-1.800</td>\n",
       "      <td>1.100</td>\n",
       "      <td>1.400</td>\n",
       "      <td>1.400</td>\n",
       "    </tr>\n",
       "    <tr>\n",
       "      <th>unknown</th>\n",
       "      <td>8597.0</td>\n",
       "      <td>0.703466</td>\n",
       "      <td>1.190153</td>\n",
       "      <td>-3.400</td>\n",
       "      <td>1.100</td>\n",
       "      <td>1.400</td>\n",
       "      <td>1.400</td>\n",
       "      <td>1.400</td>\n",
       "    </tr>\n",
       "    <tr>\n",
       "      <th>yes</th>\n",
       "      <td>3.0</td>\n",
       "      <td>0.900000</td>\n",
       "      <td>0.866025</td>\n",
       "      <td>-0.100</td>\n",
       "      <td>0.650</td>\n",
       "      <td>1.400</td>\n",
       "      <td>1.400</td>\n",
       "      <td>1.400</td>\n",
       "    </tr>\n",
       "    <tr>\n",
       "      <th rowspan=\"3\" valign=\"top\">cons.price.idx</th>\n",
       "      <th>no</th>\n",
       "      <td>32588.0</td>\n",
       "      <td>93.525639</td>\n",
       "      <td>0.588528</td>\n",
       "      <td>92.201</td>\n",
       "      <td>93.075</td>\n",
       "      <td>93.444</td>\n",
       "      <td>93.994</td>\n",
       "      <td>94.767</td>\n",
       "    </tr>\n",
       "    <tr>\n",
       "      <th>unknown</th>\n",
       "      <td>8597.0</td>\n",
       "      <td>93.765365</td>\n",
       "      <td>0.496831</td>\n",
       "      <td>92.201</td>\n",
       "      <td>93.444</td>\n",
       "      <td>93.918</td>\n",
       "      <td>93.994</td>\n",
       "      <td>94.601</td>\n",
       "    </tr>\n",
       "    <tr>\n",
       "      <th>yes</th>\n",
       "      <td>3.0</td>\n",
       "      <td>93.362667</td>\n",
       "      <td>0.140873</td>\n",
       "      <td>93.200</td>\n",
       "      <td>93.322</td>\n",
       "      <td>93.444</td>\n",
       "      <td>93.444</td>\n",
       "      <td>93.444</td>\n",
       "    </tr>\n",
       "    <tr>\n",
       "      <th rowspan=\"3\" valign=\"top\">cons.conf.idx</th>\n",
       "      <th>no</th>\n",
       "      <td>32588.0</td>\n",
       "      <td>-40.565469</td>\n",
       "      <td>4.804758</td>\n",
       "      <td>-50.800</td>\n",
       "      <td>-42.700</td>\n",
       "      <td>-41.800</td>\n",
       "      <td>-36.400</td>\n",
       "      <td>-26.900</td>\n",
       "    </tr>\n",
       "    <tr>\n",
       "      <th>unknown</th>\n",
       "      <td>8597.0</td>\n",
       "      <td>-40.265139</td>\n",
       "      <td>3.878180</td>\n",
       "      <td>-50.000</td>\n",
       "      <td>-42.700</td>\n",
       "      <td>-41.800</td>\n",
       "      <td>-36.400</td>\n",
       "      <td>-26.900</td>\n",
       "    </tr>\n",
       "    <tr>\n",
       "      <th>yes</th>\n",
       "      <td>3.0</td>\n",
       "      <td>-38.066667</td>\n",
       "      <td>3.406367</td>\n",
       "      <td>-42.000</td>\n",
       "      <td>-39.050</td>\n",
       "      <td>-36.100</td>\n",
       "      <td>-36.100</td>\n",
       "      <td>-36.100</td>\n",
       "    </tr>\n",
       "    <tr>\n",
       "      <th rowspan=\"3\" valign=\"top\">euribor3m</th>\n",
       "      <th>no</th>\n",
       "      <td>32588.0</td>\n",
       "      <td>3.447246</td>\n",
       "      <td>1.783904</td>\n",
       "      <td>0.634</td>\n",
       "      <td>1.313</td>\n",
       "      <td>4.856</td>\n",
       "      <td>4.961</td>\n",
       "      <td>5.045</td>\n",
       "    </tr>\n",
       "    <tr>\n",
       "      <th>unknown</th>\n",
       "      <td>8597.0</td>\n",
       "      <td>4.280654</td>\n",
       "      <td>1.341625</td>\n",
       "      <td>0.635</td>\n",
       "      <td>4.856</td>\n",
       "      <td>4.864</td>\n",
       "      <td>4.962</td>\n",
       "      <td>4.970</td>\n",
       "    </tr>\n",
       "    <tr>\n",
       "      <th>yes</th>\n",
       "      <td>3.0</td>\n",
       "      <td>4.693000</td>\n",
       "      <td>0.467654</td>\n",
       "      <td>4.153</td>\n",
       "      <td>4.558</td>\n",
       "      <td>4.963</td>\n",
       "      <td>4.963</td>\n",
       "      <td>4.963</td>\n",
       "    </tr>\n",
       "    <tr>\n",
       "      <th rowspan=\"3\" valign=\"top\">nr.employed</th>\n",
       "      <th>no</th>\n",
       "      <td>32588.0</td>\n",
       "      <td>5159.990214</td>\n",
       "      <td>75.795949</td>\n",
       "      <td>4963.600</td>\n",
       "      <td>5099.100</td>\n",
       "      <td>5191.000</td>\n",
       "      <td>5228.100</td>\n",
       "      <td>5228.100</td>\n",
       "    </tr>\n",
       "    <tr>\n",
       "      <th>unknown</th>\n",
       "      <td>8597.0</td>\n",
       "      <td>5193.725951</td>\n",
       "      <td>48.289122</td>\n",
       "      <td>4963.600</td>\n",
       "      <td>5191.000</td>\n",
       "      <td>5228.100</td>\n",
       "      <td>5228.100</td>\n",
       "      <td>5228.100</td>\n",
       "    </tr>\n",
       "    <tr>\n",
       "      <th>yes</th>\n",
       "      <td>3.0</td>\n",
       "      <td>5217.333333</td>\n",
       "      <td>18.648414</td>\n",
       "      <td>5195.800</td>\n",
       "      <td>5211.950</td>\n",
       "      <td>5228.100</td>\n",
       "      <td>5228.100</td>\n",
       "      <td>5228.100</td>\n",
       "    </tr>\n",
       "  </tbody>\n",
       "</table>\n",
       "</div>"
      ],
      "text/plain": [
       "                          count         mean         std       min       25%  \\\n",
       "               default                                                         \n",
       "age            no       32588.0    39.140635   10.477032    17.000    31.000   \n",
       "               unknown   8597.0    43.371990    9.488981    19.000    36.000   \n",
       "               yes          3.0    42.333333    9.814955    31.000    39.500   \n",
       "duration       no       32588.0   259.842549  261.069492     0.000   103.750   \n",
       "               unknown   8597.0   252.435035  252.336038     5.000    98.000   \n",
       "               yes          3.0   103.333333   34.151623    66.000    88.500   \n",
       "campaign       no       32588.0     2.520744    2.707943     1.000     1.000   \n",
       "               unknown   8597.0     2.745609    2.987461     1.000     1.000   \n",
       "               yes          3.0     1.333333    0.577350     1.000     1.000   \n",
       "pdays          no       32588.0   954.787130  204.815798     0.000   999.000   \n",
       "               unknown   8597.0   991.606258   85.379354     0.000   999.000   \n",
       "               yes          3.0   999.000000    0.000000   999.000   999.000   \n",
       "previous       no       32588.0     0.199030    0.532582     0.000     0.000   \n",
       "               unknown   8597.0     0.074096    0.292969     0.000     0.000   \n",
       "               yes          3.0     0.333333    0.577350     0.000     0.000   \n",
       "emp.var.rate   no       32588.0    -0.082168    1.617598    -3.400    -1.800   \n",
       "               unknown   8597.0     0.703466    1.190153    -3.400     1.100   \n",
       "               yes          3.0     0.900000    0.866025    -0.100     0.650   \n",
       "cons.price.idx no       32588.0    93.525639    0.588528    92.201    93.075   \n",
       "               unknown   8597.0    93.765365    0.496831    92.201    93.444   \n",
       "               yes          3.0    93.362667    0.140873    93.200    93.322   \n",
       "cons.conf.idx  no       32588.0   -40.565469    4.804758   -50.800   -42.700   \n",
       "               unknown   8597.0   -40.265139    3.878180   -50.000   -42.700   \n",
       "               yes          3.0   -38.066667    3.406367   -42.000   -39.050   \n",
       "euribor3m      no       32588.0     3.447246    1.783904     0.634     1.313   \n",
       "               unknown   8597.0     4.280654    1.341625     0.635     4.856   \n",
       "               yes          3.0     4.693000    0.467654     4.153     4.558   \n",
       "nr.employed    no       32588.0  5159.990214   75.795949  4963.600  5099.100   \n",
       "               unknown   8597.0  5193.725951   48.289122  4963.600  5191.000   \n",
       "               yes          3.0  5217.333333   18.648414  5195.800  5211.950   \n",
       "\n",
       "                             50%       75%       max  \n",
       "               default                                \n",
       "age            no         37.000    46.000    95.000  \n",
       "               unknown    43.000    51.000    98.000  \n",
       "               yes        48.000    48.000    48.000  \n",
       "duration       no        181.000   321.000  4918.000  \n",
       "               unknown   175.000   313.000  3366.000  \n",
       "               yes       111.000   122.000   133.000  \n",
       "campaign       no          2.000     3.000    43.000  \n",
       "               unknown     2.000     3.000    56.000  \n",
       "               yes         1.000     1.500     2.000  \n",
       "pdays          no        999.000   999.000   999.000  \n",
       "               unknown   999.000   999.000   999.000  \n",
       "               yes       999.000   999.000   999.000  \n",
       "previous       no          0.000     0.000     7.000  \n",
       "               unknown     0.000     0.000     4.000  \n",
       "               yes         0.000     0.500     1.000  \n",
       "emp.var.rate   no          1.100     1.400     1.400  \n",
       "               unknown     1.400     1.400     1.400  \n",
       "               yes         1.400     1.400     1.400  \n",
       "cons.price.idx no         93.444    93.994    94.767  \n",
       "               unknown    93.918    93.994    94.601  \n",
       "               yes        93.444    93.444    93.444  \n",
       "cons.conf.idx  no        -41.800   -36.400   -26.900  \n",
       "               unknown   -41.800   -36.400   -26.900  \n",
       "               yes       -36.100   -36.100   -36.100  \n",
       "euribor3m      no          4.856     4.961     5.045  \n",
       "               unknown     4.864     4.962     4.970  \n",
       "               yes         4.963     4.963     4.963  \n",
       "nr.employed    no       5191.000  5228.100  5228.100  \n",
       "               unknown  5228.100  5228.100  5228.100  \n",
       "               yes      5228.100  5228.100  5228.100  "
      ]
     },
     "execution_count": 12,
     "metadata": {},
     "output_type": "execute_result"
    }
   ],
   "source": [
    "(bank\n",
    " .groupby('default')\n",
    " .describe()\n",
    " .stack()\n",
    " .unstack(level=0)\n",
    " .T\n",
    ")"
   ]
  },
  {
   "cell_type": "code",
   "execution_count": 13,
   "metadata": {},
   "outputs": [
    {
     "data": {
      "text/plain": [
       "<Axes: xlabel='pdays', ylabel='campaign'>"
      ]
     },
     "execution_count": 13,
     "metadata": {},
     "output_type": "execute_result"
    },
    {
     "data": {
      "image/png": "[encoded data removed]",
      "text/plain": [
       "<Figure size 640x480 with 1 Axes>"
      ]
     },
     "metadata": {},
     "output_type": "display_data"
    }
   ],
   "source": [
    "(bank\n",
    " .plot.scatter(x='pdays', y='campaign')\n",
    ")"
   ]
  },
  {
   "cell_type": "code",
   "execution_count": 14,
   "metadata": {},
   "outputs": [
    {
     "data": {
      "text/plain": [
       "'1.5.3'"
      ]
     },
     "execution_count": 14,
     "metadata": {},
     "output_type": "execute_result"
    }
   ],
   "source": [
    "pd.__version__"
   ]
  },
  {
   "cell_type": "code",
   "execution_count": 15,
   "metadata": {},
   "outputs": [
    {
     "data": {
      "text/plain": [
       "<Axes: xlabel='pdays', ylabel='campaign'>"
      ]
     },
     "execution_count": 15,
     "metadata": {},
     "output_type": "execute_result"
    },
    {
     "data": {
      "image/png": "[encoded data removed]",
      "text/plain": [
       "<Figure size 640x480 with 2 Axes>"
      ]
     },
     "metadata": {},
     "output_type": "display_data"
    }
   ],
   "source": [
    "(bank\n",
    " .assign(subscribed=(bank.y == 'yes').astype(int))\n",
    " .pipe(lambda df_: df_.plot.scatter(x='pdays', y='campaign', logx=True, alpha=.1, c='subscribed', cmap='viridis'))\n",
    ")"
   ]
  },
  {
   "attachments": {},
   "cell_type": "markdown",
   "metadata": {},
   "source": [
    "#### KDE's"
   ]
  },
  {
   "cell_type": "code",
   "execution_count": 16,
   "metadata": {},
   "outputs": [
    {
     "data": {
      "text/plain": [
       "y\n",
       "no     Axes(0.125,0.11;0.775x0.77)\n",
       "yes    Axes(0.125,0.11;0.775x0.77)\n",
       "Name: campaign, dtype: object"
      ]
     },
     "execution_count": 16,
     "metadata": {},
     "output_type": "execute_result"
    },
    {
     "data": {
      "image/png": "[encoded data removed]",
      "text/plain": [
       "<Figure size 640x480 with 1 Axes>"
      ]
     },
     "metadata": {},
     "output_type": "display_data"
    }
   ],
   "source": [
    "(bank\n",
    " .groupby('y')\n",
    " .campaign\n",
    "#  .mean()\n",
    " .plot.density(legend=True)  # need scipy for this\n",
    ")"
   ]
  },
  {
   "cell_type": "code",
   "execution_count": 17,
   "metadata": {},
   "outputs": [
    {
     "data": {
      "text/plain": [
       "y\n",
       "no     Axes(0.125,0.11;0.775x0.77)\n",
       "yes    Axes(0.125,0.11;0.775x0.77)\n",
       "Name: pdays, dtype: object"
      ]
     },
     "execution_count": 17,
     "metadata": {},
     "output_type": "execute_result"
    },
    {
     "data": {
      "image/png": "[encoded data removed]",
      "text/plain": [
       "<Figure size 640x480 with 1 Axes>"
      ]
     },
     "metadata": {},
     "output_type": "display_data"
    }
   ],
   "source": [
    "(bank\n",
    " .groupby('y')\n",
    " .pdays\n",
    " .plot.density(legend=True)\n",
    ")"
   ]
  },
  {
   "cell_type": "code",
   "execution_count": 18,
   "metadata": {},
   "outputs": [
    {
     "data": {
      "text/plain": [
       "y\n",
       "no     Axes(0.125,0.11;0.775x0.77)\n",
       "yes    Axes(0.125,0.11;0.775x0.77)\n",
       "Name: duration, dtype: object"
      ]
     },
     "execution_count": 18,
     "metadata": {},
     "output_type": "execute_result"
    },
    {
     "data": {
      "image/png": "[encoded data removed]",
      "text/plain": [
       "<Figure size 640x480 with 1 Axes>"
      ]
     },
     "metadata": {},
     "output_type": "display_data"
    }
   ],
   "source": [
    "(bank\n",
    " .groupby('y')\n",
    " .duration\n",
    " .plot.density(legend=True)\n",
    ")"
   ]
  },
  {
   "attachments": {},
   "cell_type": "markdown",
   "metadata": {},
   "source": [
    "### Cleaning Data"
   ]
  },
  {
   "cell_type": "code",
   "execution_count": 19,
   "metadata": {},
   "outputs": [
    {
     "data": {
      "text/plain": [
       "age               False\n",
       "job               False\n",
       "marital           False\n",
       "education         False\n",
       "default           False\n",
       "housing           False\n",
       "loan              False\n",
       "contact           False\n",
       "month             False\n",
       "day_of_week       False\n",
       "duration          False\n",
       "campaign          False\n",
       "pdays             False\n",
       "previous          False\n",
       "poutcome          False\n",
       "emp.var.rate      False\n",
       "cons.price.idx    False\n",
       "cons.conf.idx     False\n",
       "euribor3m         False\n",
       "nr.employed       False\n",
       "y                 False\n",
       "dtype: bool"
      ]
     },
     "execution_count": 19,
     "metadata": {},
     "output_type": "execute_result"
    }
   ],
   "source": [
    "# bank.isna()              # T/F for each data value\n",
    "bank.isna().any()        # T/F for each column\n",
    "# bank.isna().any().any()  # T/F for entire dataframe"
   ]
  },
  {
   "cell_type": "code",
   "execution_count": 20,
   "metadata": {},
   "outputs": [
    {
     "name": "stdout",
     "output_type": "stream",
     "text": [
      "<class 'pandas.core.frame.DataFrame'>\n",
      "RangeIndex: 41188 entries, 0 to 41187\n",
      "Data columns (total 21 columns):\n",
      " #   Column          Non-Null Count  Dtype  \n",
      "---  ------          --------------  -----  \n",
      " 0   age             41188 non-null  int64  \n",
      " 1   job             41188 non-null  object \n",
      " 2   marital         41188 non-null  object \n",
      " 3   education       41188 non-null  object \n",
      " 4   default         41188 non-null  object \n",
      " 5   housing         41188 non-null  object \n",
      " 6   loan            41188 non-null  object \n",
      " 7   contact         41188 non-null  object \n",
      " 8   month           41188 non-null  object \n",
      " 9   day_of_week     41188 non-null  object \n",
      " 10  duration        41188 non-null  int64  \n",
      " 11  campaign        41188 non-null  int64  \n",
      " 12  pdays           41188 non-null  int64  \n",
      " 13  previous        41188 non-null  int64  \n",
      " 14  poutcome        41188 non-null  object \n",
      " 15  emp.var.rate    41188 non-null  float64\n",
      " 16  cons.price.idx  41188 non-null  float64\n",
      " 17  cons.conf.idx   41188 non-null  float64\n",
      " 18  euribor3m       41188 non-null  float64\n",
      " 19  nr.employed     41188 non-null  float64\n",
      " 20  y               41188 non-null  object \n",
      "dtypes: float64(5), int64(5), object(11)\n",
      "memory usage: 6.6+ MB\n"
     ]
    }
   ],
   "source": [
    "bank.info()"
   ]
  },
  {
   "cell_type": "code",
   "execution_count": 21,
   "metadata": {},
   "outputs": [],
   "source": [
    "def tweak_bank(df):\n",
    "    return (df\n",
    "        .assign(**df.select_dtypes(object).astype('category'))  # convert all 'object' types to 'category\n",
    "    )"
   ]
  },
  {
   "attachments": {},
   "cell_type": "markdown",
   "metadata": {},
   "source": [
    "#### Check effect on memory"
   ]
  },
  {
   "cell_type": "code",
   "execution_count": 22,
   "metadata": {},
   "outputs": [
    {
     "name": "stdout",
     "output_type": "stream",
     "text": [
      "31,730,891\n"
     ]
    }
   ],
   "source": [
    "print(f'{bank.memory_usage(deep=True).sum():,}')"
   ]
  },
  {
   "cell_type": "code",
   "execution_count": 23,
   "metadata": {},
   "outputs": [
    {
     "name": "stdout",
     "output_type": "stream",
     "text": [
      "3,753,617\n"
     ]
    }
   ],
   "source": [
    "print(f'{tweak_bank(bank).memory_usage(deep=True).sum():,}')"
   ]
  },
  {
   "attachments": {},
   "cell_type": "markdown",
   "metadata": {},
   "source": [
    "Note:  Dayum!"
   ]
  },
  {
   "attachments": {},
   "cell_type": "markdown",
   "metadata": {},
   "source": [
    "#### Make a transformer for use inside a `scikit-learn` pipeline"
   ]
  },
  {
   "cell_type": "code",
   "execution_count": 24,
   "metadata": {},
   "outputs": [],
   "source": [
    "from sklearn import base, pipeline\n",
    "from feature_engine import encoding, imputation"
   ]
  },
  {
   "cell_type": "code",
   "execution_count": 25,
   "metadata": {},
   "outputs": [],
   "source": [
    "# define the transformer\n",
    "class BankTransformer(base.BaseEstimator, base.TransformerMixin):\n",
    "    def transform(self, X):\n",
    "        return tweak_bank(X)\n",
    "    \n",
    "    def fit(self, X, y=None):  # the scikit-learn API requires all estimator and transformer classes have a fit() method\n",
    "        return self"
   ]
  },
  {
   "cell_type": "code",
   "execution_count": 26,
   "metadata": {},
   "outputs": [],
   "source": [
    "# build the pipeline\n",
    "pl = pipeline.Pipeline(\n",
    "    [('tweak', BankTransformer()),\n",
    "     ('cat_encoder', encoding.OneHotEncoder(top_categories=5, drop_last=True)),\n",
    "    #  ('num_impute', imputation.MeanMedianImputer(imputation_method='median'))  # this replaces missing values w/ the feature's median value\n",
    "                                                                                 # unnecessary for us since there's no missing values\n",
    "    ]\n",
    ")"
   ]
  },
  {
   "attachments": {},
   "cell_type": "markdown",
   "metadata": {},
   "source": [
    "Note: `drop_last=True` saves on memory since the model is smart enough to realize if the other previous categories are 0, then you must be the last category."
   ]
  },
  {
   "cell_type": "code",
   "execution_count": 27,
   "metadata": {},
   "outputs": [
    {
     "data": {
      "text/html": [
       "<div>\n",
       "<style scoped>\n",
       "    .dataframe tbody tr th:only-of-type {\n",
       "        vertical-align: middle;\n",
       "    }\n",
       "\n",
       "    .dataframe tbody tr th {\n",
       "        vertical-align: top;\n",
       "    }\n",
       "\n",
       "    .dataframe thead th {\n",
       "        text-align: right;\n",
       "    }\n",
       "</style>\n",
       "<table border=\"1\" class=\"dataframe\">\n",
       "  <thead>\n",
       "    <tr style=\"text-align: right;\">\n",
       "      <th></th>\n",
       "      <th>age</th>\n",
       "      <th>duration</th>\n",
       "      <th>campaign</th>\n",
       "      <th>pdays</th>\n",
       "      <th>previous</th>\n",
       "      <th>emp.var.rate</th>\n",
       "      <th>cons.price.idx</th>\n",
       "      <th>cons.conf.idx</th>\n",
       "      <th>euribor3m</th>\n",
       "      <th>nr.employed</th>\n",
       "      <th>...</th>\n",
       "      <th>day_of_week_thu</th>\n",
       "      <th>day_of_week_mon</th>\n",
       "      <th>day_of_week_wed</th>\n",
       "      <th>day_of_week_tue</th>\n",
       "      <th>day_of_week_fri</th>\n",
       "      <th>poutcome_nonexistent</th>\n",
       "      <th>poutcome_failure</th>\n",
       "      <th>poutcome_success</th>\n",
       "      <th>y_no</th>\n",
       "      <th>y_yes</th>\n",
       "    </tr>\n",
       "  </thead>\n",
       "  <tbody>\n",
       "    <tr>\n",
       "      <th>0</th>\n",
       "      <td>56</td>\n",
       "      <td>261</td>\n",
       "      <td>1</td>\n",
       "      <td>999</td>\n",
       "      <td>0</td>\n",
       "      <td>1.1</td>\n",
       "      <td>93.994</td>\n",
       "      <td>-36.4</td>\n",
       "      <td>4.857</td>\n",
       "      <td>5191.0</td>\n",
       "      <td>...</td>\n",
       "      <td>0</td>\n",
       "      <td>1</td>\n",
       "      <td>0</td>\n",
       "      <td>0</td>\n",
       "      <td>0</td>\n",
       "      <td>1</td>\n",
       "      <td>0</td>\n",
       "      <td>0</td>\n",
       "      <td>1</td>\n",
       "      <td>0</td>\n",
       "    </tr>\n",
       "    <tr>\n",
       "      <th>1</th>\n",
       "      <td>57</td>\n",
       "      <td>149</td>\n",
       "      <td>1</td>\n",
       "      <td>999</td>\n",
       "      <td>0</td>\n",
       "      <td>1.1</td>\n",
       "      <td>93.994</td>\n",
       "      <td>-36.4</td>\n",
       "      <td>4.857</td>\n",
       "      <td>5191.0</td>\n",
       "      <td>...</td>\n",
       "      <td>0</td>\n",
       "      <td>1</td>\n",
       "      <td>0</td>\n",
       "      <td>0</td>\n",
       "      <td>0</td>\n",
       "      <td>1</td>\n",
       "      <td>0</td>\n",
       "      <td>0</td>\n",
       "      <td>1</td>\n",
       "      <td>0</td>\n",
       "    </tr>\n",
       "    <tr>\n",
       "      <th>2</th>\n",
       "      <td>37</td>\n",
       "      <td>226</td>\n",
       "      <td>1</td>\n",
       "      <td>999</td>\n",
       "      <td>0</td>\n",
       "      <td>1.1</td>\n",
       "      <td>93.994</td>\n",
       "      <td>-36.4</td>\n",
       "      <td>4.857</td>\n",
       "      <td>5191.0</td>\n",
       "      <td>...</td>\n",
       "      <td>0</td>\n",
       "      <td>1</td>\n",
       "      <td>0</td>\n",
       "      <td>0</td>\n",
       "      <td>0</td>\n",
       "      <td>1</td>\n",
       "      <td>0</td>\n",
       "      <td>0</td>\n",
       "      <td>1</td>\n",
       "      <td>0</td>\n",
       "    </tr>\n",
       "    <tr>\n",
       "      <th>3</th>\n",
       "      <td>40</td>\n",
       "      <td>151</td>\n",
       "      <td>1</td>\n",
       "      <td>999</td>\n",
       "      <td>0</td>\n",
       "      <td>1.1</td>\n",
       "      <td>93.994</td>\n",
       "      <td>-36.4</td>\n",
       "      <td>4.857</td>\n",
       "      <td>5191.0</td>\n",
       "      <td>...</td>\n",
       "      <td>0</td>\n",
       "      <td>1</td>\n",
       "      <td>0</td>\n",
       "      <td>0</td>\n",
       "      <td>0</td>\n",
       "      <td>1</td>\n",
       "      <td>0</td>\n",
       "      <td>0</td>\n",
       "      <td>1</td>\n",
       "      <td>0</td>\n",
       "    </tr>\n",
       "    <tr>\n",
       "      <th>4</th>\n",
       "      <td>56</td>\n",
       "      <td>307</td>\n",
       "      <td>1</td>\n",
       "      <td>999</td>\n",
       "      <td>0</td>\n",
       "      <td>1.1</td>\n",
       "      <td>93.994</td>\n",
       "      <td>-36.4</td>\n",
       "      <td>4.857</td>\n",
       "      <td>5191.0</td>\n",
       "      <td>...</td>\n",
       "      <td>0</td>\n",
       "      <td>1</td>\n",
       "      <td>0</td>\n",
       "      <td>0</td>\n",
       "      <td>0</td>\n",
       "      <td>1</td>\n",
       "      <td>0</td>\n",
       "      <td>0</td>\n",
       "      <td>1</td>\n",
       "      <td>0</td>\n",
       "    </tr>\n",
       "    <tr>\n",
       "      <th>...</th>\n",
       "      <td>...</td>\n",
       "      <td>...</td>\n",
       "      <td>...</td>\n",
       "      <td>...</td>\n",
       "      <td>...</td>\n",
       "      <td>...</td>\n",
       "      <td>...</td>\n",
       "      <td>...</td>\n",
       "      <td>...</td>\n",
       "      <td>...</td>\n",
       "      <td>...</td>\n",
       "      <td>...</td>\n",
       "      <td>...</td>\n",
       "      <td>...</td>\n",
       "      <td>...</td>\n",
       "      <td>...</td>\n",
       "      <td>...</td>\n",
       "      <td>...</td>\n",
       "      <td>...</td>\n",
       "      <td>...</td>\n",
       "      <td>...</td>\n",
       "    </tr>\n",
       "    <tr>\n",
       "      <th>41183</th>\n",
       "      <td>73</td>\n",
       "      <td>334</td>\n",
       "      <td>1</td>\n",
       "      <td>999</td>\n",
       "      <td>0</td>\n",
       "      <td>-1.1</td>\n",
       "      <td>94.767</td>\n",
       "      <td>-50.8</td>\n",
       "      <td>1.028</td>\n",
       "      <td>4963.6</td>\n",
       "      <td>...</td>\n",
       "      <td>0</td>\n",
       "      <td>0</td>\n",
       "      <td>0</td>\n",
       "      <td>0</td>\n",
       "      <td>1</td>\n",
       "      <td>1</td>\n",
       "      <td>0</td>\n",
       "      <td>0</td>\n",
       "      <td>0</td>\n",
       "      <td>1</td>\n",
       "    </tr>\n",
       "    <tr>\n",
       "      <th>41184</th>\n",
       "      <td>46</td>\n",
       "      <td>383</td>\n",
       "      <td>1</td>\n",
       "      <td>999</td>\n",
       "      <td>0</td>\n",
       "      <td>-1.1</td>\n",
       "      <td>94.767</td>\n",
       "      <td>-50.8</td>\n",
       "      <td>1.028</td>\n",
       "      <td>4963.6</td>\n",
       "      <td>...</td>\n",
       "      <td>0</td>\n",
       "      <td>0</td>\n",
       "      <td>0</td>\n",
       "      <td>0</td>\n",
       "      <td>1</td>\n",
       "      <td>1</td>\n",
       "      <td>0</td>\n",
       "      <td>0</td>\n",
       "      <td>1</td>\n",
       "      <td>0</td>\n",
       "    </tr>\n",
       "    <tr>\n",
       "      <th>41185</th>\n",
       "      <td>56</td>\n",
       "      <td>189</td>\n",
       "      <td>2</td>\n",
       "      <td>999</td>\n",
       "      <td>0</td>\n",
       "      <td>-1.1</td>\n",
       "      <td>94.767</td>\n",
       "      <td>-50.8</td>\n",
       "      <td>1.028</td>\n",
       "      <td>4963.6</td>\n",
       "      <td>...</td>\n",
       "      <td>0</td>\n",
       "      <td>0</td>\n",
       "      <td>0</td>\n",
       "      <td>0</td>\n",
       "      <td>1</td>\n",
       "      <td>1</td>\n",
       "      <td>0</td>\n",
       "      <td>0</td>\n",
       "      <td>1</td>\n",
       "      <td>0</td>\n",
       "    </tr>\n",
       "    <tr>\n",
       "      <th>41186</th>\n",
       "      <td>44</td>\n",
       "      <td>442</td>\n",
       "      <td>1</td>\n",
       "      <td>999</td>\n",
       "      <td>0</td>\n",
       "      <td>-1.1</td>\n",
       "      <td>94.767</td>\n",
       "      <td>-50.8</td>\n",
       "      <td>1.028</td>\n",
       "      <td>4963.6</td>\n",
       "      <td>...</td>\n",
       "      <td>0</td>\n",
       "      <td>0</td>\n",
       "      <td>0</td>\n",
       "      <td>0</td>\n",
       "      <td>1</td>\n",
       "      <td>1</td>\n",
       "      <td>0</td>\n",
       "      <td>0</td>\n",
       "      <td>0</td>\n",
       "      <td>1</td>\n",
       "    </tr>\n",
       "    <tr>\n",
       "      <th>41187</th>\n",
       "      <td>74</td>\n",
       "      <td>239</td>\n",
       "      <td>3</td>\n",
       "      <td>999</td>\n",
       "      <td>1</td>\n",
       "      <td>-1.1</td>\n",
       "      <td>94.767</td>\n",
       "      <td>-50.8</td>\n",
       "      <td>1.028</td>\n",
       "      <td>4963.6</td>\n",
       "      <td>...</td>\n",
       "      <td>0</td>\n",
       "      <td>0</td>\n",
       "      <td>0</td>\n",
       "      <td>0</td>\n",
       "      <td>1</td>\n",
       "      <td>0</td>\n",
       "      <td>1</td>\n",
       "      <td>0</td>\n",
       "      <td>1</td>\n",
       "      <td>0</td>\n",
       "    </tr>\n",
       "  </tbody>\n",
       "</table>\n",
       "<p>41188 rows × 50 columns</p>\n",
       "</div>"
      ],
      "text/plain": [
       "       age  duration  campaign  pdays  previous  emp.var.rate  cons.price.idx  \\\n",
       "0       56       261         1    999         0           1.1          93.994   \n",
       "1       57       149         1    999         0           1.1          93.994   \n",
       "2       37       226         1    999         0           1.1          93.994   \n",
       "3       40       151         1    999         0           1.1          93.994   \n",
       "4       56       307         1    999         0           1.1          93.994   \n",
       "...    ...       ...       ...    ...       ...           ...             ...   \n",
       "41183   73       334         1    999         0          -1.1          94.767   \n",
       "41184   46       383         1    999         0          -1.1          94.767   \n",
       "41185   56       189         2    999         0          -1.1          94.767   \n",
       "41186   44       442         1    999         0          -1.1          94.767   \n",
       "41187   74       239         3    999         1          -1.1          94.767   \n",
       "\n",
       "       cons.conf.idx  euribor3m  nr.employed  ...  day_of_week_thu  \\\n",
       "0              -36.4      4.857       5191.0  ...                0   \n",
       "1              -36.4      4.857       5191.0  ...                0   \n",
       "2              -36.4      4.857       5191.0  ...                0   \n",
       "3              -36.4      4.857       5191.0  ...                0   \n",
       "4              -36.4      4.857       5191.0  ...                0   \n",
       "...              ...        ...          ...  ...              ...   \n",
       "41183          -50.8      1.028       4963.6  ...                0   \n",
       "41184          -50.8      1.028       4963.6  ...                0   \n",
       "41185          -50.8      1.028       4963.6  ...                0   \n",
       "41186          -50.8      1.028       4963.6  ...                0   \n",
       "41187          -50.8      1.028       4963.6  ...                0   \n",
       "\n",
       "       day_of_week_mon  day_of_week_wed  day_of_week_tue  day_of_week_fri  \\\n",
       "0                    1                0                0                0   \n",
       "1                    1                0                0                0   \n",
       "2                    1                0                0                0   \n",
       "3                    1                0                0                0   \n",
       "4                    1                0                0                0   \n",
       "...                ...              ...              ...              ...   \n",
       "41183                0                0                0                1   \n",
       "41184                0                0                0                1   \n",
       "41185                0                0                0                1   \n",
       "41186                0                0                0                1   \n",
       "41187                0                0                0                1   \n",
       "\n",
       "       poutcome_nonexistent  poutcome_failure  poutcome_success  y_no  y_yes  \n",
       "0                         1                 0                 0     1      0  \n",
       "1                         1                 0                 0     1      0  \n",
       "2                         1                 0                 0     1      0  \n",
       "3                         1                 0                 0     1      0  \n",
       "4                         1                 0                 0     1      0  \n",
       "...                     ...               ...               ...   ...    ...  \n",
       "41183                     1                 0                 0     0      1  \n",
       "41184                     1                 0                 0     1      0  \n",
       "41185                     1                 0                 0     1      0  \n",
       "41186                     1                 0                 0     0      1  \n",
       "41187                     0                 1                 0     1      0  \n",
       "\n",
       "[41188 rows x 50 columns]"
      ]
     },
     "execution_count": 27,
     "metadata": {},
     "output_type": "execute_result"
    }
   ],
   "source": [
    "# use the pipeline\n",
    "pl.fit_transform(bank)  ## fit_transform() is inherited from TransformerMixin, which is subclassed by our bespoke BankTransformer class"
   ]
  },
  {
   "attachments": {},
   "cell_type": "markdown",
   "metadata": {},
   "source": [
    "#### Split data in _train_ and _test_ now that it's clean"
   ]
  },
  {
   "cell_type": "code",
   "execution_count": 28,
   "metadata": {},
   "outputs": [],
   "source": [
    "from sklearn import model_selection"
   ]
  },
  {
   "cell_type": "code",
   "execution_count": 29,
   "metadata": {},
   "outputs": [],
   "source": [
    "X_raw_train, X_raw_test, y_raw_train, y_raw_test = model_selection.train_test_split(\n",
    "    bank.drop(columns='y'),\n",
    "    bank.y,\n",
    "    stratify=bank.y,  # stratify ensures the same %age of values in test as in train \n",
    "    random_state=42\n",
    ")\n",
    "\n",
    "X_train = pl.fit_transform(X_raw_train)\n",
    "X_test = pl.transform(X_raw_test)        # NB: don't run fit on test b/c we wanna see how good our model is"
   ]
  },
  {
   "cell_type": "code",
   "execution_count": 30,
   "metadata": {},
   "outputs": [
    {
     "data": {
      "text/html": [
       "<div>\n",
       "<style scoped>\n",
       "    .dataframe tbody tr th:only-of-type {\n",
       "        vertical-align: middle;\n",
       "    }\n",
       "\n",
       "    .dataframe tbody tr th {\n",
       "        vertical-align: top;\n",
       "    }\n",
       "\n",
       "    .dataframe thead th {\n",
       "        text-align: right;\n",
       "    }\n",
       "</style>\n",
       "<table border=\"1\" class=\"dataframe\">\n",
       "  <thead>\n",
       "    <tr style=\"text-align: right;\">\n",
       "      <th></th>\n",
       "      <th>age</th>\n",
       "      <th>duration</th>\n",
       "      <th>campaign</th>\n",
       "      <th>pdays</th>\n",
       "      <th>previous</th>\n",
       "      <th>emp.var.rate</th>\n",
       "      <th>cons.price.idx</th>\n",
       "      <th>cons.conf.idx</th>\n",
       "      <th>euribor3m</th>\n",
       "      <th>nr.employed</th>\n",
       "      <th>...</th>\n",
       "      <th>month_jun</th>\n",
       "      <th>month_nov</th>\n",
       "      <th>day_of_week_thu</th>\n",
       "      <th>day_of_week_mon</th>\n",
       "      <th>day_of_week_wed</th>\n",
       "      <th>day_of_week_tue</th>\n",
       "      <th>day_of_week_fri</th>\n",
       "      <th>poutcome_nonexistent</th>\n",
       "      <th>poutcome_failure</th>\n",
       "      <th>poutcome_success</th>\n",
       "    </tr>\n",
       "  </thead>\n",
       "  <tbody>\n",
       "    <tr>\n",
       "      <th>34300</th>\n",
       "      <td>29</td>\n",
       "      <td>10</td>\n",
       "      <td>10</td>\n",
       "      <td>999</td>\n",
       "      <td>0</td>\n",
       "      <td>-1.8</td>\n",
       "      <td>92.893</td>\n",
       "      <td>-46.2</td>\n",
       "      <td>1.266</td>\n",
       "      <td>5099.1</td>\n",
       "      <td>...</td>\n",
       "      <td>0</td>\n",
       "      <td>0</td>\n",
       "      <td>1</td>\n",
       "      <td>0</td>\n",
       "      <td>0</td>\n",
       "      <td>0</td>\n",
       "      <td>0</td>\n",
       "      <td>1</td>\n",
       "      <td>0</td>\n",
       "      <td>0</td>\n",
       "    </tr>\n",
       "    <tr>\n",
       "      <th>25076</th>\n",
       "      <td>54</td>\n",
       "      <td>53</td>\n",
       "      <td>1</td>\n",
       "      <td>999</td>\n",
       "      <td>1</td>\n",
       "      <td>-0.1</td>\n",
       "      <td>93.200</td>\n",
       "      <td>-42.0</td>\n",
       "      <td>4.153</td>\n",
       "      <td>5195.8</td>\n",
       "      <td>...</td>\n",
       "      <td>0</td>\n",
       "      <td>1</td>\n",
       "      <td>0</td>\n",
       "      <td>0</td>\n",
       "      <td>0</td>\n",
       "      <td>1</td>\n",
       "      <td>0</td>\n",
       "      <td>0</td>\n",
       "      <td>1</td>\n",
       "      <td>0</td>\n",
       "    </tr>\n",
       "    <tr>\n",
       "      <th>17533</th>\n",
       "      <td>55</td>\n",
       "      <td>136</td>\n",
       "      <td>3</td>\n",
       "      <td>999</td>\n",
       "      <td>0</td>\n",
       "      <td>1.4</td>\n",
       "      <td>93.918</td>\n",
       "      <td>-42.7</td>\n",
       "      <td>4.962</td>\n",
       "      <td>5228.1</td>\n",
       "      <td>...</td>\n",
       "      <td>0</td>\n",
       "      <td>0</td>\n",
       "      <td>0</td>\n",
       "      <td>1</td>\n",
       "      <td>0</td>\n",
       "      <td>0</td>\n",
       "      <td>0</td>\n",
       "      <td>1</td>\n",
       "      <td>0</td>\n",
       "      <td>0</td>\n",
       "    </tr>\n",
       "    <tr>\n",
       "      <th>35820</th>\n",
       "      <td>43</td>\n",
       "      <td>715</td>\n",
       "      <td>6</td>\n",
       "      <td>999</td>\n",
       "      <td>0</td>\n",
       "      <td>-1.8</td>\n",
       "      <td>92.893</td>\n",
       "      <td>-46.2</td>\n",
       "      <td>1.244</td>\n",
       "      <td>5099.1</td>\n",
       "      <td>...</td>\n",
       "      <td>0</td>\n",
       "      <td>0</td>\n",
       "      <td>0</td>\n",
       "      <td>1</td>\n",
       "      <td>0</td>\n",
       "      <td>0</td>\n",
       "      <td>0</td>\n",
       "      <td>1</td>\n",
       "      <td>0</td>\n",
       "      <td>0</td>\n",
       "    </tr>\n",
       "    <tr>\n",
       "      <th>1080</th>\n",
       "      <td>54</td>\n",
       "      <td>62</td>\n",
       "      <td>5</td>\n",
       "      <td>999</td>\n",
       "      <td>0</td>\n",
       "      <td>1.1</td>\n",
       "      <td>93.994</td>\n",
       "      <td>-36.4</td>\n",
       "      <td>4.856</td>\n",
       "      <td>5191.0</td>\n",
       "      <td>...</td>\n",
       "      <td>0</td>\n",
       "      <td>0</td>\n",
       "      <td>0</td>\n",
       "      <td>0</td>\n",
       "      <td>1</td>\n",
       "      <td>0</td>\n",
       "      <td>0</td>\n",
       "      <td>1</td>\n",
       "      <td>0</td>\n",
       "      <td>0</td>\n",
       "    </tr>\n",
       "    <tr>\n",
       "      <th>...</th>\n",
       "      <td>...</td>\n",
       "      <td>...</td>\n",
       "      <td>...</td>\n",
       "      <td>...</td>\n",
       "      <td>...</td>\n",
       "      <td>...</td>\n",
       "      <td>...</td>\n",
       "      <td>...</td>\n",
       "      <td>...</td>\n",
       "      <td>...</td>\n",
       "      <td>...</td>\n",
       "      <td>...</td>\n",
       "      <td>...</td>\n",
       "      <td>...</td>\n",
       "      <td>...</td>\n",
       "      <td>...</td>\n",
       "      <td>...</td>\n",
       "      <td>...</td>\n",
       "      <td>...</td>\n",
       "      <td>...</td>\n",
       "      <td>...</td>\n",
       "    </tr>\n",
       "    <tr>\n",
       "      <th>14392</th>\n",
       "      <td>54</td>\n",
       "      <td>131</td>\n",
       "      <td>4</td>\n",
       "      <td>999</td>\n",
       "      <td>0</td>\n",
       "      <td>1.4</td>\n",
       "      <td>93.918</td>\n",
       "      <td>-42.7</td>\n",
       "      <td>4.962</td>\n",
       "      <td>5228.1</td>\n",
       "      <td>...</td>\n",
       "      <td>0</td>\n",
       "      <td>0</td>\n",
       "      <td>0</td>\n",
       "      <td>1</td>\n",
       "      <td>0</td>\n",
       "      <td>0</td>\n",
       "      <td>0</td>\n",
       "      <td>1</td>\n",
       "      <td>0</td>\n",
       "      <td>0</td>\n",
       "    </tr>\n",
       "    <tr>\n",
       "      <th>7494</th>\n",
       "      <td>29</td>\n",
       "      <td>165</td>\n",
       "      <td>1</td>\n",
       "      <td>999</td>\n",
       "      <td>0</td>\n",
       "      <td>1.1</td>\n",
       "      <td>93.994</td>\n",
       "      <td>-36.4</td>\n",
       "      <td>4.864</td>\n",
       "      <td>5191.0</td>\n",
       "      <td>...</td>\n",
       "      <td>0</td>\n",
       "      <td>0</td>\n",
       "      <td>0</td>\n",
       "      <td>0</td>\n",
       "      <td>0</td>\n",
       "      <td>0</td>\n",
       "      <td>1</td>\n",
       "      <td>1</td>\n",
       "      <td>0</td>\n",
       "      <td>0</td>\n",
       "    </tr>\n",
       "    <tr>\n",
       "      <th>10747</th>\n",
       "      <td>35</td>\n",
       "      <td>544</td>\n",
       "      <td>3</td>\n",
       "      <td>999</td>\n",
       "      <td>0</td>\n",
       "      <td>1.4</td>\n",
       "      <td>94.465</td>\n",
       "      <td>-41.8</td>\n",
       "      <td>4.961</td>\n",
       "      <td>5228.1</td>\n",
       "      <td>...</td>\n",
       "      <td>1</td>\n",
       "      <td>0</td>\n",
       "      <td>0</td>\n",
       "      <td>0</td>\n",
       "      <td>0</td>\n",
       "      <td>1</td>\n",
       "      <td>0</td>\n",
       "      <td>1</td>\n",
       "      <td>0</td>\n",
       "      <td>0</td>\n",
       "    </tr>\n",
       "    <tr>\n",
       "      <th>34138</th>\n",
       "      <td>32</td>\n",
       "      <td>1805</td>\n",
       "      <td>4</td>\n",
       "      <td>999</td>\n",
       "      <td>0</td>\n",
       "      <td>-1.8</td>\n",
       "      <td>92.893</td>\n",
       "      <td>-46.2</td>\n",
       "      <td>1.281</td>\n",
       "      <td>5099.1</td>\n",
       "      <td>...</td>\n",
       "      <td>0</td>\n",
       "      <td>0</td>\n",
       "      <td>0</td>\n",
       "      <td>0</td>\n",
       "      <td>1</td>\n",
       "      <td>0</td>\n",
       "      <td>0</td>\n",
       "      <td>1</td>\n",
       "      <td>0</td>\n",
       "      <td>0</td>\n",
       "    </tr>\n",
       "    <tr>\n",
       "      <th>10241</th>\n",
       "      <td>31</td>\n",
       "      <td>325</td>\n",
       "      <td>3</td>\n",
       "      <td>999</td>\n",
       "      <td>0</td>\n",
       "      <td>1.4</td>\n",
       "      <td>94.465</td>\n",
       "      <td>-41.8</td>\n",
       "      <td>4.960</td>\n",
       "      <td>5228.1</td>\n",
       "      <td>...</td>\n",
       "      <td>1</td>\n",
       "      <td>0</td>\n",
       "      <td>0</td>\n",
       "      <td>1</td>\n",
       "      <td>0</td>\n",
       "      <td>0</td>\n",
       "      <td>0</td>\n",
       "      <td>1</td>\n",
       "      <td>0</td>\n",
       "      <td>0</td>\n",
       "    </tr>\n",
       "  </tbody>\n",
       "</table>\n",
       "<p>30891 rows × 48 columns</p>\n",
       "</div>"
      ],
      "text/plain": [
       "       age  duration  campaign  pdays  previous  emp.var.rate  cons.price.idx  \\\n",
       "34300   29        10        10    999         0          -1.8          92.893   \n",
       "25076   54        53         1    999         1          -0.1          93.200   \n",
       "17533   55       136         3    999         0           1.4          93.918   \n",
       "35820   43       715         6    999         0          -1.8          92.893   \n",
       "1080    54        62         5    999         0           1.1          93.994   \n",
       "...    ...       ...       ...    ...       ...           ...             ...   \n",
       "14392   54       131         4    999         0           1.4          93.918   \n",
       "7494    29       165         1    999         0           1.1          93.994   \n",
       "10747   35       544         3    999         0           1.4          94.465   \n",
       "34138   32      1805         4    999         0          -1.8          92.893   \n",
       "10241   31       325         3    999         0           1.4          94.465   \n",
       "\n",
       "       cons.conf.idx  euribor3m  nr.employed  ...  month_jun  month_nov  \\\n",
       "34300          -46.2      1.266       5099.1  ...          0          0   \n",
       "25076          -42.0      4.153       5195.8  ...          0          1   \n",
       "17533          -42.7      4.962       5228.1  ...          0          0   \n",
       "35820          -46.2      1.244       5099.1  ...          0          0   \n",
       "1080           -36.4      4.856       5191.0  ...          0          0   \n",
       "...              ...        ...          ...  ...        ...        ...   \n",
       "14392          -42.7      4.962       5228.1  ...          0          0   \n",
       "7494           -36.4      4.864       5191.0  ...          0          0   \n",
       "10747          -41.8      4.961       5228.1  ...          1          0   \n",
       "34138          -46.2      1.281       5099.1  ...          0          0   \n",
       "10241          -41.8      4.960       5228.1  ...          1          0   \n",
       "\n",
       "       day_of_week_thu  day_of_week_mon  day_of_week_wed  day_of_week_tue  \\\n",
       "34300                1                0                0                0   \n",
       "25076                0                0                0                1   \n",
       "17533                0                1                0                0   \n",
       "35820                0                1                0                0   \n",
       "1080                 0                0                1                0   \n",
       "...                ...              ...              ...              ...   \n",
       "14392                0                1                0                0   \n",
       "7494                 0                0                0                0   \n",
       "10747                0                0                0                1   \n",
       "34138                0                0                1                0   \n",
       "10241                0                1                0                0   \n",
       "\n",
       "       day_of_week_fri  poutcome_nonexistent  poutcome_failure  \\\n",
       "34300                0                     1                 0   \n",
       "25076                0                     0                 1   \n",
       "17533                0                     1                 0   \n",
       "35820                0                     1                 0   \n",
       "1080                 0                     1                 0   \n",
       "...                ...                   ...               ...   \n",
       "14392                0                     1                 0   \n",
       "7494                 1                     1                 0   \n",
       "10747                0                     1                 0   \n",
       "34138                0                     1                 0   \n",
       "10241                0                     1                 0   \n",
       "\n",
       "       poutcome_success  \n",
       "34300                 0  \n",
       "25076                 0  \n",
       "17533                 0  \n",
       "35820                 0  \n",
       "1080                  0  \n",
       "...                 ...  \n",
       "14392                 0  \n",
       "7494                  0  \n",
       "10747                 0  \n",
       "34138                 0  \n",
       "10241                 0  \n",
       "\n",
       "[30891 rows x 48 columns]"
      ]
     },
     "execution_count": 30,
     "metadata": {},
     "output_type": "execute_result"
    }
   ],
   "source": [
    "X_train"
   ]
  },
  {
   "attachments": {},
   "cell_type": "markdown",
   "metadata": {},
   "source": [
    "#### Make sure we don't have missing values\n",
    "Some models (XGBoost) can handle missing values, others (ahem, logistic regression) cannot."
   ]
  },
  {
   "cell_type": "code",
   "execution_count": 31,
   "metadata": {},
   "outputs": [
    {
     "data": {
      "text/plain": [
       "False"
      ]
     },
     "execution_count": 31,
     "metadata": {},
     "output_type": "execute_result"
    }
   ],
   "source": [
    "X_train.isna().any().any()"
   ]
  },
  {
   "attachments": {},
   "cell_type": "markdown",
   "metadata": {},
   "source": [
    "#### Spruce up the `y`s (uncovered portion of video)"
   ]
  },
  {
   "cell_type": "code",
   "execution_count": 32,
   "metadata": {},
   "outputs": [],
   "source": [
    "from sklearn import preprocessing"
   ]
  },
  {
   "cell_type": "code",
   "execution_count": 33,
   "metadata": {},
   "outputs": [],
   "source": [
    "label_encoder = preprocessing.LabelEncoder()  # much like OneHotEncoder, this turns categories into integers\n",
    "                                              # unlike OHE, this does not add dummy variables\n",
    "                                              # as a consequence, LE preserves rank"
   ]
  },
  {
   "cell_type": "code",
   "execution_count": 34,
   "metadata": {},
   "outputs": [],
   "source": [
    "# apply the label encoder\n",
    "y_train = label_encoder.fit_transform(y_raw_train)\n",
    "y_test = label_encoder.transform(y_raw_test)         # again, only transform test"
   ]
  },
  {
   "cell_type": "code",
   "execution_count": 35,
   "metadata": {},
   "outputs": [
    {
     "data": {
      "text/plain": [
       "array([0, 0, 0, ..., 0, 0, 0])"
      ]
     },
     "execution_count": 35,
     "metadata": {},
     "output_type": "execute_result"
    }
   ],
   "source": [
    "y_train"
   ]
  },
  {
   "attachments": {},
   "cell_type": "markdown",
   "metadata": {},
   "source": [
    "### Initial Models"
   ]
  },
  {
   "attachments": {},
   "cell_type": "markdown",
   "metadata": {},
   "source": [
    "#### XGBoost Model (tree-based)"
   ]
  },
  {
   "cell_type": "code",
   "execution_count": 36,
   "metadata": {},
   "outputs": [],
   "source": [
    "import xgboost as xgb"
   ]
  },
  {
   "cell_type": "code",
   "execution_count": 37,
   "metadata": {},
   "outputs": [],
   "source": [
    "xg = xgb.XGBClassifier()"
   ]
  },
  {
   "cell_type": "code",
   "execution_count": 38,
   "metadata": {},
   "outputs": [
    {
     "data": {
      "text/html": [
       "<style>#sk-container-id-1 {color: black;background-color: white;}#sk-container-id-1 pre{padding: 0;}#sk-container-id-1 div.sk-toggleable {background-color: white;}#sk-container-id-1 label.sk-toggleable__label {cursor: pointer;display: block;width: 100%;margin-bottom: 0;padding: 0.3em;box-sizing: border-box;text-align: center;}#sk-container-id-1 label.sk-toggleable__label-arrow:before {content: \"▸\";float: left;margin-right: 0.25em;color: #696969;}#sk-container-id-1 label.sk-toggleable__label-arrow:hover:before {color: black;}#sk-container-id-1 div.sk-estimator:hover label.sk-toggleable__label-arrow:before {color: black;}#sk-container-id-1 div.sk-toggleable__content {max-height: 0;max-width: 0;overflow: hidden;text-align: left;background-color: #f0f8ff;}#sk-container-id-1 div.sk-toggleable__content pre {margin: 0.2em;color: black;border-radius: 0.25em;background-color: #f0f8ff;}#sk-container-id-1 input.sk-toggleable__control:checked~div.sk-toggleable__content {max-height: 200px;max-width: 100%;overflow: auto;}#sk-container-id-1 input.sk-toggleable__control:checked~label.sk-toggleable__label-arrow:before {content: \"▾\";}#sk-container-id-1 div.sk-estimator input.sk-toggleable__control:checked~label.sk-toggleable__label {background-color: #d4ebff;}#sk-container-id-1 div.sk-label input.sk-toggleable__control:checked~label.sk-toggleable__label {background-color: #d4ebff;}#sk-container-id-1 input.sk-hidden--visually {border: 0;clip: rect(1px 1px 1px 1px);clip: rect(1px, 1px, 1px, 1px);height: 1px;margin: -1px;overflow: hidden;padding: 0;position: absolute;width: 1px;}#sk-container-id-1 div.sk-estimator {font-family: monospace;background-color: #f0f8ff;border: 1px dotted black;border-radius: 0.25em;box-sizing: border-box;margin-bottom: 0.5em;}#sk-container-id-1 div.sk-estimator:hover {background-color: #d4ebff;}#sk-container-id-1 div.sk-parallel-item::after {content: \"\";width: 100%;border-bottom: 1px solid gray;flex-grow: 1;}#sk-container-id-1 div.sk-label:hover label.sk-toggleable__label {background-color: #d4ebff;}#sk-container-id-1 div.sk-serial::before {content: \"\";position: absolute;border-left: 1px solid gray;box-sizing: border-box;top: 0;bottom: 0;left: 50%;z-index: 0;}#sk-container-id-1 div.sk-serial {display: flex;flex-direction: column;align-items: center;background-color: white;padding-right: 0.2em;padding-left: 0.2em;position: relative;}#sk-container-id-1 div.sk-item {position: relative;z-index: 1;}#sk-container-id-1 div.sk-parallel {display: flex;align-items: stretch;justify-content: center;background-color: white;position: relative;}#sk-container-id-1 div.sk-item::before, #sk-container-id-1 div.sk-parallel-item::before {content: \"\";position: absolute;border-left: 1px solid gray;box-sizing: border-box;top: 0;bottom: 0;left: 50%;z-index: -1;}#sk-container-id-1 div.sk-parallel-item {display: flex;flex-direction: column;z-index: 1;position: relative;background-color: white;}#sk-container-id-1 div.sk-parallel-item:first-child::after {align-self: flex-end;width: 50%;}#sk-container-id-1 div.sk-parallel-item:last-child::after {align-self: flex-start;width: 50%;}#sk-container-id-1 div.sk-parallel-item:only-child::after {width: 0;}#sk-container-id-1 div.sk-dashed-wrapped {border: 1px dashed gray;margin: 0 0.4em 0.5em 0.4em;box-sizing: border-box;padding-bottom: 0.4em;background-color: white;}#sk-container-id-1 div.sk-label label {font-family: monospace;font-weight: bold;display: inline-block;line-height: 1.2em;}#sk-container-id-1 div.sk-label-container {text-align: center;}#sk-container-id-1 div.sk-container {/* jupyter's `normalize.less` sets `[hidden] { display: none; }` but bootstrap.min.css set `[hidden] { display: none !important; }` so we also need the `!important` here to be able to override the default hidden behavior on the sphinx rendered scikit-learn.org. See: https://github.com/scikit-learn/scikit-learn/issues/21755 */display: inline-block !important;position: relative;}#sk-container-id-1 div.sk-text-repr-fallback {display: none;}</style><div id=\"sk-container-id-1\" class=\"sk-top-container\"><div class=\"sk-text-repr-fallback\"><pre>XGBClassifier(base_score=None, booster=None, callbacks=None,\n",
       "              colsample_bylevel=None, colsample_bynode=None,\n",
       "              colsample_bytree=None, early_stopping_rounds=None,\n",
       "              enable_categorical=False, eval_metric=None, feature_types=None,\n",
       "              gamma=None, gpu_id=None, grow_policy=None, importance_type=None,\n",
       "              interaction_constraints=None, learning_rate=None, max_bin=None,\n",
       "              max_cat_threshold=None, max_cat_to_onehot=None,\n",
       "              max_delta_step=None, max_depth=None, max_leaves=None,\n",
       "              min_child_weight=None, missing=nan, monotone_constraints=None,\n",
       "              n_estimators=100, n_jobs=None, num_parallel_tree=None,\n",
       "              predictor=None, random_state=None, ...)</pre><b>In a Jupyter environment, please rerun this cell to show the HTML representation or trust the notebook. <br />On GitHub, the HTML representation is unable to render, please try loading this page with nbviewer.org.</b></div><div class=\"sk-container\" hidden><div class=\"sk-item\"><div class=\"sk-estimator sk-toggleable\"><input class=\"sk-toggleable__control sk-hidden--visually\" id=\"sk-estimator-id-1\" type=\"checkbox\" checked><label for=\"sk-estimator-id-1\" class=\"sk-toggleable__label sk-toggleable__label-arrow\">XGBClassifier</label><div class=\"sk-toggleable__content\"><pre>XGBClassifier(base_score=None, booster=None, callbacks=None,\n",
       "              colsample_bylevel=None, colsample_bynode=None,\n",
       "              colsample_bytree=None, early_stopping_rounds=None,\n",
       "              enable_categorical=False, eval_metric=None, feature_types=None,\n",
       "              gamma=None, gpu_id=None, grow_policy=None, importance_type=None,\n",
       "              interaction_constraints=None, learning_rate=None, max_bin=None,\n",
       "              max_cat_threshold=None, max_cat_to_onehot=None,\n",
       "              max_delta_step=None, max_depth=None, max_leaves=None,\n",
       "              min_child_weight=None, missing=nan, monotone_constraints=None,\n",
       "              n_estimators=100, n_jobs=None, num_parallel_tree=None,\n",
       "              predictor=None, random_state=None, ...)</pre></div></div></div></div></div>"
      ],
      "text/plain": [
       "XGBClassifier(base_score=None, booster=None, callbacks=None,\n",
       "              colsample_bylevel=None, colsample_bynode=None,\n",
       "              colsample_bytree=None, early_stopping_rounds=None,\n",
       "              enable_categorical=False, eval_metric=None, feature_types=None,\n",
       "              gamma=None, gpu_id=None, grow_policy=None, importance_type=None,\n",
       "              interaction_constraints=None, learning_rate=None, max_bin=None,\n",
       "              max_cat_threshold=None, max_cat_to_onehot=None,\n",
       "              max_delta_step=None, max_depth=None, max_leaves=None,\n",
       "              min_child_weight=None, missing=nan, monotone_constraints=None,\n",
       "              n_estimators=100, n_jobs=None, num_parallel_tree=None,\n",
       "              predictor=None, random_state=None, ...)"
      ]
     },
     "execution_count": 38,
     "metadata": {},
     "output_type": "execute_result"
    }
   ],
   "source": [
    "xg.fit(X_train, y_train)"
   ]
  },
  {
   "cell_type": "code",
   "execution_count": 39,
   "metadata": {},
   "outputs": [
    {
     "data": {
      "text/plain": [
       "0.9185199572691075"
      ]
     },
     "execution_count": 39,
     "metadata": {},
     "output_type": "execute_result"
    }
   ],
   "source": [
    "xg.score(X_test, y_test)"
   ]
  },
  {
   "attachments": {},
   "cell_type": "markdown",
   "metadata": {},
   "source": [
    "92%...good enough for an A but is this a good model?  That is the question du jour.\n",
    "\n",
    "Answer:  it depends on the subject matter.\n",
    "\n",
    "eg, a model with low identification rates (eg, cancer detection) may reveal 99% but that's only because that's the natural negative rate.\n",
    "\n",
    "There are other metrics aside from _accuracy_ that can gage the goodiness of a model.  But, for now, let's not jump the gun."
   ]
  },
  {
   "attachments": {},
   "cell_type": "markdown",
   "metadata": {},
   "source": [
    "#### Logistic Regression Model"
   ]
  },
  {
   "attachments": {},
   "cell_type": "markdown",
   "metadata": {},
   "source": [
    "In logistic regression, we normalize the data so that the weights can be interpreted easily.\n",
    "\n",
    "XGBoost is a tree-based model.  Interpretation of tree-based models is indifferent to normalization of data...so we don't have to normalize.  (But we can if we want.)"
   ]
  },
  {
   "cell_type": "code",
   "execution_count": 40,
   "metadata": {},
   "outputs": [],
   "source": [
    "from sklearn import linear_model, preprocessing"
   ]
  },
  {
   "cell_type": "code",
   "execution_count": 41,
   "metadata": {},
   "outputs": [],
   "source": [
    "std = preprocessing.StandardScaler()  # standardizes the features to mean=0, sd=1"
   ]
  },
  {
   "cell_type": "code",
   "execution_count": 42,
   "metadata": {},
   "outputs": [],
   "source": [
    "lr = linear_model.LogisticRegression(penalty=None)"
   ]
  },
  {
   "cell_type": "code",
   "execution_count": 43,
   "metadata": {},
   "outputs": [
    {
     "data": {
      "text/html": [
       "<div>\n",
       "<style scoped>\n",
       "    .dataframe tbody tr th:only-of-type {\n",
       "        vertical-align: middle;\n",
       "    }\n",
       "\n",
       "    .dataframe tbody tr th {\n",
       "        vertical-align: top;\n",
       "    }\n",
       "\n",
       "    .dataframe thead th {\n",
       "        text-align: right;\n",
       "    }\n",
       "</style>\n",
       "<table border=\"1\" class=\"dataframe\">\n",
       "  <thead>\n",
       "    <tr style=\"text-align: right;\">\n",
       "      <th></th>\n",
       "      <th>age</th>\n",
       "      <th>duration</th>\n",
       "      <th>campaign</th>\n",
       "      <th>pdays</th>\n",
       "      <th>previous</th>\n",
       "      <th>emp.var.rate</th>\n",
       "      <th>cons.price.idx</th>\n",
       "      <th>cons.conf.idx</th>\n",
       "      <th>euribor3m</th>\n",
       "      <th>nr.employed</th>\n",
       "      <th>...</th>\n",
       "      <th>month_jun</th>\n",
       "      <th>month_nov</th>\n",
       "      <th>day_of_week_thu</th>\n",
       "      <th>day_of_week_mon</th>\n",
       "      <th>day_of_week_wed</th>\n",
       "      <th>day_of_week_tue</th>\n",
       "      <th>day_of_week_fri</th>\n",
       "      <th>poutcome_nonexistent</th>\n",
       "      <th>poutcome_failure</th>\n",
       "      <th>poutcome_success</th>\n",
       "    </tr>\n",
       "  </thead>\n",
       "  <tbody>\n",
       "    <tr>\n",
       "      <th>34300</th>\n",
       "      <td>29</td>\n",
       "      <td>10</td>\n",
       "      <td>10</td>\n",
       "      <td>999</td>\n",
       "      <td>0</td>\n",
       "      <td>-1.8</td>\n",
       "      <td>92.893</td>\n",
       "      <td>-46.2</td>\n",
       "      <td>1.266</td>\n",
       "      <td>5099.1</td>\n",
       "      <td>...</td>\n",
       "      <td>0</td>\n",
       "      <td>0</td>\n",
       "      <td>1</td>\n",
       "      <td>0</td>\n",
       "      <td>0</td>\n",
       "      <td>0</td>\n",
       "      <td>0</td>\n",
       "      <td>1</td>\n",
       "      <td>0</td>\n",
       "      <td>0</td>\n",
       "    </tr>\n",
       "    <tr>\n",
       "      <th>25076</th>\n",
       "      <td>54</td>\n",
       "      <td>53</td>\n",
       "      <td>1</td>\n",
       "      <td>999</td>\n",
       "      <td>1</td>\n",
       "      <td>-0.1</td>\n",
       "      <td>93.200</td>\n",
       "      <td>-42.0</td>\n",
       "      <td>4.153</td>\n",
       "      <td>5195.8</td>\n",
       "      <td>...</td>\n",
       "      <td>0</td>\n",
       "      <td>1</td>\n",
       "      <td>0</td>\n",
       "      <td>0</td>\n",
       "      <td>0</td>\n",
       "      <td>1</td>\n",
       "      <td>0</td>\n",
       "      <td>0</td>\n",
       "      <td>1</td>\n",
       "      <td>0</td>\n",
       "    </tr>\n",
       "    <tr>\n",
       "      <th>17533</th>\n",
       "      <td>55</td>\n",
       "      <td>136</td>\n",
       "      <td>3</td>\n",
       "      <td>999</td>\n",
       "      <td>0</td>\n",
       "      <td>1.4</td>\n",
       "      <td>93.918</td>\n",
       "      <td>-42.7</td>\n",
       "      <td>4.962</td>\n",
       "      <td>5228.1</td>\n",
       "      <td>...</td>\n",
       "      <td>0</td>\n",
       "      <td>0</td>\n",
       "      <td>0</td>\n",
       "      <td>1</td>\n",
       "      <td>0</td>\n",
       "      <td>0</td>\n",
       "      <td>0</td>\n",
       "      <td>1</td>\n",
       "      <td>0</td>\n",
       "      <td>0</td>\n",
       "    </tr>\n",
       "    <tr>\n",
       "      <th>35820</th>\n",
       "      <td>43</td>\n",
       "      <td>715</td>\n",
       "      <td>6</td>\n",
       "      <td>999</td>\n",
       "      <td>0</td>\n",
       "      <td>-1.8</td>\n",
       "      <td>92.893</td>\n",
       "      <td>-46.2</td>\n",
       "      <td>1.244</td>\n",
       "      <td>5099.1</td>\n",
       "      <td>...</td>\n",
       "      <td>0</td>\n",
       "      <td>0</td>\n",
       "      <td>0</td>\n",
       "      <td>1</td>\n",
       "      <td>0</td>\n",
       "      <td>0</td>\n",
       "      <td>0</td>\n",
       "      <td>1</td>\n",
       "      <td>0</td>\n",
       "      <td>0</td>\n",
       "    </tr>\n",
       "    <tr>\n",
       "      <th>1080</th>\n",
       "      <td>54</td>\n",
       "      <td>62</td>\n",
       "      <td>5</td>\n",
       "      <td>999</td>\n",
       "      <td>0</td>\n",
       "      <td>1.1</td>\n",
       "      <td>93.994</td>\n",
       "      <td>-36.4</td>\n",
       "      <td>4.856</td>\n",
       "      <td>5191.0</td>\n",
       "      <td>...</td>\n",
       "      <td>0</td>\n",
       "      <td>0</td>\n",
       "      <td>0</td>\n",
       "      <td>0</td>\n",
       "      <td>1</td>\n",
       "      <td>0</td>\n",
       "      <td>0</td>\n",
       "      <td>1</td>\n",
       "      <td>0</td>\n",
       "      <td>0</td>\n",
       "    </tr>\n",
       "    <tr>\n",
       "      <th>...</th>\n",
       "      <td>...</td>\n",
       "      <td>...</td>\n",
       "      <td>...</td>\n",
       "      <td>...</td>\n",
       "      <td>...</td>\n",
       "      <td>...</td>\n",
       "      <td>...</td>\n",
       "      <td>...</td>\n",
       "      <td>...</td>\n",
       "      <td>...</td>\n",
       "      <td>...</td>\n",
       "      <td>...</td>\n",
       "      <td>...</td>\n",
       "      <td>...</td>\n",
       "      <td>...</td>\n",
       "      <td>...</td>\n",
       "      <td>...</td>\n",
       "      <td>...</td>\n",
       "      <td>...</td>\n",
       "      <td>...</td>\n",
       "      <td>...</td>\n",
       "    </tr>\n",
       "    <tr>\n",
       "      <th>14392</th>\n",
       "      <td>54</td>\n",
       "      <td>131</td>\n",
       "      <td>4</td>\n",
       "      <td>999</td>\n",
       "      <td>0</td>\n",
       "      <td>1.4</td>\n",
       "      <td>93.918</td>\n",
       "      <td>-42.7</td>\n",
       "      <td>4.962</td>\n",
       "      <td>5228.1</td>\n",
       "      <td>...</td>\n",
       "      <td>0</td>\n",
       "      <td>0</td>\n",
       "      <td>0</td>\n",
       "      <td>1</td>\n",
       "      <td>0</td>\n",
       "      <td>0</td>\n",
       "      <td>0</td>\n",
       "      <td>1</td>\n",
       "      <td>0</td>\n",
       "      <td>0</td>\n",
       "    </tr>\n",
       "    <tr>\n",
       "      <th>7494</th>\n",
       "      <td>29</td>\n",
       "      <td>165</td>\n",
       "      <td>1</td>\n",
       "      <td>999</td>\n",
       "      <td>0</td>\n",
       "      <td>1.1</td>\n",
       "      <td>93.994</td>\n",
       "      <td>-36.4</td>\n",
       "      <td>4.864</td>\n",
       "      <td>5191.0</td>\n",
       "      <td>...</td>\n",
       "      <td>0</td>\n",
       "      <td>0</td>\n",
       "      <td>0</td>\n",
       "      <td>0</td>\n",
       "      <td>0</td>\n",
       "      <td>0</td>\n",
       "      <td>1</td>\n",
       "      <td>1</td>\n",
       "      <td>0</td>\n",
       "      <td>0</td>\n",
       "    </tr>\n",
       "    <tr>\n",
       "      <th>10747</th>\n",
       "      <td>35</td>\n",
       "      <td>544</td>\n",
       "      <td>3</td>\n",
       "      <td>999</td>\n",
       "      <td>0</td>\n",
       "      <td>1.4</td>\n",
       "      <td>94.465</td>\n",
       "      <td>-41.8</td>\n",
       "      <td>4.961</td>\n",
       "      <td>5228.1</td>\n",
       "      <td>...</td>\n",
       "      <td>1</td>\n",
       "      <td>0</td>\n",
       "      <td>0</td>\n",
       "      <td>0</td>\n",
       "      <td>0</td>\n",
       "      <td>1</td>\n",
       "      <td>0</td>\n",
       "      <td>1</td>\n",
       "      <td>0</td>\n",
       "      <td>0</td>\n",
       "    </tr>\n",
       "    <tr>\n",
       "      <th>34138</th>\n",
       "      <td>32</td>\n",
       "      <td>1805</td>\n",
       "      <td>4</td>\n",
       "      <td>999</td>\n",
       "      <td>0</td>\n",
       "      <td>-1.8</td>\n",
       "      <td>92.893</td>\n",
       "      <td>-46.2</td>\n",
       "      <td>1.281</td>\n",
       "      <td>5099.1</td>\n",
       "      <td>...</td>\n",
       "      <td>0</td>\n",
       "      <td>0</td>\n",
       "      <td>0</td>\n",
       "      <td>0</td>\n",
       "      <td>1</td>\n",
       "      <td>0</td>\n",
       "      <td>0</td>\n",
       "      <td>1</td>\n",
       "      <td>0</td>\n",
       "      <td>0</td>\n",
       "    </tr>\n",
       "    <tr>\n",
       "      <th>10241</th>\n",
       "      <td>31</td>\n",
       "      <td>325</td>\n",
       "      <td>3</td>\n",
       "      <td>999</td>\n",
       "      <td>0</td>\n",
       "      <td>1.4</td>\n",
       "      <td>94.465</td>\n",
       "      <td>-41.8</td>\n",
       "      <td>4.960</td>\n",
       "      <td>5228.1</td>\n",
       "      <td>...</td>\n",
       "      <td>1</td>\n",
       "      <td>0</td>\n",
       "      <td>0</td>\n",
       "      <td>1</td>\n",
       "      <td>0</td>\n",
       "      <td>0</td>\n",
       "      <td>0</td>\n",
       "      <td>1</td>\n",
       "      <td>0</td>\n",
       "      <td>0</td>\n",
       "    </tr>\n",
       "  </tbody>\n",
       "</table>\n",
       "<p>30891 rows × 48 columns</p>\n",
       "</div>"
      ],
      "text/plain": [
       "       age  duration  campaign  pdays  previous  emp.var.rate  cons.price.idx  \\\n",
       "34300   29        10        10    999         0          -1.8          92.893   \n",
       "25076   54        53         1    999         1          -0.1          93.200   \n",
       "17533   55       136         3    999         0           1.4          93.918   \n",
       "35820   43       715         6    999         0          -1.8          92.893   \n",
       "1080    54        62         5    999         0           1.1          93.994   \n",
       "...    ...       ...       ...    ...       ...           ...             ...   \n",
       "14392   54       131         4    999         0           1.4          93.918   \n",
       "7494    29       165         1    999         0           1.1          93.994   \n",
       "10747   35       544         3    999         0           1.4          94.465   \n",
       "34138   32      1805         4    999         0          -1.8          92.893   \n",
       "10241   31       325         3    999         0           1.4          94.465   \n",
       "\n",
       "       cons.conf.idx  euribor3m  nr.employed  ...  month_jun  month_nov  \\\n",
       "34300          -46.2      1.266       5099.1  ...          0          0   \n",
       "25076          -42.0      4.153       5195.8  ...          0          1   \n",
       "17533          -42.7      4.962       5228.1  ...          0          0   \n",
       "35820          -46.2      1.244       5099.1  ...          0          0   \n",
       "1080           -36.4      4.856       5191.0  ...          0          0   \n",
       "...              ...        ...          ...  ...        ...        ...   \n",
       "14392          -42.7      4.962       5228.1  ...          0          0   \n",
       "7494           -36.4      4.864       5191.0  ...          0          0   \n",
       "10747          -41.8      4.961       5228.1  ...          1          0   \n",
       "34138          -46.2      1.281       5099.1  ...          0          0   \n",
       "10241          -41.8      4.960       5228.1  ...          1          0   \n",
       "\n",
       "       day_of_week_thu  day_of_week_mon  day_of_week_wed  day_of_week_tue  \\\n",
       "34300                1                0                0                0   \n",
       "25076                0                0                0                1   \n",
       "17533                0                1                0                0   \n",
       "35820                0                1                0                0   \n",
       "1080                 0                0                1                0   \n",
       "...                ...              ...              ...              ...   \n",
       "14392                0                1                0                0   \n",
       "7494                 0                0                0                0   \n",
       "10747                0                0                0                1   \n",
       "34138                0                0                1                0   \n",
       "10241                0                1                0                0   \n",
       "\n",
       "       day_of_week_fri  poutcome_nonexistent  poutcome_failure  \\\n",
       "34300                0                     1                 0   \n",
       "25076                0                     0                 1   \n",
       "17533                0                     1                 0   \n",
       "35820                0                     1                 0   \n",
       "1080                 0                     1                 0   \n",
       "...                ...                   ...               ...   \n",
       "14392                0                     1                 0   \n",
       "7494                 1                     1                 0   \n",
       "10747                0                     1                 0   \n",
       "34138                0                     1                 0   \n",
       "10241                0                     1                 0   \n",
       "\n",
       "       poutcome_success  \n",
       "34300                 0  \n",
       "25076                 0  \n",
       "17533                 0  \n",
       "35820                 0  \n",
       "1080                  0  \n",
       "...                 ...  \n",
       "14392                 0  \n",
       "7494                  0  \n",
       "10747                 0  \n",
       "34138                 0  \n",
       "10241                 0  \n",
       "\n",
       "[30891 rows x 48 columns]"
      ]
     },
     "execution_count": 43,
     "metadata": {},
     "output_type": "execute_result"
    }
   ],
   "source": [
    "X_train"
   ]
  },
  {
   "cell_type": "code",
   "execution_count": 44,
   "metadata": {},
   "outputs": [
    {
     "data": {
      "text/html": [
       "<style>#sk-container-id-2 {color: black;background-color: white;}#sk-container-id-2 pre{padding: 0;}#sk-container-id-2 div.sk-toggleable {background-color: white;}#sk-container-id-2 label.sk-toggleable__label {cursor: pointer;display: block;width: 100%;margin-bottom: 0;padding: 0.3em;box-sizing: border-box;text-align: center;}#sk-container-id-2 label.sk-toggleable__label-arrow:before {content: \"▸\";float: left;margin-right: 0.25em;color: #696969;}#sk-container-id-2 label.sk-toggleable__label-arrow:hover:before {color: black;}#sk-container-id-2 div.sk-estimator:hover label.sk-toggleable__label-arrow:before {color: black;}#sk-container-id-2 div.sk-toggleable__content {max-height: 0;max-width: 0;overflow: hidden;text-align: left;background-color: #f0f8ff;}#sk-container-id-2 div.sk-toggleable__content pre {margin: 0.2em;color: black;border-radius: 0.25em;background-color: #f0f8ff;}#sk-container-id-2 input.sk-toggleable__control:checked~div.sk-toggleable__content {max-height: 200px;max-width: 100%;overflow: auto;}#sk-container-id-2 input.sk-toggleable__control:checked~label.sk-toggleable__label-arrow:before {content: \"▾\";}#sk-container-id-2 div.sk-estimator input.sk-toggleable__control:checked~label.sk-toggleable__label {background-color: #d4ebff;}#sk-container-id-2 div.sk-label input.sk-toggleable__control:checked~label.sk-toggleable__label {background-color: #d4ebff;}#sk-container-id-2 input.sk-hidden--visually {border: 0;clip: rect(1px 1px 1px 1px);clip: rect(1px, 1px, 1px, 1px);height: 1px;margin: -1px;overflow: hidden;padding: 0;position: absolute;width: 1px;}#sk-container-id-2 div.sk-estimator {font-family: monospace;background-color: #f0f8ff;border: 1px dotted black;border-radius: 0.25em;box-sizing: border-box;margin-bottom: 0.5em;}#sk-container-id-2 div.sk-estimator:hover {background-color: #d4ebff;}#sk-container-id-2 div.sk-parallel-item::after {content: \"\";width: 100%;border-bottom: 1px solid gray;flex-grow: 1;}#sk-container-id-2 div.sk-label:hover label.sk-toggleable__label {background-color: #d4ebff;}#sk-container-id-2 div.sk-serial::before {content: \"\";position: absolute;border-left: 1px solid gray;box-sizing: border-box;top: 0;bottom: 0;left: 50%;z-index: 0;}#sk-container-id-2 div.sk-serial {display: flex;flex-direction: column;align-items: center;background-color: white;padding-right: 0.2em;padding-left: 0.2em;position: relative;}#sk-container-id-2 div.sk-item {position: relative;z-index: 1;}#sk-container-id-2 div.sk-parallel {display: flex;align-items: stretch;justify-content: center;background-color: white;position: relative;}#sk-container-id-2 div.sk-item::before, #sk-container-id-2 div.sk-parallel-item::before {content: \"\";position: absolute;border-left: 1px solid gray;box-sizing: border-box;top: 0;bottom: 0;left: 50%;z-index: -1;}#sk-container-id-2 div.sk-parallel-item {display: flex;flex-direction: column;z-index: 1;position: relative;background-color: white;}#sk-container-id-2 div.sk-parallel-item:first-child::after {align-self: flex-end;width: 50%;}#sk-container-id-2 div.sk-parallel-item:last-child::after {align-self: flex-start;width: 50%;}#sk-container-id-2 div.sk-parallel-item:only-child::after {width: 0;}#sk-container-id-2 div.sk-dashed-wrapped {border: 1px dashed gray;margin: 0 0.4em 0.5em 0.4em;box-sizing: border-box;padding-bottom: 0.4em;background-color: white;}#sk-container-id-2 div.sk-label label {font-family: monospace;font-weight: bold;display: inline-block;line-height: 1.2em;}#sk-container-id-2 div.sk-label-container {text-align: center;}#sk-container-id-2 div.sk-container {/* jupyter's `normalize.less` sets `[hidden] { display: none; }` but bootstrap.min.css set `[hidden] { display: none !important; }` so we also need the `!important` here to be able to override the default hidden behavior on the sphinx rendered scikit-learn.org. See: https://github.com/scikit-learn/scikit-learn/issues/21755 */display: inline-block !important;position: relative;}#sk-container-id-2 div.sk-text-repr-fallback {display: none;}</style><div id=\"sk-container-id-2\" class=\"sk-top-container\"><div class=\"sk-text-repr-fallback\"><pre>LogisticRegression(penalty=None)</pre><b>In a Jupyter environment, please rerun this cell to show the HTML representation or trust the notebook. <br />On GitHub, the HTML representation is unable to render, please try loading this page with nbviewer.org.</b></div><div class=\"sk-container\" hidden><div class=\"sk-item\"><div class=\"sk-estimator sk-toggleable\"><input class=\"sk-toggleable__control sk-hidden--visually\" id=\"sk-estimator-id-2\" type=\"checkbox\" checked><label for=\"sk-estimator-id-2\" class=\"sk-toggleable__label sk-toggleable__label-arrow\">LogisticRegression</label><div class=\"sk-toggleable__content\"><pre>LogisticRegression(penalty=None)</pre></div></div></div></div></div>"
      ],
      "text/plain": [
       "LogisticRegression(penalty=None)"
      ]
     },
     "execution_count": 44,
     "metadata": {},
     "output_type": "execute_result"
    }
   ],
   "source": [
    "lr.fit(std.fit_transform(X_train), y_train)"
   ]
  },
  {
   "cell_type": "code",
   "execution_count": 45,
   "metadata": {},
   "outputs": [
    {
     "data": {
      "text/plain": [
       "0.913761289696028"
      ]
     },
     "execution_count": 45,
     "metadata": {},
     "output_type": "execute_result"
    }
   ],
   "source": [
    "lr.score(std.transform(X_test), y_test)"
   ]
  },
  {
   "attachments": {},
   "cell_type": "markdown",
   "metadata": {},
   "source": [
    "Note: `scikit-learn` is awfully considerate with its syntax...only the model \"prefix\" (ie, 'xgb' or 'lr') varies.\n",
    "\n",
    "Yes, pendant, there is a change with the 'lr' model in that we standardized the X but that's a necessary for the model, not an indictment on `scikit-learn`'s politeness."
   ]
  },
  {
   "attachments": {},
   "cell_type": "markdown",
   "metadata": {},
   "source": [
    "The alert observer may notice the logistic regression model is just about as good as the XGBoost model.  Given its ubiquity and ease of interpretation, why don't we just use lr?  \n",
    "\n",
    "Answer: Because XGBoost can be tweaked for improvement.  So let's do just that.  Let's go!\n",
    "\n",
    "But first let's see if the dummy classifier is any good..."
   ]
  },
  {
   "attachments": {},
   "cell_type": "markdown",
   "metadata": {},
   "source": [
    "#### Dummy Classifier Model"
   ]
  },
  {
   "cell_type": "code",
   "execution_count": 46,
   "metadata": {},
   "outputs": [],
   "source": [
    "from sklearn import dummy"
   ]
  },
  {
   "cell_type": "code",
   "execution_count": 47,
   "metadata": {},
   "outputs": [],
   "source": [
    "dum = dummy.DummyClassifier()"
   ]
  },
  {
   "cell_type": "code",
   "execution_count": 48,
   "metadata": {},
   "outputs": [
    {
     "data": {
      "text/html": [
       "<style>#sk-container-id-3 {color: black;background-color: white;}#sk-container-id-3 pre{padding: 0;}#sk-container-id-3 div.sk-toggleable {background-color: white;}#sk-container-id-3 label.sk-toggleable__label {cursor: pointer;display: block;width: 100%;margin-bottom: 0;padding: 0.3em;box-sizing: border-box;text-align: center;}#sk-container-id-3 label.sk-toggleable__label-arrow:before {content: \"▸\";float: left;margin-right: 0.25em;color: #696969;}#sk-container-id-3 label.sk-toggleable__label-arrow:hover:before {color: black;}#sk-container-id-3 div.sk-estimator:hover label.sk-toggleable__label-arrow:before {color: black;}#sk-container-id-3 div.sk-toggleable__content {max-height: 0;max-width: 0;overflow: hidden;text-align: left;background-color: #f0f8ff;}#sk-container-id-3 div.sk-toggleable__content pre {margin: 0.2em;color: black;border-radius: 0.25em;background-color: #f0f8ff;}#sk-container-id-3 input.sk-toggleable__control:checked~div.sk-toggleable__content {max-height: 200px;max-width: 100%;overflow: auto;}#sk-container-id-3 input.sk-toggleable__control:checked~label.sk-toggleable__label-arrow:before {content: \"▾\";}#sk-container-id-3 div.sk-estimator input.sk-toggleable__control:checked~label.sk-toggleable__label {background-color: #d4ebff;}#sk-container-id-3 div.sk-label input.sk-toggleable__control:checked~label.sk-toggleable__label {background-color: #d4ebff;}#sk-container-id-3 input.sk-hidden--visually {border: 0;clip: rect(1px 1px 1px 1px);clip: rect(1px, 1px, 1px, 1px);height: 1px;margin: -1px;overflow: hidden;padding: 0;position: absolute;width: 1px;}#sk-container-id-3 div.sk-estimator {font-family: monospace;background-color: #f0f8ff;border: 1px dotted black;border-radius: 0.25em;box-sizing: border-box;margin-bottom: 0.5em;}#sk-container-id-3 div.sk-estimator:hover {background-color: #d4ebff;}#sk-container-id-3 div.sk-parallel-item::after {content: \"\";width: 100%;border-bottom: 1px solid gray;flex-grow: 1;}#sk-container-id-3 div.sk-label:hover label.sk-toggleable__label {background-color: #d4ebff;}#sk-container-id-3 div.sk-serial::before {content: \"\";position: absolute;border-left: 1px solid gray;box-sizing: border-box;top: 0;bottom: 0;left: 50%;z-index: 0;}#sk-container-id-3 div.sk-serial {display: flex;flex-direction: column;align-items: center;background-color: white;padding-right: 0.2em;padding-left: 0.2em;position: relative;}#sk-container-id-3 div.sk-item {position: relative;z-index: 1;}#sk-container-id-3 div.sk-parallel {display: flex;align-items: stretch;justify-content: center;background-color: white;position: relative;}#sk-container-id-3 div.sk-item::before, #sk-container-id-3 div.sk-parallel-item::before {content: \"\";position: absolute;border-left: 1px solid gray;box-sizing: border-box;top: 0;bottom: 0;left: 50%;z-index: -1;}#sk-container-id-3 div.sk-parallel-item {display: flex;flex-direction: column;z-index: 1;position: relative;background-color: white;}#sk-container-id-3 div.sk-parallel-item:first-child::after {align-self: flex-end;width: 50%;}#sk-container-id-3 div.sk-parallel-item:last-child::after {align-self: flex-start;width: 50%;}#sk-container-id-3 div.sk-parallel-item:only-child::after {width: 0;}#sk-container-id-3 div.sk-dashed-wrapped {border: 1px dashed gray;margin: 0 0.4em 0.5em 0.4em;box-sizing: border-box;padding-bottom: 0.4em;background-color: white;}#sk-container-id-3 div.sk-label label {font-family: monospace;font-weight: bold;display: inline-block;line-height: 1.2em;}#sk-container-id-3 div.sk-label-container {text-align: center;}#sk-container-id-3 div.sk-container {/* jupyter's `normalize.less` sets `[hidden] { display: none; }` but bootstrap.min.css set `[hidden] { display: none !important; }` so we also need the `!important` here to be able to override the default hidden behavior on the sphinx rendered scikit-learn.org. See: https://github.com/scikit-learn/scikit-learn/issues/21755 */display: inline-block !important;position: relative;}#sk-container-id-3 div.sk-text-repr-fallback {display: none;}</style><div id=\"sk-container-id-3\" class=\"sk-top-container\"><div class=\"sk-text-repr-fallback\"><pre>DummyClassifier()</pre><b>In a Jupyter environment, please rerun this cell to show the HTML representation or trust the notebook. <br />On GitHub, the HTML representation is unable to render, please try loading this page with nbviewer.org.</b></div><div class=\"sk-container\" hidden><div class=\"sk-item\"><div class=\"sk-estimator sk-toggleable\"><input class=\"sk-toggleable__control sk-hidden--visually\" id=\"sk-estimator-id-3\" type=\"checkbox\" checked><label for=\"sk-estimator-id-3\" class=\"sk-toggleable__label sk-toggleable__label-arrow\">DummyClassifier</label><div class=\"sk-toggleable__content\"><pre>DummyClassifier()</pre></div></div></div></div></div>"
      ],
      "text/plain": [
       "DummyClassifier()"
      ]
     },
     "execution_count": 48,
     "metadata": {},
     "output_type": "execute_result"
    }
   ],
   "source": [
    "dum.fit(X_train, y_train)  # there's scikit-learn being all polite and shit still!"
   ]
  },
  {
   "cell_type": "code",
   "execution_count": 49,
   "metadata": {},
   "outputs": [
    {
     "data": {
      "text/plain": [
       "0.8873458288821987"
      ]
     },
     "execution_count": 49,
     "metadata": {},
     "output_type": "execute_result"
    }
   ],
   "source": [
    "dum.score(X_test, y_test)"
   ]
  },
  {
   "cell_type": "code",
   "execution_count": 50,
   "metadata": {},
   "outputs": [
    {
     "data": {
      "text/plain": [
       "0.8873458288821987"
      ]
     },
     "execution_count": 50,
     "metadata": {},
     "output_type": "execute_result"
    }
   ],
   "source": [
    "1 - y_train.mean()"
   ]
  },
  {
   "attachments": {},
   "cell_type": "markdown",
   "metadata": {},
   "source": [
    "Note: The dummy model simply declares the most common case as its \"model\".  That is why `dum.score(X_test, y_test) == 1 - y_train.mean()`...the most common case is 'no' which is mapped to 0.\n",
    "\n",
    "Q: Why do we even care about such a trivial model?\n",
    "\n",
    "A: Because our actual model better outperform this one!"
   ]
  },
  {
   "attachments": {},
   "cell_type": "markdown",
   "metadata": {},
   "source": [
    "#### XGBoost Algorithm\n",
    "* Determine which features can best split the positives from the negatives\n",
    "* Repeat recursively\n",
    "\n",
    "This could lead to _over-fitting_ the data.  Though accuracy would be good, the model won't be able to be applied to non-training data well.  That is, the model is \"memorizing\" the training data.  That ain't no good, son.\n",
    "\n",
    "A way to avoid this is to monitor the tree building process and stop before completion."
   ]
  },
  {
   "cell_type": "code",
   "execution_count": 51,
   "metadata": {},
   "outputs": [],
   "source": [
    "xg = xgb.XGBClassifier(early_stopping_rounds=30)"
   ]
  },
  {
   "cell_type": "code",
   "execution_count": 52,
   "metadata": {},
   "outputs": [
    {
     "name": "stdout",
     "output_type": "stream",
     "text": [
      "[0]\tvalidation_0-logloss:0.49535\tvalidation_1-logloss:0.49599\n",
      "[10]\tvalidation_0-logloss:0.16925\tvalidation_1-logloss:0.17888\n",
      "[20]\tvalidation_0-logloss:0.15299\tvalidation_1-logloss:0.16887\n",
      "[30]\tvalidation_0-logloss:0.14550\tvalidation_1-logloss:0.16852\n",
      "[40]\tvalidation_0-logloss:0.14001\tvalidation_1-logloss:0.16962\n",
      "[50]\tvalidation_0-logloss:0.13240\tvalidation_1-logloss:0.17032\n",
      "[52]\tvalidation_0-logloss:0.13137\tvalidation_1-logloss:0.17026\n"
     ]
    },
    {
     "data": {
      "text/html": [
       "<style>#sk-container-id-4 {color: black;background-color: white;}#sk-container-id-4 pre{padding: 0;}#sk-container-id-4 div.sk-toggleable {background-color: white;}#sk-container-id-4 label.sk-toggleable__label {cursor: pointer;display: block;width: 100%;margin-bottom: 0;padding: 0.3em;box-sizing: border-box;text-align: center;}#sk-container-id-4 label.sk-toggleable__label-arrow:before {content: \"▸\";float: left;margin-right: 0.25em;color: #696969;}#sk-container-id-4 label.sk-toggleable__label-arrow:hover:before {color: black;}#sk-container-id-4 div.sk-estimator:hover label.sk-toggleable__label-arrow:before {color: black;}#sk-container-id-4 div.sk-toggleable__content {max-height: 0;max-width: 0;overflow: hidden;text-align: left;background-color: #f0f8ff;}#sk-container-id-4 div.sk-toggleable__content pre {margin: 0.2em;color: black;border-radius: 0.25em;background-color: #f0f8ff;}#sk-container-id-4 input.sk-toggleable__control:checked~div.sk-toggleable__content {max-height: 200px;max-width: 100%;overflow: auto;}#sk-container-id-4 input.sk-toggleable__control:checked~label.sk-toggleable__label-arrow:before {content: \"▾\";}#sk-container-id-4 div.sk-estimator input.sk-toggleable__control:checked~label.sk-toggleable__label {background-color: #d4ebff;}#sk-container-id-4 div.sk-label input.sk-toggleable__control:checked~label.sk-toggleable__label {background-color: #d4ebff;}#sk-container-id-4 input.sk-hidden--visually {border: 0;clip: rect(1px 1px 1px 1px);clip: rect(1px, 1px, 1px, 1px);height: 1px;margin: -1px;overflow: hidden;padding: 0;position: absolute;width: 1px;}#sk-container-id-4 div.sk-estimator {font-family: monospace;background-color: #f0f8ff;border: 1px dotted black;border-radius: 0.25em;box-sizing: border-box;margin-bottom: 0.5em;}#sk-container-id-4 div.sk-estimator:hover {background-color: #d4ebff;}#sk-container-id-4 div.sk-parallel-item::after {content: \"\";width: 100%;border-bottom: 1px solid gray;flex-grow: 1;}#sk-container-id-4 div.sk-label:hover label.sk-toggleable__label {background-color: #d4ebff;}#sk-container-id-4 div.sk-serial::before {content: \"\";position: absolute;border-left: 1px solid gray;box-sizing: border-box;top: 0;bottom: 0;left: 50%;z-index: 0;}#sk-container-id-4 div.sk-serial {display: flex;flex-direction: column;align-items: center;background-color: white;padding-right: 0.2em;padding-left: 0.2em;position: relative;}#sk-container-id-4 div.sk-item {position: relative;z-index: 1;}#sk-container-id-4 div.sk-parallel {display: flex;align-items: stretch;justify-content: center;background-color: white;position: relative;}#sk-container-id-4 div.sk-item::before, #sk-container-id-4 div.sk-parallel-item::before {content: \"\";position: absolute;border-left: 1px solid gray;box-sizing: border-box;top: 0;bottom: 0;left: 50%;z-index: -1;}#sk-container-id-4 div.sk-parallel-item {display: flex;flex-direction: column;z-index: 1;position: relative;background-color: white;}#sk-container-id-4 div.sk-parallel-item:first-child::after {align-self: flex-end;width: 50%;}#sk-container-id-4 div.sk-parallel-item:last-child::after {align-self: flex-start;width: 50%;}#sk-container-id-4 div.sk-parallel-item:only-child::after {width: 0;}#sk-container-id-4 div.sk-dashed-wrapped {border: 1px dashed gray;margin: 0 0.4em 0.5em 0.4em;box-sizing: border-box;padding-bottom: 0.4em;background-color: white;}#sk-container-id-4 div.sk-label label {font-family: monospace;font-weight: bold;display: inline-block;line-height: 1.2em;}#sk-container-id-4 div.sk-label-container {text-align: center;}#sk-container-id-4 div.sk-container {/* jupyter's `normalize.less` sets `[hidden] { display: none; }` but bootstrap.min.css set `[hidden] { display: none !important; }` so we also need the `!important` here to be able to override the default hidden behavior on the sphinx rendered scikit-learn.org. See: https://github.com/scikit-learn/scikit-learn/issues/21755 */display: inline-block !important;position: relative;}#sk-container-id-4 div.sk-text-repr-fallback {display: none;}</style><div id=\"sk-container-id-4\" class=\"sk-top-container\"><div class=\"sk-text-repr-fallback\"><pre>XGBClassifier(base_score=None, booster=None, callbacks=None,\n",
       "              colsample_bylevel=None, colsample_bynode=None,\n",
       "              colsample_bytree=None, early_stopping_rounds=30,\n",
       "              enable_categorical=False, eval_metric=None, feature_types=None,\n",
       "              gamma=None, gpu_id=None, grow_policy=None, importance_type=None,\n",
       "              interaction_constraints=None, learning_rate=None, max_bin=None,\n",
       "              max_cat_threshold=None, max_cat_to_onehot=None,\n",
       "              max_delta_step=None, max_depth=None, max_leaves=None,\n",
       "              min_child_weight=None, missing=nan, monotone_constraints=None,\n",
       "              n_estimators=100, n_jobs=None, num_parallel_tree=None,\n",
       "              predictor=None, random_state=None, ...)</pre><b>In a Jupyter environment, please rerun this cell to show the HTML representation or trust the notebook. <br />On GitHub, the HTML representation is unable to render, please try loading this page with nbviewer.org.</b></div><div class=\"sk-container\" hidden><div class=\"sk-item\"><div class=\"sk-estimator sk-toggleable\"><input class=\"sk-toggleable__control sk-hidden--visually\" id=\"sk-estimator-id-4\" type=\"checkbox\" checked><label for=\"sk-estimator-id-4\" class=\"sk-toggleable__label sk-toggleable__label-arrow\">XGBClassifier</label><div class=\"sk-toggleable__content\"><pre>XGBClassifier(base_score=None, booster=None, callbacks=None,\n",
       "              colsample_bylevel=None, colsample_bynode=None,\n",
       "              colsample_bytree=None, early_stopping_rounds=30,\n",
       "              enable_categorical=False, eval_metric=None, feature_types=None,\n",
       "              gamma=None, gpu_id=None, grow_policy=None, importance_type=None,\n",
       "              interaction_constraints=None, learning_rate=None, max_bin=None,\n",
       "              max_cat_threshold=None, max_cat_to_onehot=None,\n",
       "              max_delta_step=None, max_depth=None, max_leaves=None,\n",
       "              min_child_weight=None, missing=nan, monotone_constraints=None,\n",
       "              n_estimators=100, n_jobs=None, num_parallel_tree=None,\n",
       "              predictor=None, random_state=None, ...)</pre></div></div></div></div></div>"
      ],
      "text/plain": [
       "XGBClassifier(base_score=None, booster=None, callbacks=None,\n",
       "              colsample_bylevel=None, colsample_bynode=None,\n",
       "              colsample_bytree=None, early_stopping_rounds=30,\n",
       "              enable_categorical=False, eval_metric=None, feature_types=None,\n",
       "              gamma=None, gpu_id=None, grow_policy=None, importance_type=None,\n",
       "              interaction_constraints=None, learning_rate=None, max_bin=None,\n",
       "              max_cat_threshold=None, max_cat_to_onehot=None,\n",
       "              max_delta_step=None, max_depth=None, max_leaves=None,\n",
       "              min_child_weight=None, missing=nan, monotone_constraints=None,\n",
       "              n_estimators=100, n_jobs=None, num_parallel_tree=None,\n",
       "              predictor=None, random_state=None, ...)"
      ]
     },
     "execution_count": 52,
     "metadata": {},
     "output_type": "execute_result"
    }
   ],
   "source": [
    "xg.fit(\n",
    "    X_train, \n",
    "    y_train,\n",
    "    eval_set=[(X_train, y_train), (X_test, y_test)],\n",
    "    verbose=10\n",
    ")"
   ]
  },
  {
   "cell_type": "code",
   "execution_count": 53,
   "metadata": {},
   "outputs": [
    {
     "data": {
      "text/plain": [
       "0.9208507332232689"
      ]
     },
     "execution_count": 53,
     "metadata": {},
     "output_type": "execute_result"
    }
   ],
   "source": [
    "xg.score(X_test, y_test)"
   ]
  },
  {
   "cell_type": "code",
   "execution_count": 54,
   "metadata": {},
   "outputs": [
    {
     "name": "stdout",
     "output_type": "stream",
     "text": [
      "The last tree to show improvement was Tree #24.\n"
     ]
    }
   ],
   "source": [
    "print(f'The last tree to show improvement was Tree #{xg.best_ntree_limit}.')"
   ]
  },
  {
   "attachments": {},
   "cell_type": "markdown",
   "metadata": {},
   "source": [
    "#### Visualize the Model's Results"
   ]
  },
  {
   "cell_type": "code",
   "execution_count": 55,
   "metadata": {},
   "outputs": [],
   "source": [
    "results = xg.evals_result()"
   ]
  },
  {
   "cell_type": "code",
   "execution_count": 56,
   "metadata": {},
   "outputs": [
    {
     "data": {
      "text/plain": [
       "Text(0.5, 0, '# trees')"
      ]
     },
     "execution_count": 56,
     "metadata": {},
     "output_type": "execute_result"
    },
    {
     "data": {
      "image/png": "[encoded data removed]",
      "text/plain": [
       "<Figure size 500x400 with 1 Axes>"
      ]
     },
     "metadata": {},
     "output_type": "display_data"
    }
   ],
   "source": [
    "ax = (pd.DataFrame({'train': results['validation_0']['logloss'],\n",
    "                    'test': results['validation_1']['logloss']})\n",
    "    .assign(n_trees = lambda df: range(1, len(df)+1))  # why 'adf'?\n",
    "    .set_index('n_trees')\n",
    "    .plot(figsize=(5, 4), title='eval_results with early stopping')\n",
    ")\n",
    "ax.annotate('Best number \\nof trees (24)', xy=(24, .17498), xytext=(34, .32), arrowprops={'color': 'k'})\n",
    "ax.set_xlabel('# trees')"
   ]
  },
  {
   "attachments": {},
   "cell_type": "markdown",
   "metadata": {},
   "source": [
    "Note: the blue _train_ line keeps decreasing by design...the model voraciously improves with each iteration.  However, these improvements are just the model memorizing the training data.  If these improvement were truly helpful the orange _test_ line would also decrease.\n",
    "\n",
    "Since the orange _test_ line flattens, that means any \"improvement\" on the training data isn't helping with classification of the testing data."
   ]
  },
  {
   "attachments": {},
   "cell_type": "markdown",
   "metadata": {},
   "source": [
    "### Model Evaluation"
   ]
  },
  {
   "cell_type": "code",
   "execution_count": 57,
   "metadata": {},
   "outputs": [],
   "source": [
    "from sklearn import metrics"
   ]
  },
  {
   "attachments": {},
   "cell_type": "markdown",
   "metadata": {},
   "source": [
    "#### Confusion Matrix"
   ]
  },
  {
   "cell_type": "code",
   "execution_count": 58,
   "metadata": {},
   "outputs": [
    {
     "data": {
      "text/plain": [
       "array([[8853,  284],\n",
       "       [ 531,  629]])"
      ]
     },
     "execution_count": 58,
     "metadata": {},
     "output_type": "execute_result"
    }
   ],
   "source": [
    "cm = metrics.confusion_matrix(y_test, xg.predict(X_test))\n",
    "cm"
   ]
  },
  {
   "cell_type": "code",
   "execution_count": 59,
   "metadata": {},
   "outputs": [
    {
     "data": {
      "text/plain": [
       "array([[0.96891759, 0.03108241],\n",
       "       [0.45775862, 0.54224138]])"
      ]
     },
     "execution_count": 59,
     "metadata": {},
     "output_type": "execute_result"
    }
   ],
   "source": [
    "# same info but repackaged with %\n",
    "cm_norm = metrics.confusion_matrix(y_test, xg.predict(X_test), normalize='true')\n",
    "cm_norm"
   ]
  },
  {
   "attachments": {},
   "cell_type": "markdown",
   "metadata": {},
   "source": [
    "Great...a bunch of numbers...not so easy to interpret.  If only we could visualize it..."
   ]
  },
  {
   "cell_type": "code",
   "execution_count": 60,
   "metadata": {},
   "outputs": [
    {
     "data": {
      "text/plain": [
       "<sklearn.metrics._plot.confusion_matrix.ConfusionMatrixDisplay at 0x283d15850>"
      ]
     },
     "execution_count": 60,
     "metadata": {},
     "output_type": "execute_result"
    },
    {
     "data": {
      "image/png": "[encoded data removed]",
      "text/plain": [
       "<Figure size 640x480 with 2 Axes>"
      ]
     },
     "metadata": {},
     "output_type": "display_data"
    }
   ],
   "source": [
    "cm_disp = metrics.ConfusionMatrixDisplay(confusion_matrix=cm,\n",
    "                                         display_labels=['no','yes']\n",
    "                                        )\n",
    "cm_disp.plot(cmap='Blues')"
   ]
  },
  {
   "cell_type": "code",
   "execution_count": 61,
   "metadata": {},
   "outputs": [
    {
     "data": {
      "text/plain": [
       "<sklearn.metrics._plot.confusion_matrix.ConfusionMatrixDisplay at 0x284025c50>"
      ]
     },
     "execution_count": 61,
     "metadata": {},
     "output_type": "execute_result"
    },
    {
     "data": {
      "image/png": "[encoded data removed]",
      "text/plain": [
       "<Figure size 640x480 with 2 Axes>"
      ]
     },
     "metadata": {},
     "output_type": "display_data"
    }
   ],
   "source": [
    "metrics.ConfusionMatrixDisplay(confusion_matrix=cm_norm).plot(cmap='Blues')"
   ]
  },
  {
   "attachments": {},
   "cell_type": "markdown",
   "metadata": {},
   "source": [
    "I like the normalized version...easier to interpret.  \n",
    "\n",
    "eg, our model only correctly predict the positive outcome 54% of the time.\n",
    "\n",
    "another way to say it:  our _false positive_ rate is 46%."
   ]
  },
  {
   "attachments": {},
   "cell_type": "markdown",
   "metadata": {},
   "source": [
    "#### Classification Report"
   ]
  },
  {
   "cell_type": "code",
   "execution_count": 62,
   "metadata": {},
   "outputs": [],
   "source": [
    "cr = metrics.classification_report(y_test, xg.predict(X_test),\n",
    "                                   target_names = ['N', 'Y']\n",
    "                                   )"
   ]
  },
  {
   "cell_type": "code",
   "execution_count": 63,
   "metadata": {},
   "outputs": [
    {
     "name": "stdout",
     "output_type": "stream",
     "text": [
      "              precision    recall  f1-score   support\n",
      "\n",
      "           N       0.94      0.97      0.96      9137\n",
      "           Y       0.69      0.54      0.61      1160\n",
      "\n",
      "    accuracy                           0.92     10297\n",
      "   macro avg       0.82      0.76      0.78     10297\n",
      "weighted avg       0.91      0.92      0.92     10297\n",
      "\n"
     ]
    }
   ],
   "source": [
    "print(cr)"
   ]
  },
  {
   "attachments": {},
   "cell_type": "markdown",
   "metadata": {},
   "source": [
    "_precision_ measures how often a model correctly predicts the positive class, without making false positive predictions.\n",
    "\n",
    "_recall_ is a metric that measures the model's ability to correctly identify positive samples without missing any, i.e., avoiding false negatives.\n",
    "\n",
    "_F1_ is the harmonic mean of _precision_ and _recall_.\n",
    "\n",
    "_support_ is simply the count of observation that went into the calculation.\n",
    "\n",
    "_macro avg_ is the average over all the classes.\n",
    "\n",
    "_weighted_avg_ is the weighted average over all the classes, with the weights being the counts of the actual classes."
   ]
  },
  {
   "attachments": {},
   "cell_type": "markdown",
   "metadata": {},
   "source": [
    "Deducing the report ..."
   ]
  },
  {
   "cell_type": "code",
   "execution_count": 64,
   "metadata": {},
   "outputs": [
    {
     "name": "stdout",
     "output_type": "stream",
     "text": [
      "precision_neg = 0.94\n",
      "precision_pos = 0.69\n",
      "precision_macro_avg = 0.82\n",
      "precision_weighted_avg = 0.91\n",
      "--------------------\n",
      "recall_neg = 0.97\n",
      "recall_pos = 0.54\n",
      "recall_avg = 0.76\n",
      "recall_wt_avg = 0.92\n",
      "--------------------\n",
      "f1_neg = 0.96\n",
      "f1_pos = 0.61\n",
      "f1_accuracy = 0.92\n",
      "f1_avg = 0.78\n",
      "f1_wt_avg = 0.92\n",
      "--------------------\n",
      "support_nope = 9137\n",
      "support_yup = 1160\n",
      "support_accuracy = 10297\n"
     ]
    }
   ],
   "source": [
    "n_total = cm.sum()\n",
    "n_neg_actual = cm[0, :].sum()\n",
    "n_pos_actual = cm[1, :].sum()\n",
    "n_neg_pred = cm[:, 0].sum()\n",
    "n_pos_pred = cm[:, 1].sum()\n",
    "n_true_neg = cm[0, 0]\n",
    "n_true_pos = cm[1, 1]\n",
    "n_false_neg = cm[0, 1]\n",
    "n_false_pos = cm[1, 0]\n",
    "n_correct = n_true_neg + n_true_pos\n",
    "\n",
    "p_precision_neg = n_true_neg / n_neg_pred\n",
    "p_precision_pos = n_true_pos / n_pos_pred\n",
    "p_precision_avg = (p_precision_neg + p_precision_pos) / 2\n",
    "p_precision_wt_avg = (n_neg_actual * p_precision_neg + n_pos_actual * p_precision_pos) / n_total\n",
    "p_recall_neg = n_true_neg / n_neg_actual\n",
    "p_recall_pos = n_true_pos / n_pos_actual\n",
    "p_recall_avg = (p_recall_neg + p_recall_pos) / 2\n",
    "p_recall_wt_avg = (p_recall_neg * n_neg_actual + p_recall_pos * n_pos_actual) / n_total\n",
    "\n",
    "# F1 is the harmonic mean of precision and recall\n",
    "f1_neg = 2 * p_precision_neg * p_recall_neg / (p_precision_neg + p_recall_neg)\n",
    "f1_pos = 2 * p_precision_pos * p_recall_pos / (p_precision_pos + p_recall_pos)\n",
    "f1_avg = 2 * p_precision_avg * p_recall_avg / (p_precision_avg + p_recall_avg)\n",
    "f1_wt_avg = 2 * p_precision_wt_avg * p_recall_wt_avg / (p_precision_wt_avg + p_recall_wt_avg)\n",
    "\n",
    "print(f'precision_neg = {p_precision_neg:.2}')\n",
    "print(f'precision_pos = {p_precision_pos:.2}')\n",
    "print(f'precision_macro_avg = {p_precision_avg:.2}')\n",
    "print(f'precision_weighted_avg = {p_precision_wt_avg:.2}')\n",
    "print('-'*20)\n",
    "print(f'recall_neg = {p_recall_neg:.2}')\n",
    "print(f'recall_pos = {p_recall_pos:.2}')\n",
    "print(f'recall_avg = {p_recall_avg:.2}')\n",
    "print(f'recall_wt_avg = {p_recall_wt_avg:.2}')\n",
    "print('-'*20)\n",
    "print(f'f1_neg = {f1_neg:.2}')\n",
    "print(f'f1_pos = {f1_pos:.2}')\n",
    "print(f'f1_accuracy = {n_correct/n_total:.2}')\n",
    "print(f'f1_avg = {f1_avg:.2}')\n",
    "print(f'f1_wt_avg = {f1_wt_avg:.2}')\n",
    "print('-'*20)\n",
    "print(f'support_nope = {n_true_neg + n_false_neg}')\n",
    "print(f'support_yup = {n_true_pos + n_false_pos}')\n",
    "print(f'support_accuracy = {n_total}')\n"
   ]
  },
  {
   "attachments": {},
   "cell_type": "markdown",
   "metadata": {},
   "source": [
    "Compare the above XGBoost model's classifcation report to the logistic regression's..."
   ]
  },
  {
   "cell_type": "code",
   "execution_count": 65,
   "metadata": {},
   "outputs": [
    {
     "name": "stdout",
     "output_type": "stream",
     "text": [
      "              precision    recall  f1-score   support\n",
      "\n",
      "           N       0.89      1.00      0.94      9137\n",
      "           Y       0.25      0.00      0.00      1160\n",
      "\n",
      "    accuracy                           0.89     10297\n",
      "   macro avg       0.57      0.50      0.47     10297\n",
      "weighted avg       0.82      0.89      0.83     10297\n",
      "\n"
     ]
    },
    {
     "name": "stderr",
     "output_type": "stream",
     "text": [
      "/Users/dude/repos/effective_xgboost/venv/lib/python3.11/site-packages/sklearn/base.py:432: UserWarning: X has feature names, but LogisticRegression was fitted without feature names\n",
      "  warnings.warn(\n"
     ]
    }
   ],
   "source": [
    "print(metrics.classification_report(y_test, lr.predict(X_test), target_names=['N', 'Y']))"
   ]
  },
  {
   "attachments": {},
   "cell_type": "markdown",
   "metadata": {},
   "source": [
    "Note: The lr's accuracy (89%) is comparable to XGBoost's (92%). But...\n",
    "\n",
    "But the precision (25% v. 69%) and recall (0% v. 54%) for positives are horrible."
   ]
  },
  {
   "attachments": {},
   "cell_type": "markdown",
   "metadata": {},
   "source": [
    "#### Precision-Recall Curve"
   ]
  },
  {
   "cell_type": "code",
   "execution_count": 66,
   "metadata": {},
   "outputs": [],
   "source": [
    "from yellowbrick import classifier \n",
    "from matplotlib import pyplot as plt"
   ]
  },
  {
   "cell_type": "code",
   "execution_count": 67,
   "metadata": {},
   "outputs": [
    {
     "data": {
      "image/png": "[encoded data removed]",
      "text/plain": [
       "<Figure size 800x400 with 1 Axes>"
      ]
     },
     "metadata": {},
     "output_type": "display_data"
    },
    {
     "data": {
      "text/plain": [
       "(0.0, 1.05)"
      ]
     },
     "execution_count": 67,
     "metadata": {},
     "output_type": "execute_result"
    }
   ],
   "source": [
    "fig, ax = plt.subplots(figsize=(8, 4))\n",
    "classifier.precision_recall_curve(xg, \n",
    "                                  X_train, y_train, \n",
    "                                  X_test, y_test, \n",
    "                                  micro=False, \n",
    "                                  macro=False, \n",
    "                                  ax=ax, \n",
    "                                  per_class=True\n",
    "                                  )\n",
    "ax.set_ylim((0, 1.05))"
   ]
  },
  {
   "attachments": {},
   "cell_type": "markdown",
   "metadata": {},
   "source": [
    "Interpretation: better models have a higher average precision.  ie, the higher the red dashed line, the better the model."
   ]
  },
  {
   "attachments": {},
   "cell_type": "markdown",
   "metadata": {},
   "source": [
    "#### Use the pipeline to train the model of various metrics"
   ]
  },
  {
   "cell_type": "code",
   "execution_count": 68,
   "metadata": {},
   "outputs": [],
   "source": [
    "from sklearn.metrics import make_scorer, f1_score, precision_score, recall_score, roc_auc_score, accuracy_score"
   ]
  },
  {
   "cell_type": "code",
   "execution_count": 69,
   "metadata": {},
   "outputs": [],
   "source": [
    "def metric_data(clf, X, y, metrics=['accuracy'], cv=4):\n",
    "    res = pd.DataFrame(model_selection.cross_validate(clf, \n",
    "                                                      X, y, \n",
    "                                                      cv=cv, \n",
    "                                                      scoring=metrics, \n",
    "                                                      return_train_score=True)\n",
    "                                                      )\n",
    "    \n",
    "    return res"
   ]
  },
  {
   "attachments": {},
   "cell_type": "markdown",
   "metadata": {},
   "source": [
    "_cv_ stands for cross validation. The idea behind cross validation is we want to eliminate the possibility of getting a lucky split between testing and training data so we do it multiple times.  \n",
    "\n",
    "How many times?  Well, that's the value of the parameter."
   ]
  },
  {
   "cell_type": "code",
   "execution_count": 70,
   "metadata": {},
   "outputs": [],
   "source": [
    "pl = pipeline.Pipeline(\n",
    "    [('tweak', BankTransformer()),\n",
    "     ('category_encoder', encoding.OneHotEncoder(top_categories=5, drop_last=True)),\n",
    "     ('xg', xgb.XGBClassifier()),\n",
    "    ],\n",
    "    # memory='/tmp'\n",
    ")"
   ]
  },
  {
   "cell_type": "code",
   "execution_count": 71,
   "metadata": {},
   "outputs": [],
   "source": [
    "sample_size = 1000\n",
    "small_data = bank.sample(sample_size).drop(columns=['y'])\n",
    "small_y = bank.loc[small_data.index].y == 'yes'"
   ]
  },
  {
   "cell_type": "code",
   "execution_count": 72,
   "metadata": {},
   "outputs": [],
   "source": [
    "scorers = {\n",
    "    'f1_score': make_scorer(f1_score, average='micro'),\n",
    "    'precision_score': make_scorer(precision_score, average='micro'),\n",
    "    'recall_score': make_scorer(recall_score, average='micro'),\n",
    "    'accuracy_score': make_scorer(accuracy_score),\n",
    "    'roc_auc_score': make_scorer(roc_auc_score),\n",
    "}"
   ]
  },
  {
   "cell_type": "code",
   "execution_count": 73,
   "metadata": {},
   "outputs": [
    {
     "data": {
      "text/html": [
       "<div>\n",
       "<style scoped>\n",
       "    .dataframe tbody tr th:only-of-type {\n",
       "        vertical-align: middle;\n",
       "    }\n",
       "\n",
       "    .dataframe tbody tr th {\n",
       "        vertical-align: top;\n",
       "    }\n",
       "\n",
       "    .dataframe thead th {\n",
       "        text-align: right;\n",
       "    }\n",
       "</style>\n",
       "<table border=\"1\" class=\"dataframe\">\n",
       "  <thead>\n",
       "    <tr style=\"text-align: right;\">\n",
       "      <th></th>\n",
       "      <th>fit_time</th>\n",
       "      <th>score_time</th>\n",
       "      <th>test_f1_score</th>\n",
       "      <th>train_f1_score</th>\n",
       "      <th>test_precision_score</th>\n",
       "      <th>train_precision_score</th>\n",
       "      <th>test_recall_score</th>\n",
       "      <th>train_recall_score</th>\n",
       "      <th>test_accuracy_score</th>\n",
       "      <th>train_accuracy_score</th>\n",
       "      <th>test_roc_auc_score</th>\n",
       "      <th>train_roc_auc_score</th>\n",
       "    </tr>\n",
       "  </thead>\n",
       "  <tbody>\n",
       "    <tr>\n",
       "      <th>0</th>\n",
       "      <td>8.733688</td>\n",
       "      <td>0.016643</td>\n",
       "      <td>0.908</td>\n",
       "      <td>1.0</td>\n",
       "      <td>0.908</td>\n",
       "      <td>1.0</td>\n",
       "      <td>0.908</td>\n",
       "      <td>1.0</td>\n",
       "      <td>0.908</td>\n",
       "      <td>1.0</td>\n",
       "      <td>0.700000</td>\n",
       "      <td>1.0</td>\n",
       "    </tr>\n",
       "    <tr>\n",
       "      <th>1</th>\n",
       "      <td>7.354067</td>\n",
       "      <td>0.066267</td>\n",
       "      <td>0.924</td>\n",
       "      <td>1.0</td>\n",
       "      <td>0.924</td>\n",
       "      <td>1.0</td>\n",
       "      <td>0.924</td>\n",
       "      <td>1.0</td>\n",
       "      <td>0.924</td>\n",
       "      <td>1.0</td>\n",
       "      <td>0.736607</td>\n",
       "      <td>1.0</td>\n",
       "    </tr>\n",
       "    <tr>\n",
       "      <th>2</th>\n",
       "      <td>8.352641</td>\n",
       "      <td>0.035393</td>\n",
       "      <td>0.908</td>\n",
       "      <td>1.0</td>\n",
       "      <td>0.908</td>\n",
       "      <td>1.0</td>\n",
       "      <td>0.908</td>\n",
       "      <td>1.0</td>\n",
       "      <td>0.908</td>\n",
       "      <td>1.0</td>\n",
       "      <td>0.727679</td>\n",
       "      <td>1.0</td>\n",
       "    </tr>\n",
       "    <tr>\n",
       "      <th>3</th>\n",
       "      <td>10.932882</td>\n",
       "      <td>0.020108</td>\n",
       "      <td>0.892</td>\n",
       "      <td>1.0</td>\n",
       "      <td>0.892</td>\n",
       "      <td>1.0</td>\n",
       "      <td>0.892</td>\n",
       "      <td>1.0</td>\n",
       "      <td>0.892</td>\n",
       "      <td>1.0</td>\n",
       "      <td>0.599760</td>\n",
       "      <td>1.0</td>\n",
       "    </tr>\n",
       "  </tbody>\n",
       "</table>\n",
       "</div>"
      ],
      "text/plain": [
       "    fit_time  score_time  test_f1_score  train_f1_score  test_precision_score  \\\n",
       "0   8.733688    0.016643          0.908             1.0                 0.908   \n",
       "1   7.354067    0.066267          0.924             1.0                 0.924   \n",
       "2   8.352641    0.035393          0.908             1.0                 0.908   \n",
       "3  10.932882    0.020108          0.892             1.0                 0.892   \n",
       "\n",
       "   train_precision_score  test_recall_score  train_recall_score  \\\n",
       "0                    1.0              0.908                 1.0   \n",
       "1                    1.0              0.924                 1.0   \n",
       "2                    1.0              0.908                 1.0   \n",
       "3                    1.0              0.892                 1.0   \n",
       "\n",
       "   test_accuracy_score  train_accuracy_score  test_roc_auc_score  \\\n",
       "0                0.908                   1.0            0.700000   \n",
       "1                0.924                   1.0            0.736607   \n",
       "2                0.908                   1.0            0.727679   \n",
       "3                0.892                   1.0            0.599760   \n",
       "\n",
       "   train_roc_auc_score  \n",
       "0                  1.0  \n",
       "1                  1.0  \n",
       "2                  1.0  \n",
       "3                  1.0  "
      ]
     },
     "execution_count": 73,
     "metadata": {},
     "output_type": "execute_result"
    }
   ],
   "source": [
    "xg_data = metric_data(pl, small_data, small_y, metrics=scorers)\n",
    "xg_data"
   ]
  },
  {
   "attachments": {},
   "cell_type": "markdown",
   "metadata": {},
   "source": [
    "Note: The _train_ scores look great...but who cares?  We want the _test_ scores to be good.  Any model can overfit the training data."
   ]
  },
  {
   "cell_type": "code",
   "execution_count": 74,
   "metadata": {},
   "outputs": [],
   "source": [
    "pl_lr = pipeline.Pipeline(\n",
    "    [('tweak', BankTransformer()),\n",
    "     ('cat_encoder', encoding.OneHotEncoder(top_categories=5, drop_last=True)),\n",
    "     ('standardize', preprocessing.StandardScaler()),\n",
    "     ('lr', linear_model.LogisticRegression(penalty=None, max_iter=300)),\n",
    "    ],\n",
    "    # memory='/tmp'\n",
    ")"
   ]
  },
  {
   "cell_type": "code",
   "execution_count": 75,
   "metadata": {},
   "outputs": [
    {
     "data": {
      "text/html": [
       "<div>\n",
       "<style scoped>\n",
       "    .dataframe tbody tr th:only-of-type {\n",
       "        vertical-align: middle;\n",
       "    }\n",
       "\n",
       "    .dataframe tbody tr th {\n",
       "        vertical-align: top;\n",
       "    }\n",
       "\n",
       "    .dataframe thead th {\n",
       "        text-align: right;\n",
       "    }\n",
       "</style>\n",
       "<table border=\"1\" class=\"dataframe\">\n",
       "  <thead>\n",
       "    <tr style=\"text-align: right;\">\n",
       "      <th></th>\n",
       "      <th>fit_time</th>\n",
       "      <th>score_time</th>\n",
       "      <th>test_f1_score</th>\n",
       "      <th>train_f1_score</th>\n",
       "      <th>test_precision_score</th>\n",
       "      <th>train_precision_score</th>\n",
       "      <th>test_recall_score</th>\n",
       "      <th>train_recall_score</th>\n",
       "      <th>test_accuracy_score</th>\n",
       "      <th>train_accuracy_score</th>\n",
       "      <th>test_roc_auc_score</th>\n",
       "      <th>train_roc_auc_score</th>\n",
       "    </tr>\n",
       "  </thead>\n",
       "  <tbody>\n",
       "    <tr>\n",
       "      <th>0</th>\n",
       "      <td>16.830996</td>\n",
       "      <td>0.051681</td>\n",
       "      <td>0.900</td>\n",
       "      <td>0.942667</td>\n",
       "      <td>0.900</td>\n",
       "      <td>0.942667</td>\n",
       "      <td>0.900</td>\n",
       "      <td>0.942667</td>\n",
       "      <td>0.900</td>\n",
       "      <td>0.942667</td>\n",
       "      <td>0.713333</td>\n",
       "      <td>0.815018</td>\n",
       "    </tr>\n",
       "    <tr>\n",
       "      <th>1</th>\n",
       "      <td>7.980958</td>\n",
       "      <td>0.136057</td>\n",
       "      <td>0.896</td>\n",
       "      <td>0.930667</td>\n",
       "      <td>0.896</td>\n",
       "      <td>0.930667</td>\n",
       "      <td>0.896</td>\n",
       "      <td>0.930667</td>\n",
       "      <td>0.896</td>\n",
       "      <td>0.930667</td>\n",
       "      <td>0.618990</td>\n",
       "      <td>0.754347</td>\n",
       "    </tr>\n",
       "    <tr>\n",
       "      <th>2</th>\n",
       "      <td>9.734663</td>\n",
       "      <td>0.160770</td>\n",
       "      <td>0.908</td>\n",
       "      <td>0.921333</td>\n",
       "      <td>0.908</td>\n",
       "      <td>0.921333</td>\n",
       "      <td>0.908</td>\n",
       "      <td>0.921333</td>\n",
       "      <td>0.908</td>\n",
       "      <td>0.921333</td>\n",
       "      <td>0.761676</td>\n",
       "      <td>0.714643</td>\n",
       "    </tr>\n",
       "    <tr>\n",
       "      <th>3</th>\n",
       "      <td>8.365770</td>\n",
       "      <td>0.066074</td>\n",
       "      <td>0.896</td>\n",
       "      <td>0.930667</td>\n",
       "      <td>0.896</td>\n",
       "      <td>0.930667</td>\n",
       "      <td>0.896</td>\n",
       "      <td>0.930667</td>\n",
       "      <td>0.896</td>\n",
       "      <td>0.930667</td>\n",
       "      <td>0.601992</td>\n",
       "      <td>0.754347</td>\n",
       "    </tr>\n",
       "  </tbody>\n",
       "</table>\n",
       "</div>"
      ],
      "text/plain": [
       "    fit_time  score_time  test_f1_score  train_f1_score  test_precision_score  \\\n",
       "0  16.830996    0.051681          0.900        0.942667                 0.900   \n",
       "1   7.980958    0.136057          0.896        0.930667                 0.896   \n",
       "2   9.734663    0.160770          0.908        0.921333                 0.908   \n",
       "3   8.365770    0.066074          0.896        0.930667                 0.896   \n",
       "\n",
       "   train_precision_score  test_recall_score  train_recall_score  \\\n",
       "0               0.942667              0.900            0.942667   \n",
       "1               0.930667              0.896            0.930667   \n",
       "2               0.921333              0.908            0.921333   \n",
       "3               0.930667              0.896            0.930667   \n",
       "\n",
       "   test_accuracy_score  train_accuracy_score  test_roc_auc_score  \\\n",
       "0                0.900              0.942667            0.713333   \n",
       "1                0.896              0.930667            0.618990   \n",
       "2                0.908              0.921333            0.761676   \n",
       "3                0.896              0.930667            0.601992   \n",
       "\n",
       "   train_roc_auc_score  \n",
       "0             0.815018  \n",
       "1             0.754347  \n",
       "2             0.714643  \n",
       "3             0.754347  "
      ]
     },
     "execution_count": 75,
     "metadata": {},
     "output_type": "execute_result"
    }
   ],
   "source": [
    "lr_data = metric_data(pl_lr, small_data, small_y, metrics=scorers)\n",
    "lr_data"
   ]
  },
  {
   "attachments": {},
   "cell_type": "markdown",
   "metadata": {},
   "source": [
    "Comparing the two model's scores, we see the XGBoost model has way better ROC scores."
   ]
  },
  {
   "cell_type": "code",
   "execution_count": 76,
   "metadata": {},
   "outputs": [
    {
     "data": {
      "text/plain": [
       "<matplotlib.legend.Legend at 0x284105850>"
      ]
     },
     "execution_count": 76,
     "metadata": {},
     "output_type": "execute_result"
    },
    {
     "data": {
      "image/png": "[encoded data removed]",
      "text/plain": [
       "<Figure size 800x550 with 1 Axes>"
      ]
     },
     "metadata": {},
     "output_type": "display_data"
    }
   ],
   "source": [
    "(xg_data\n",
    " .assign(type='xg')\n",
    " .pipe(lambda df: pd.concat([df, lr_data.assign(type='lr')]))\n",
    " .drop(columns=['fit_time', 'score_time'])\n",
    " .groupby('type')\n",
    " .mean()\n",
    " .plot.bar()\n",
    " .legend(bbox_to_anchor=(1,1))\n",
    ")"
   ]
  },
  {
   "attachments": {},
   "cell_type": "markdown",
   "metadata": {},
   "source": [
    "### Tuning Models"
   ]
  },
  {
   "cell_type": "code",
   "execution_count": 86,
   "metadata": {},
   "outputs": [],
   "source": [
    "from hyperopt import fmin, tpe, hp, Trials, STATUS_OK\n",
    "from sklearn.metrics import accuracy_score, roc_auc_score\n",
    "from typing import Any, Dict, Union\n",
    "import xgboost as xgb "
   ]
  },
  {
   "cell_type": "code",
   "execution_count": 82,
   "metadata": {},
   "outputs": [],
   "source": [
    "def hyperparameter_tuning(space: Dict[str, Union[float, int]],\n",
    "                          X_train: pd.DataFrame,\n",
    "                          y_train: pd.Series,\n",
    "                          X_test: pd.DataFrame,\n",
    "                          y_test: pd.Series,\n",
    "                          early_stopping_rounds: int=50,\n",
    "                          metric:callable=accuracy_score) -> Dict[str, Any]:\n",
    "    \n",
    "    # set the hyperparameters\n",
    "    int_vals = ['max_depth', 'reg_alpha']\n",
    "    space = {k: (int(val) if k in int_vals else val) for k, val in space.items()}\n",
    "    space['early_stopping_rounds'] = early_stopping_rounds\n",
    "    \n",
    "    # run the model\n",
    "    model = xgb.XGBClassifier(**space)\n",
    "    evaluation = [(X_train, y_train), (X_test, y_test)]\n",
    "    model.fit(X_train, y_train, eval_set=evaluation, verbose=False)\n",
    "\n",
    "    # use the model to predict\n",
    "    pred = model.predict(X_test)\n",
    "    score = metric(y_test, pred)    \n",
    "\n",
    "    return {'loss': -score, 'status': STATUS_OK, 'model': model}"
   ]
  },
  {
   "cell_type": "code",
   "execution_count": 83,
   "metadata": {},
   "outputs": [],
   "source": [
    "params = {'random_state': 42, 'eval_metric': 'aucpr'}"
   ]
  },
  {
   "cell_type": "code",
   "execution_count": 84,
   "metadata": {},
   "outputs": [],
   "source": [
    "rounds = [\n",
    "    {'max_depth': hp.quniform('max_depth', 1, 8, 1),                 # tree options\n",
    "     'min_child_weight': hp.loguniform('min_child_weight', -2, 3)},  # mcw proxy for how many times you split the tree\n",
    "    {'scale_pos_weight': hp.uniform('scale_pos_weight', 0, 10),      # account for imbalanced data options\n",
    "     'max_delta_step': hp.uniform('max_delta_step', 0, 10)},\n",
    "    {'subsample': hp.uniform('subsample', 0.5, 1),                   # sampling options\n",
    "     'colsample_bytree': hp.uniform('colsample_bytree', 0.5, 1)},\n",
    "    {'reg_alpha': hp.uniform('reg_alpha', 0, 10),                    # regularization options\n",
    "     'reg_lambda': hp.uniform('reg_lambda', 1, 10)},\n",
    "    {'gamma': hp.loguniform('gamma', -10, 10)},                      # more regularization\n",
    "    {'learning_rate': hp.loguniform('learning_rate', -7, 0)}         # boosting options\n",
    "]"
   ]
  },
  {
   "cell_type": "code",
   "execution_count": 87,
   "metadata": {},
   "outputs": [
    {
     "name": "stdout",
     "output_type": "stream",
     "text": [
      "100%|██████████| 20/20 [00:23<00:00,  1.20s/trial, best loss: -0.9229872778479169]\n",
      "100%|██████████| 20/20 [00:24<00:00,  1.22s/trial, best loss: -0.921530542876566]\n",
      "100%|██████████| 20/20 [00:22<00:00,  1.15s/trial, best loss: -0.9227930465184034]\n",
      "100%|██████████| 20/20 [00:26<00:00,  1.33s/trial, best loss: -0.9241526658249976]\n",
      "100%|██████████| 20/20 [00:23<00:00,  1.17s/trial, best loss: -0.9241526658249976]\n",
      "100%|██████████| 20/20 [00:27<00:00,  1.38s/trial, best loss: -0.9226959308536467]\n"
     ]
    }
   ],
   "source": [
    "all_trials = []\n",
    "for round in rounds: \n",
    "    params = {**params, **round}\n",
    "    trials = Trials()\n",
    "    best = fmin(fn=lambda space: hyperparameter_tuning(space, X_train, y_train, X_test, y_test),\n",
    "                space=params,\n",
    "                algo=tpe.suggest,\n",
    "                max_evals=20,\n",
    "                trials=trials\n",
    "    )\n",
    "    params = {**params, **best}\n",
    "    all_trials.append(trials)"
   ]
  },
  {
   "cell_type": "code",
   "execution_count": 88,
   "metadata": {},
   "outputs": [
    {
     "data": {
      "text/plain": [
       "{'random_state': 42,\n",
       " 'eval_metric': 'aucpr',\n",
       " 'max_depth': 5.0,\n",
       " 'min_child_weight': 0.2230330441876938,\n",
       " 'scale_pos_weight': 1.0865046299582881,\n",
       " 'max_delta_step': 4.297694763018506,\n",
       " 'subsample': 0.9089355520087387,\n",
       " 'colsample_bytree': 0.952415964482767,\n",
       " 'reg_alpha': 5.9004676464709185,\n",
       " 'reg_lambda': 3.5582562116973637,\n",
       " 'gamma': 0.00021318496504479342,\n",
       " 'learning_rate': 0.2090829205651908}"
      ]
     },
     "execution_count": 88,
     "metadata": {},
     "output_type": "execute_result"
    }
   ],
   "source": [
    "params"
   ]
  },
  {
   "cell_type": "code",
   "execution_count": 89,
   "metadata": {},
   "outputs": [],
   "source": [
    "step_params = params"
   ]
  },
  {
   "cell_type": "code",
   "execution_count": 91,
   "metadata": {},
   "outputs": [],
   "source": [
    "step_params['max_depth'] = int(step_params['max_depth'])"
   ]
  },
  {
   "cell_type": "code",
   "execution_count": 93,
   "metadata": {},
   "outputs": [
    {
     "name": "stdout",
     "output_type": "stream",
     "text": [
      "[0]\tvalidation_0-aucpr:0.63279\tvalidation_1-aucpr:0.64079\n",
      "[100]\tvalidation_0-aucpr:0.77947\tvalidation_1-aucpr:0.68293\n",
      "[143]\tvalidation_0-aucpr:0.80705\tvalidation_1-aucpr:0.67845\n"
     ]
    },
    {
     "data": {
      "text/plain": [
       "0.9225016995241332"
      ]
     },
     "execution_count": 93,
     "metadata": {},
     "output_type": "execute_result"
    }
   ],
   "source": [
    "xg_step = xgb.XGBClassifier(**step_params, early_stopping_rounds=100, n_estimators=250)\n",
    "xg_step.fit(X_train, \n",
    "            y_train, \n",
    "            eval_set=[(X_train, y_train), (X_test, y_test)],\n",
    "            verbose=100\n",
    ")\n",
    "xg_step.score(X_test, y_test)"
   ]
  },
  {
   "cell_type": "code",
   "execution_count": 94,
   "metadata": {},
   "outputs": [
    {
     "data": {
      "text/plain": [
       "44"
      ]
     },
     "execution_count": 94,
     "metadata": {},
     "output_type": "execute_result"
    }
   ],
   "source": [
    "xg_step.best_ntree_limit"
   ]
  },
  {
   "attachments": {},
   "cell_type": "markdown",
   "metadata": {},
   "source": [
    "Q: How does this new model compare to our default model?"
   ]
  },
  {
   "cell_type": "code",
   "execution_count": 95,
   "metadata": {},
   "outputs": [
    {
     "data": {
      "text/plain": [
       "0.9185199572691075"
      ]
     },
     "execution_count": 95,
     "metadata": {},
     "output_type": "execute_result"
    }
   ],
   "source": [
    "xg_default = xgb.XGBClassifier()\n",
    "xg_default.fit(X_train, y_train)\n",
    "xg_default.score(X_test, y_test)"
   ]
  },
  {
   "attachments": {},
   "cell_type": "markdown",
   "metadata": {},
   "source": [
    "A: We improved from our default of 91.85 to 92.25.  And there was much rejoicing."
   ]
  },
  {
   "cell_type": "code",
   "execution_count": 96,
   "metadata": {},
   "outputs": [],
   "source": [
    "import matplotlib.pyplot as plt \n",
    "from sklearn import metrics"
   ]
  },
  {
   "cell_type": "code",
   "execution_count": 97,
   "metadata": {},
   "outputs": [
    {
     "data": {
      "text/plain": [
       "[Text(0.5, 1.0, 'ROC plots for step model')]"
      ]
     },
     "execution_count": 97,
     "metadata": {},
     "output_type": "execute_result"
    },
    {
     "data": {
      "image/png": "[encoded data removed]",
      "text/plain": [
       "<Figure size 800x400 with 2 Axes>"
      ]
     },
     "metadata": {},
     "output_type": "display_data"
    }
   ],
   "source": [
    "fig, axes = plt.subplots(figsize=(8, 4), ncols=2)\n",
    "\n",
    "metrics.RocCurveDisplay.from_estimator(xg_default, X_train, y_train, ax=axes[0], label='default train')\n",
    "metrics.RocCurveDisplay.from_estimator(xg_default, X_test, y_test, ax=axes[0], label='default test')\n",
    "axes[0].set(title='ROC plots for default model')\n",
    "\n",
    "metrics.RocCurveDisplay.from_estimator(xg_step, X_train, y_train, ax=axes[1], label='step train')\n",
    "metrics.RocCurveDisplay.from_estimator(xg_step, X_test, y_test, ax=axes[1], label='step test')\n",
    "axes[1].set(title='ROC plots for step model')\n"
   ]
  },
  {
   "attachments": {},
   "cell_type": "markdown",
   "metadata": {},
   "source": [
    "### ROC Interpretation\n",
    "The higher and more left, the better.\n",
    "\n",
    "Note how the default model overfits the training data (as evidenced by the gap between the curves).\n",
    "\n",
    "We naturally expect the test curve to be a _little_ worse but not gapingly so."
   ]
  },
  {
   "cell_type": "code",
   "execution_count": 98,
   "metadata": {},
   "outputs": [],
   "source": [
    "from yellowbrick import classifier"
   ]
  },
  {
   "cell_type": "code",
   "execution_count": 100,
   "metadata": {},
   "outputs": [
    {
     "data": {
      "text/plain": [
       "[Text(0.5, 1.0, 'PR plots for stepwise model')]"
      ]
     },
     "execution_count": 100,
     "metadata": {},
     "output_type": "execute_result"
    },
    {
     "data": {
      "image/png": "[encoded data removed]",
      "text/plain": [
       "<Figure size 800x400 with 2 Axes>"
      ]
     },
     "metadata": {},
     "output_type": "display_data"
    }
   ],
   "source": [
    "fig, axes = plt.subplots(figsize=(8, 4), ncols=2)\n",
    "\n",
    "classifier.precision_recall_curve(xg_default, X_train, y_train, X_test, y_test,\n",
    "                                  micro=False,\n",
    "                                  macro=False,\n",
    "                                  ax=axes[0],\n",
    "                                  per_class=True,\n",
    "                                  show=False\n",
    ")\n",
    "axes[0].set(title='PR plots for default model')\n",
    "\n",
    "classifier.precision_recall_curve(xg_step, X_train, y_train, X_test, y_test,\n",
    "                                  micro=False,\n",
    "                                  macro=False,\n",
    "                                  ax=axes[1],\n",
    "                                  per_class=True,\n",
    "                                  show=False\n",
    ")\n",
    "axes[1].set(title='PR plots for stepwise model')\n"
   ]
  },
  {
   "attachments": {},
   "cell_type": "markdown",
   "metadata": {},
   "source": [
    "Since the precision increased, we can conclude we have a better model.  Now rejoice for realsies."
   ]
  },
  {
   "cell_type": "code",
   "execution_count": 101,
   "metadata": {},
   "outputs": [
    {
     "data": {
      "text/plain": [
       "<sklearn.metrics._plot.confusion_matrix.ConfusionMatrixDisplay at 0x290ecfc10>"
      ]
     },
     "execution_count": 101,
     "metadata": {},
     "output_type": "execute_result"
    },
    {
     "data": {
      "image/png": "[encoded data removed]",
      "text/plain": [
       "<Figure size 800x550 with 2 Axes>"
      ]
     },
     "metadata": {},
     "output_type": "display_data"
    }
   ],
   "source": [
    "cm = metrics.confusion_matrix(y_test, xg_step.predict(X_test), normalize='true')\n",
    "disp = metrics.ConfusionMatrixDisplay(confusion_matrix=cm, display_labels=['no', 'yes'])\n",
    "disp.plot(cmap='Blues')"
   ]
  },
  {
   "attachments": {},
   "cell_type": "markdown",
   "metadata": {},
   "source": [
    "The confusion matrix also show an improvement in the true positive case (from .54 to .58).  Rejoice already!"
   ]
  },
  {
   "cell_type": "code",
   "execution_count": null,
   "metadata": {},
   "outputs": [],
   "source": []
  },
  {
   "cell_type": "code",
   "execution_count": null,
   "metadata": {},
   "outputs": [],
   "source": []
  },
  {
   "cell_type": "code",
   "execution_count": null,
   "metadata": {},
   "outputs": [],
   "source": []
  },
  {
   "cell_type": "code",
   "execution_count": null,
   "metadata": {},
   "outputs": [],
   "source": []
  },
  {
   "attachments": {},
   "cell_type": "markdown",
   "metadata": {},
   "source": [
    "### Data Size"
   ]
  },
  {
   "attachments": {},
   "cell_type": "markdown",
   "metadata": {},
   "source": [
    "### Interpretation"
   ]
  },
  {
   "attachments": {},
   "cell_type": "markdown",
   "metadata": {},
   "source": [
    "### SHAP"
   ]
  },
  {
   "attachments": {},
   "cell_type": "markdown",
   "metadata": {},
   "source": [
    "### Monotonic Constraints"
   ]
  },
  {
   "attachments": {},
   "cell_type": "markdown",
   "metadata": {},
   "source": [
    "### Persisting the Model"
   ]
  },
  {
   "attachments": {},
   "cell_type": "markdown",
   "metadata": {},
   "source": [
    "### Creating an API"
   ]
  }
 ],
 "metadata": {
  "kernelspec": {
   "display_name": "venv",
   "language": "python",
   "name": "python3"
  },
  "language_info": {
   "codemirror_mode": {
    "name": "ipython",
    "version": 3
   },
   "file_extension": ".py",
   "mimetype": "text/x-python",
   "name": "python",
   "nbconvert_exporter": "python",
   "pygments_lexer": "ipython3",
   "version": "3.11.0"
  },
  "orig_nbformat": 4
 },
 "nbformat": 4,
 "nbformat_minor": 2
}
